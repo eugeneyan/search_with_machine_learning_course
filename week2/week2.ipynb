{
 "cells": [
  {
   "cell_type": "code",
   "execution_count": 78,
   "id": "ca7f5022",
   "metadata": {},
   "outputs": [],
   "source": [
    "import pandas as pd\n",
    "import fasttext\n",
    "from logger import logger\n",
    "\n",
    "import multiprocessing\n",
    "import glob\n",
    "from tqdm import tqdm\n",
    "import xml.etree.ElementTree as ET\n",
    "from itertools import chain\n",
    "import numpy as np\n",
    "import csv"
   ]
  },
  {
   "cell_type": "code",
   "execution_count": 4,
   "id": "5572f9a9",
   "metadata": {},
   "outputs": [
    {
     "name": "stderr",
     "output_type": "stream",
     "text": [
      "2023-03-11 19:07:19,981 - test\n"
     ]
    }
   ],
   "source": [
    "logger.info('test')"
   ]
  },
  {
   "cell_type": "markdown",
   "id": "0b904bf6",
   "metadata": {},
   "source": [
    "# Level 1: Classifying Product Names to Categories"
   ]
  },
  {
   "cell_type": "markdown",
   "id": "3d4d7575",
   "metadata": {},
   "source": [
    "## Data preparation"
   ]
  },
  {
   "cell_type": "code",
   "execution_count": null,
   "id": "c3b9d9e7",
   "metadata": {},
   "outputs": [],
   "source": [
    "# !python createContentTrainingData.py --output /workspace/datasets/fasttext/labeled_products.txt"
   ]
  },
  {
   "cell_type": "code",
   "execution_count": null,
   "id": "4941691b",
   "metadata": {},
   "outputs": [],
   "source": [
    "# !head -1 /workspace/datasets/fasttext/labeled_products.txt"
   ]
  },
  {
   "cell_type": "code",
   "execution_count": null,
   "id": "951b0d2f",
   "metadata": {},
   "outputs": [],
   "source": [
    "# !tail -1 /workspace/datasets/fasttext/labeled_products.txt"
   ]
  },
  {
   "cell_type": "code",
   "execution_count": null,
   "id": "0be7c519",
   "metadata": {},
   "outputs": [],
   "source": [
    "# Runs fine in command line\n",
    "## !shuf /workspace/datasets/fasttext/labeled_products.txt --random-source=<(seq 99999) > /workspace/datasets/fasttext/shuffled_labeled_products.txt"
   ]
  },
  {
   "cell_type": "code",
   "execution_count": null,
   "id": "090f7f9f",
   "metadata": {},
   "outputs": [],
   "source": [
    "# !head -10000 /workspace/datasets/fasttext/shuffled_labeled_products.txt > /workspace/datasets/fasttext/training_data.txt\n",
    "# !tail -10000 /workspace/datasets/fasttext/shuffled_labeled_products.txt > /workspace/datasets/fasttext/test_data.txt"
   ]
  },
  {
   "cell_type": "code",
   "execution_count": null,
   "id": "ec2e88d5",
   "metadata": {},
   "outputs": [],
   "source": [
    "# !wc /workspace/datasets/fasttext/training_data.txt"
   ]
  },
  {
   "cell_type": "code",
   "execution_count": null,
   "id": "62fbda43",
   "metadata": {},
   "outputs": [],
   "source": [
    "# !wc /workspace/datasets/fasttext/test_data.txt"
   ]
  },
  {
   "cell_type": "markdown",
   "id": "80e5cc9c",
   "metadata": {},
   "source": [
    "## Training default model"
   ]
  },
  {
   "cell_type": "code",
   "execution_count": 4,
   "id": "d9396dec",
   "metadata": {},
   "outputs": [
    {
     "name": "stderr",
     "output_type": "stream",
     "text": [
      "Read 0M words\n",
      "Number of words:  10754\n",
      "Number of labels: 1341\n",
      "Progress: 100.0% words/sec/thread:    7868 lr:  0.000000 avg.loss: 13.822425 ETA:   0h 0m 0s\n"
     ]
    }
   ],
   "source": [
    "product_classifier = fasttext.train_supervised(input='/workspace/datasets/fasttext/training_data.txt')"
   ]
  },
  {
   "cell_type": "code",
   "execution_count": 5,
   "id": "6bded88c",
   "metadata": {},
   "outputs": [
    {
     "data": {
      "text/plain": [
       "(('__label__abcat0101001',), array([0.56883866]))"
      ]
     },
     "execution_count": 5,
     "metadata": {},
     "output_type": "execute_result"
    }
   ],
   "source": [
    "product_classifier.predict('Sharp - 46\" 1080p Flat-Panel LCD HDTV')"
   ]
  },
  {
   "cell_type": "code",
   "execution_count": 6,
   "id": "5ab3abe7",
   "metadata": {},
   "outputs": [
    {
     "data": {
      "text/plain": [
       "(('__label__pcmcat180400050006',), array([0.32290113]))"
      ]
     },
     "execution_count": 6,
     "metadata": {},
     "output_type": "execute_result"
    }
   ],
   "source": [
    "product_classifier.predict('Nikon D3000 10.2MP Digital SLR with Extra 55-200mm Lens, Tripod and Bag')"
   ]
  },
  {
   "cell_type": "code",
   "execution_count": 7,
   "id": "5a42d810",
   "metadata": {},
   "outputs": [
    {
     "data": {
      "text/plain": [
       "(('__label__pcmcat247400050000',), array([0.09211702]))"
      ]
     },
     "execution_count": 7,
     "metadata": {},
     "output_type": "execute_result"
    }
   ],
   "source": [
    "product_classifier.predict('Sony - VAIO Laptop with Intel® Centrino® Processor Technology - Sangria Red')"
   ]
  },
  {
   "cell_type": "markdown",
   "id": "20b499cb",
   "metadata": {},
   "source": [
    "## Check labels"
   ]
  },
  {
   "cell_type": "code",
   "execution_count": 8,
   "id": "f79634d8",
   "metadata": {},
   "outputs": [],
   "source": [
    "import xmltodict"
   ]
  },
  {
   "cell_type": "code",
   "execution_count": 9,
   "id": "fad1e9b9",
   "metadata": {},
   "outputs": [],
   "source": [
    "# Parse xml into dictionary\n",
    "with open('/workspace/datasets/product_data/categories/categories_0001_abcat0010000_to_pcmcat99300050000.xml') as fd:\n",
    "    category = xmltodict.parse(fd.read())"
   ]
  },
  {
   "cell_type": "code",
   "execution_count": 10,
   "id": "b579f3b7",
   "metadata": {},
   "outputs": [],
   "source": [
    "cat_df = pd.DataFrame(category['categories']['category'])"
   ]
  },
  {
   "cell_type": "code",
   "execution_count": 11,
   "id": "800f3f60",
   "metadata": {},
   "outputs": [
    {
     "data": {
      "text/html": [
       "<div>\n",
       "<style scoped>\n",
       "    .dataframe tbody tr th:only-of-type {\n",
       "        vertical-align: middle;\n",
       "    }\n",
       "\n",
       "    .dataframe tbody tr th {\n",
       "        vertical-align: top;\n",
       "    }\n",
       "\n",
       "    .dataframe thead th {\n",
       "        text-align: right;\n",
       "    }\n",
       "</style>\n",
       "<table border=\"1\" class=\"dataframe\">\n",
       "  <thead>\n",
       "    <tr style=\"text-align: right;\">\n",
       "      <th></th>\n",
       "      <th>id</th>\n",
       "      <th>name</th>\n",
       "      <th>path</th>\n",
       "      <th>subCategories</th>\n",
       "    </tr>\n",
       "  </thead>\n",
       "  <tbody>\n",
       "    <tr>\n",
       "      <th>28</th>\n",
       "      <td>abcat0101001</td>\n",
       "      <td>All Flat-Panel TVs</td>\n",
       "      <td>{'category': [{'id': 'cat00000', 'name': 'Best...</td>\n",
       "      <td>{'category': [{'id': 'pcmcat138100050024', 'na...</td>\n",
       "    </tr>\n",
       "  </tbody>\n",
       "</table>\n",
       "</div>"
      ],
      "text/plain": [
       "              id                name  \\\n",
       "28  abcat0101001  All Flat-Panel TVs   \n",
       "\n",
       "                                                 path  \\\n",
       "28  {'category': [{'id': 'cat00000', 'name': 'Best...   \n",
       "\n",
       "                                        subCategories  \n",
       "28  {'category': [{'id': 'pcmcat138100050024', 'na...  "
      ]
     },
     "execution_count": 11,
     "metadata": {},
     "output_type": "execute_result"
    }
   ],
   "source": [
    "cat_df[cat_df['id'] == 'abcat0101001']"
   ]
  },
  {
   "cell_type": "code",
   "execution_count": 12,
   "id": "3dc63557",
   "metadata": {},
   "outputs": [
    {
     "data": {
      "text/html": [
       "<div>\n",
       "<style scoped>\n",
       "    .dataframe tbody tr th:only-of-type {\n",
       "        vertical-align: middle;\n",
       "    }\n",
       "\n",
       "    .dataframe tbody tr th {\n",
       "        vertical-align: top;\n",
       "    }\n",
       "\n",
       "    .dataframe thead th {\n",
       "        text-align: right;\n",
       "    }\n",
       "</style>\n",
       "<table border=\"1\" class=\"dataframe\">\n",
       "  <thead>\n",
       "    <tr style=\"text-align: right;\">\n",
       "      <th></th>\n",
       "      <th>id</th>\n",
       "      <th>name</th>\n",
       "      <th>path</th>\n",
       "      <th>subCategories</th>\n",
       "    </tr>\n",
       "  </thead>\n",
       "  <tbody>\n",
       "    <tr>\n",
       "      <th>2551</th>\n",
       "      <td>pcmcat180400050006</td>\n",
       "      <td>DSLR Package Deals</td>\n",
       "      <td>{'category': [{'id': 'cat00000', 'name': 'Best...</td>\n",
       "      <td>None</td>\n",
       "    </tr>\n",
       "  </tbody>\n",
       "</table>\n",
       "</div>"
      ],
      "text/plain": [
       "                      id                name  \\\n",
       "2551  pcmcat180400050006  DSLR Package Deals   \n",
       "\n",
       "                                                   path subCategories  \n",
       "2551  {'category': [{'id': 'cat00000', 'name': 'Best...          None  "
      ]
     },
     "execution_count": 12,
     "metadata": {},
     "output_type": "execute_result"
    }
   ],
   "source": [
    "cat_df[cat_df['id'] == 'pcmcat180400050006']"
   ]
  },
  {
   "cell_type": "code",
   "execution_count": 13,
   "id": "c998f9e5",
   "metadata": {},
   "outputs": [
    {
     "data": {
      "text/html": [
       "<div>\n",
       "<style scoped>\n",
       "    .dataframe tbody tr th:only-of-type {\n",
       "        vertical-align: middle;\n",
       "    }\n",
       "\n",
       "    .dataframe tbody tr th {\n",
       "        vertical-align: top;\n",
       "    }\n",
       "\n",
       "    .dataframe thead th {\n",
       "        text-align: right;\n",
       "    }\n",
       "</style>\n",
       "<table border=\"1\" class=\"dataframe\">\n",
       "  <thead>\n",
       "    <tr style=\"text-align: right;\">\n",
       "      <th></th>\n",
       "      <th>id</th>\n",
       "      <th>name</th>\n",
       "      <th>path</th>\n",
       "      <th>subCategories</th>\n",
       "    </tr>\n",
       "  </thead>\n",
       "  <tbody>\n",
       "    <tr>\n",
       "      <th>3955</th>\n",
       "      <td>pcmcat247400050000</td>\n",
       "      <td>PC Laptops</td>\n",
       "      <td>{'category': [{'id': 'cat00000', 'name': 'Best...</td>\n",
       "      <td>None</td>\n",
       "    </tr>\n",
       "  </tbody>\n",
       "</table>\n",
       "</div>"
      ],
      "text/plain": [
       "                      id        name  \\\n",
       "3955  pcmcat247400050000  PC Laptops   \n",
       "\n",
       "                                                   path subCategories  \n",
       "3955  {'category': [{'id': 'cat00000', 'name': 'Best...          None  "
      ]
     },
     "execution_count": 13,
     "metadata": {},
     "output_type": "execute_result"
    }
   ],
   "source": [
    "cat_df[cat_df['id'] == 'pcmcat247400050000']"
   ]
  },
  {
   "cell_type": "markdown",
   "id": "ae964e73",
   "metadata": {},
   "source": [
    "## Evaluate default model"
   ]
  },
  {
   "cell_type": "code",
   "execution_count": 16,
   "id": "9ff24177",
   "metadata": {},
   "outputs": [
    {
     "name": "stderr",
     "output_type": "stream",
     "text": [
      "2023-03-11 17:31:38,923 - Evaluation on 9,669 samples - precision@1: 0.1667, recall@1: 0.1667\n"
     ]
    }
   ],
   "source": [
    "k = 1\n",
    "n, prec, rec = product_classifier.test(path='/workspace/datasets/fasttext/test_data.txt', k=k)\n",
    "logger.info(f'Evaluation on {n:,} samples - precision@{k}: {prec:.4f}, recall@{k}: {rec:.4f}')"
   ]
  },
  {
   "cell_type": "code",
   "execution_count": 17,
   "id": "80ce2066",
   "metadata": {},
   "outputs": [
    {
     "name": "stderr",
     "output_type": "stream",
     "text": [
      "2023-03-11 17:31:50,665 - Evaluation on 9,669 samples - precision@5: 0.0540, recall@5: 0.2701\n"
     ]
    }
   ],
   "source": [
    "k = 5\n",
    "n, prec, rec = product_classifier.test(path='/workspace/datasets/fasttext/test_data.txt', k=k)\n",
    "logger.info(f'Evaluation on {n:,} samples - precision@{k}: {prec:.4f}, recall@{k}: {rec:.4f}')"
   ]
  },
  {
   "cell_type": "code",
   "execution_count": 19,
   "id": "17010089",
   "metadata": {},
   "outputs": [
    {
     "name": "stderr",
     "output_type": "stream",
     "text": [
      "2023-03-11 17:32:07,994 - Evaluation on 9,669 samples - precision@10: 0.0333, recall@10: 0.3327\n"
     ]
    }
   ],
   "source": [
    "k = 10\n",
    "n, prec, rec = product_classifier.test(path='/workspace/datasets/fasttext/test_data.txt', k=k)\n",
    "logger.info(f'Evaluation on {n:,} samples - precision@{k}: {prec:.4f}, recall@{k}: {rec:.4f}')"
   ]
  },
  {
   "cell_type": "markdown",
   "id": "1795523a",
   "metadata": {},
   "source": [
    "## Update params"
   ]
  },
  {
   "cell_type": "code",
   "execution_count": 20,
   "id": "691067b0",
   "metadata": {},
   "outputs": [
    {
     "name": "stderr",
     "output_type": "stream",
     "text": [
      "Read 0M words\n",
      "Number of words:  10754\n",
      "Number of labels: 1341\n",
      "Progress: 100.0% words/sec/thread:   15804 lr:  0.000000 avg.loss:  1.249754 ETA:   0h 0m 0s\n"
     ]
    }
   ],
   "source": [
    "product_classifier = fasttext.train_supervised(input='/workspace/datasets/fasttext/training_data.txt', \n",
    "                                               lr=1.0, wordNgrams=2, epoch=25)"
   ]
  },
  {
   "cell_type": "code",
   "execution_count": 21,
   "id": "843e0a8f",
   "metadata": {},
   "outputs": [
    {
     "name": "stderr",
     "output_type": "stream",
     "text": [
      "2023-03-11 17:33:17,233 - Evaluation on 9,669 samples - precision@1: 0.6540, recall@1: 0.6540\n"
     ]
    }
   ],
   "source": [
    "k = 1\n",
    "n, prec, rec = product_classifier.test(path='/workspace/datasets/fasttext/test_data.txt', k=k)\n",
    "logger.info(f'Evaluation on {n:,} samples - precision@{k}: {prec:.4f}, recall@{k}: {rec:.4f}')"
   ]
  },
  {
   "cell_type": "markdown",
   "id": "e10896e0",
   "metadata": {},
   "source": [
    "## Data preparation\n",
    "- Remove all non-alphanumeric chars other than underscore\n",
    "- Lowercase all chars\n",
    "- Trip excess space chars"
   ]
  },
  {
   "cell_type": "code",
   "execution_count": 22,
   "id": "d2a49ee5",
   "metadata": {},
   "outputs": [],
   "source": [
    "!cat /workspace/datasets/fasttext/shuffled_labeled_products.txt |sed -e \"s/\\([.\\!?,'/()]\\)/ \\1 /g\" | tr \"[:upper:]\" \"[:lower:]\" | sed \"s/[^[:alnum:]_]/ /g\" | tr -s ' ' > /workspace/datasets/fasttext/normalized_labeled_products.txt"
   ]
  },
  {
   "cell_type": "code",
   "execution_count": 24,
   "id": "2f8f3908",
   "metadata": {},
   "outputs": [
    {
     "name": "stdout",
     "output_type": "stream",
     "text": [
      "__label__abcat0401002 Canon - PowerShot 10.0-Megapixel Digital Camera - Black\r\n",
      "__label__abcat0701001 Microsoft - Xbox 360 4GB Special Edition Kinect Family Bundle\r\n",
      "__label__abcat0905001 KitchenAid - Architect P Series 23-7/8\" Tall Tub Built-in Dishwasher - Black\r\n",
      "__label__abcat0106008 Bush - Midnight Mist Audio Tower\r\n",
      "__label__pcmcat209000050008 Viewsonic - ViewPad V7E_1WNA1US7_01 7\" 4 GB Tablet Computer - Wi-Fi - Samsung S5PV210 1 GHz - White\r\n"
     ]
    }
   ],
   "source": [
    "!head -5 /workspace/datasets/fasttext/shuffled_labeled_products.txt"
   ]
  },
  {
   "cell_type": "code",
   "execution_count": 23,
   "id": "5a6c5de0",
   "metadata": {},
   "outputs": [
    {
     "name": "stdout",
     "output_type": "stream",
     "text": [
      "__label__abcat0401002 canon powershot 10 0 megapixel digital camera black\r\n",
      "__label__abcat0701001 microsoft xbox 360 4gb special edition kinect family bundle\r\n",
      "__label__abcat0905001 kitchenaid architect p series 23 7 8 tall tub built in dishwasher black\r\n",
      "__label__abcat0106008 bush midnight mist audio tower\r\n",
      "__label__pcmcat209000050008 viewsonic viewpad v7e_1wna1us7_01 7 4 gb tablet computer wi fi samsung s5pv210 1 ghz white\r\n"
     ]
    }
   ],
   "source": [
    "!head -5 /workspace/datasets/fasttext/normalized_labeled_products.txt"
   ]
  },
  {
   "cell_type": "code",
   "execution_count": 25,
   "id": "fc5d7b09",
   "metadata": {},
   "outputs": [],
   "source": [
    "!head -10000 /workspace/datasets/fasttext/normalized_labeled_products.txt > /workspace/datasets/fasttext/training_data.txt\n",
    "!tail -10000 /workspace/datasets/fasttext/normalized_labeled_products.txt > /workspace/datasets/fasttext/test_data.txt"
   ]
  },
  {
   "cell_type": "code",
   "execution_count": 26,
   "id": "1be4e7f6",
   "metadata": {},
   "outputs": [
    {
     "name": "stderr",
     "output_type": "stream",
     "text": [
      "Read 0M words\n",
      "Number of words:  8449\n",
      "Number of labels: 1341\n",
      "Progress: 100.0% words/sec/thread:    9917 lr:  0.000000 avg.loss:  1.166470 ETA:   0h 0m 0s 65.8% words/sec/thread:    8066 lr:  0.342373 avg.loss:  1.770161 ETA:   0h 0m 7s\n"
     ]
    }
   ],
   "source": [
    "product_classifier = fasttext.train_supervised(input='/workspace/datasets/fasttext/training_data.txt', \n",
    "                                               lr=1.0, wordNgrams=2, epoch=25)"
   ]
  },
  {
   "cell_type": "code",
   "execution_count": 27,
   "id": "e90d7ed9",
   "metadata": {},
   "outputs": [
    {
     "name": "stderr",
     "output_type": "stream",
     "text": [
      "2023-03-11 17:36:43,262 - Evaluation on 9,669 samples - precision@1: 0.6521, recall@1: 0.6521\n"
     ]
    }
   ],
   "source": [
    "k = 1\n",
    "n, prec, rec = product_classifier.test(path='/workspace/datasets/fasttext/test_data.txt', k=k)\n",
    "logger.info(f'Evaluation on {n:,} samples - precision@{k}: {prec:.4f}, recall@{k}: {rec:.4f}')"
   ]
  },
  {
   "cell_type": "markdown",
   "id": "982e0a7c",
   "metadata": {},
   "source": [
    "## Filtering on category"
   ]
  },
  {
   "cell_type": "code",
   "execution_count": 53,
   "id": "d605a2a0",
   "metadata": {},
   "outputs": [],
   "source": [
    "files = glob.glob(f'/workspace/datasets/product_data/products/*.xml')\n",
    "min_products = 2"
   ]
  },
  {
   "cell_type": "code",
   "execution_count": 42,
   "id": "62ae18f0",
   "metadata": {},
   "outputs": [],
   "source": [
    "names_as_labels = False\n",
    "\n",
    "def transform_name(product_name):\n",
    "    # IMPLEMENT\n",
    "    return product_name\n",
    "\n",
    "def _label_filename(filename):\n",
    "    tree = ET.parse(filename)\n",
    "    root = tree.getroot()\n",
    "    labels = []\n",
    "    for child in root:\n",
    "        # Check to make sure category name is valid and not in music or movies\n",
    "        if (child.find('name') is not None and child.find('name').text is not None and\n",
    "            child.find('categoryPath') is not None and len(child.find('categoryPath')) > 0 and\n",
    "            child.find('categoryPath')[len(child.find('categoryPath')) - 1][0].text is not None and\n",
    "            child.find('categoryPath')[0][0].text == 'cat00000' and\n",
    "            child.find('categoryPath')[1][0].text != 'abcat0600000'):\n",
    "              # Choose last element in categoryPath as the leaf categoryId or name\n",
    "              if names_as_labels:\n",
    "                  cat = child.find('categoryPath')[len(child.find('categoryPath')) - 1][1].text.replace(' ', '_')\n",
    "              else:\n",
    "                  cat = child.find('categoryPath')[len(child.find('categoryPath')) - 1][0].text\n",
    "              # Replace newline chars with spaces so fastText doesn't complain\n",
    "              name = child.find('name').text.replace('\\n', ' ')\n",
    "              labels.append((cat, transform_name(name)))\n",
    "    return labels"
   ]
  },
  {
   "cell_type": "code",
   "execution_count": 90,
   "id": "a223bd0c",
   "metadata": {},
   "outputs": [
    {
     "name": "stderr",
     "output_type": "stream",
     "text": [
      "\n",
      "  0%|                                                                           | 0/3 [00:00<?, ?it/s]\u001b[A"
     ]
    }
   ],
   "source": [
    "all_labels = tqdm(multiprocessing.Pool().imap(_label_filename, files[:3]), total=3)"
   ]
  },
  {
   "cell_type": "code",
   "execution_count": 91,
   "id": "8bdc2875",
   "metadata": {},
   "outputs": [
    {
     "name": "stderr",
     "output_type": "stream",
     "text": [
      "\n",
      " 33%|██████████████████████▎                                            | 1/3 [00:03<00:06,  3.08s/it]\u001b[A\n",
      "100%|███████████████████████████████████████████████████████████████████| 3/3 [00:03<00:00,  1.09s/it]\u001b[A\n"
     ]
    }
   ],
   "source": [
    "all_labels = [label for label in all_labels]"
   ]
  },
  {
   "cell_type": "code",
   "execution_count": 100,
   "id": "5ae1118b",
   "metadata": {},
   "outputs": [],
   "source": [
    "all_labels = list(chain.from_iterable(all_labels))"
   ]
  },
  {
   "cell_type": "code",
   "execution_count": 101,
   "id": "2003cb45",
   "metadata": {},
   "outputs": [],
   "source": [
    "label_df = pd.DataFrame(all_labels, columns=['cat', 'name'])"
   ]
  },
  {
   "cell_type": "code",
   "execution_count": 60,
   "id": "9905e4af",
   "metadata": {},
   "outputs": [],
   "source": [
    "label_df = pd.DataFrame(all_labels, columns=['cat', 'name'])"
   ]
  },
  {
   "cell_type": "code",
   "execution_count": 61,
   "id": "dcf4d50e",
   "metadata": {},
   "outputs": [],
   "source": [
    "label_agg = label_df.groupby('cat').agg({'name': 'count'}).reset_index()"
   ]
  },
  {
   "cell_type": "code",
   "execution_count": 62,
   "id": "72fad597",
   "metadata": {},
   "outputs": [],
   "source": [
    "filtered_categories = set(label_agg.loc[label_agg['name'] > 2, 'cat'].to_list())"
   ]
  },
  {
   "cell_type": "code",
   "execution_count": 64,
   "id": "d5dfe33a",
   "metadata": {},
   "outputs": [
    {
     "data": {
      "text/html": [
       "<div>\n",
       "<style scoped>\n",
       "    .dataframe tbody tr th:only-of-type {\n",
       "        vertical-align: middle;\n",
       "    }\n",
       "\n",
       "    .dataframe tbody tr th {\n",
       "        vertical-align: top;\n",
       "    }\n",
       "\n",
       "    .dataframe thead th {\n",
       "        text-align: right;\n",
       "    }\n",
       "</style>\n",
       "<table border=\"1\" class=\"dataframe\">\n",
       "  <thead>\n",
       "    <tr style=\"text-align: right;\">\n",
       "      <th></th>\n",
       "      <th>cat</th>\n",
       "      <th>name</th>\n",
       "    </tr>\n",
       "  </thead>\n",
       "  <tbody>\n",
       "    <tr>\n",
       "      <th>7</th>\n",
       "      <td>abcat0811012</td>\n",
       "      <td>AT&amp;T - 3.6V NiCad Battery for 900MHz Phones</td>\n",
       "    </tr>\n",
       "    <tr>\n",
       "      <th>13</th>\n",
       "      <td>pcmcat165900050033</td>\n",
       "      <td>Metra - Radio Installation Dash Kit for Most 1...</td>\n",
       "    </tr>\n",
       "    <tr>\n",
       "      <th>14</th>\n",
       "      <td>pcmcat165900050033</td>\n",
       "      <td>Metra - Radio Dash Multikit for Select GM Vehi...</td>\n",
       "    </tr>\n",
       "    <tr>\n",
       "      <th>15</th>\n",
       "      <td>pcmcat165900050034</td>\n",
       "      <td>Metra - Wiring Harness for Select 1998-2008 Fo...</td>\n",
       "    </tr>\n",
       "    <tr>\n",
       "      <th>16</th>\n",
       "      <td>pcmcat165900050034</td>\n",
       "      <td>Metra - Turbo Wire Aftermarket Radio Wire Harn...</td>\n",
       "    </tr>\n",
       "    <tr>\n",
       "      <th>17</th>\n",
       "      <td>pcmcat165900050034</td>\n",
       "      <td>Metra - Wiring Harness for Most 1986-1998 Hond...</td>\n",
       "    </tr>\n",
       "    <tr>\n",
       "      <th>21</th>\n",
       "      <td>pcmcat165900050033</td>\n",
       "      <td>Best Buy - Mazda Multi In-Dash Installation Kit</td>\n",
       "    </tr>\n",
       "    <tr>\n",
       "      <th>23</th>\n",
       "      <td>abcat0811012</td>\n",
       "      <td>Energizer - 3.6V NiCad Battery for 900MHz Phones</td>\n",
       "    </tr>\n",
       "    <tr>\n",
       "      <th>24</th>\n",
       "      <td>abcat0811012</td>\n",
       "      <td>Energizer - 3.6V NiCad Battery for 900MHz Phones</td>\n",
       "    </tr>\n",
       "    <tr>\n",
       "      <th>25</th>\n",
       "      <td>abcat0811012</td>\n",
       "      <td>Energizer - 3.6V NiCad Battery for 900MHz Phones</td>\n",
       "    </tr>\n",
       "  </tbody>\n",
       "</table>\n",
       "</div>"
      ],
      "text/plain": [
       "                   cat                                               name\n",
       "7         abcat0811012        AT&T - 3.6V NiCad Battery for 900MHz Phones\n",
       "13  pcmcat165900050033  Metra - Radio Installation Dash Kit for Most 1...\n",
       "14  pcmcat165900050033  Metra - Radio Dash Multikit for Select GM Vehi...\n",
       "15  pcmcat165900050034  Metra - Wiring Harness for Select 1998-2008 Fo...\n",
       "16  pcmcat165900050034  Metra - Turbo Wire Aftermarket Radio Wire Harn...\n",
       "17  pcmcat165900050034  Metra - Wiring Harness for Most 1986-1998 Hond...\n",
       "21  pcmcat165900050033    Best Buy - Mazda Multi In-Dash Installation Kit\n",
       "23        abcat0811012   Energizer - 3.6V NiCad Battery for 900MHz Phones\n",
       "24        abcat0811012   Energizer - 3.6V NiCad Battery for 900MHz Phones\n",
       "25        abcat0811012   Energizer - 3.6V NiCad Battery for 900MHz Phones"
      ]
     },
     "execution_count": 64,
     "metadata": {},
     "output_type": "execute_result"
    }
   ],
   "source": [
    "label_df[label_df['cat'].isin(filtered_categories)]"
   ]
  },
  {
   "cell_type": "code",
   "execution_count": 104,
   "id": "0089f9a9",
   "metadata": {},
   "outputs": [
    {
     "name": "stdout",
     "output_type": "stream",
     "text": [
      "Writing results to /workspace/datasets/fasttext/pruned_labeled_products.txt\n",
      "100%|█████████████████████████████████████████| 256/256 [01:22<00:00,  3.12it/s]\n",
      "Category count: 32, Product count: 28,921\n"
     ]
    }
   ],
   "source": [
    "!python createContentTrainingData.py --output /workspace/datasets/fasttext/pruned_labeled_products.txt --min_products 500"
   ]
  },
  {
   "cell_type": "code",
   "execution_count": 111,
   "id": "840ac4da",
   "metadata": {},
   "outputs": [
    {
     "name": "stdout",
     "output_type": "stream",
     "text": [
      "/usr/bin/sh: 1: Syntax error: \"(\" unexpected\r\n"
     ]
    }
   ],
   "source": [
    "# !shuf /workspace/datasets/fasttext/pruned_labeled_products.txt --random-source=<(seq 99999) > /workspace/datasets/fasttext/shuffled_pruned_labeled_products.txt"
   ]
  },
  {
   "cell_type": "code",
   "execution_count": 112,
   "id": "d792ad4c",
   "metadata": {},
   "outputs": [],
   "source": [
    "!cat /workspace/datasets/fasttext/shuffled_pruned_labeled_products.txt |sed -e \"s/\\([.\\!?,'/()]\\)/ \\1 /g\" | tr \"[:upper:]\" \"[:lower:]\" | sed \"s/[^[:alnum:]_]/ /g\" | tr -s ' ' > /workspace/datasets/fasttext/normalized_pruned_labeled_products.txt"
   ]
  },
  {
   "cell_type": "code",
   "execution_count": 113,
   "id": "8fa9652f",
   "metadata": {},
   "outputs": [],
   "source": [
    "!head -10000 /workspace/datasets/fasttext/normalized_pruned_labeled_products.txt > /workspace/datasets/fasttext/training_data.txt\n",
    "!tail -10000 /workspace/datasets/fasttext/normalized_pruned_labeled_products.txt > /workspace/datasets/fasttext/test_data.txt"
   ]
  },
  {
   "cell_type": "code",
   "execution_count": 114,
   "id": "d370ec6d",
   "metadata": {},
   "outputs": [
    {
     "name": "stderr",
     "output_type": "stream",
     "text": [
      "Read 0M words\n",
      "Number of words:  5373\n",
      "Number of labels: 29\n",
      "Progress: 100.0% words/sec/thread:  168711 lr:  0.000000 avg.loss:  0.042553 ETA:   0h 0m 0s\n"
     ]
    }
   ],
   "source": [
    "product_classifier = fasttext.train_supervised(input='/workspace/datasets/fasttext/training_data.txt', \n",
    "                                               lr=1.0, epoch=25)"
   ]
  },
  {
   "cell_type": "code",
   "execution_count": 115,
   "id": "ed37d4dc",
   "metadata": {},
   "outputs": [
    {
     "name": "stderr",
     "output_type": "stream",
     "text": [
      "2023-03-11 18:30:54,304 - Evaluation on 8,473 samples - precision@1: 0.9629, recall@1: 0.9629\n"
     ]
    }
   ],
   "source": [
    "k = 1\n",
    "n, prec, rec = product_classifier.test(path='/workspace/datasets/fasttext/test_data.txt', k=k)\n",
    "logger.info(f'Evaluation on {n:,} samples - precision@{k}: {prec:.4f}, recall@{k}: {rec:.4f}')"
   ]
  },
  {
   "cell_type": "code",
   "execution_count": 116,
   "id": "018119bc",
   "metadata": {},
   "outputs": [
    {
     "name": "stderr",
     "output_type": "stream",
     "text": [
      "Read 0M words\n",
      "Number of words:  5373\n",
      "Number of labels: 29\n",
      "Progress: 100.0% words/sec/thread:  146558 lr:  0.000000 avg.loss:  0.037745 ETA:   0h 0m 0s\n"
     ]
    }
   ],
   "source": [
    "product_classifier = fasttext.train_supervised(input='/workspace/datasets/fasttext/training_data.txt', \n",
    "                                               lr=1.0, epoch=25, wordNgrams=2)"
   ]
  },
  {
   "cell_type": "code",
   "execution_count": 117,
   "id": "cd736ffb",
   "metadata": {},
   "outputs": [
    {
     "name": "stderr",
     "output_type": "stream",
     "text": [
      "2023-03-11 18:31:14,246 - Evaluation on 8,473 samples - precision@1: 0.9645, recall@1: 0.9645\n"
     ]
    }
   ],
   "source": [
    "k = 1\n",
    "n, prec, rec = product_classifier.test(path='/workspace/datasets/fasttext/test_data.txt', k=k)\n",
    "logger.info(f'Evaluation on {n:,} samples - precision@{k}: {prec:.4f}, recall@{k}: {rec:.4f}')"
   ]
  },
  {
   "cell_type": "markdown",
   "id": "c561ad7c",
   "metadata": {},
   "source": [
    "# Level 2: Derive Synonyms from Content"
   ]
  },
  {
   "cell_type": "markdown",
   "id": "46c94ed3",
   "metadata": {},
   "source": [
    "## Data preparation"
   ]
  },
  {
   "cell_type": "code",
   "execution_count": 119,
   "id": "4b6a84cf",
   "metadata": {},
   "outputs": [
    {
     "name": "stdout",
     "output_type": "stream",
     "text": [
      "Writing results to /workspace/datasets/fasttext/products.txt\n",
      "100%|█████████████████████████████████████████| 256/256 [01:16<00:00,  3.35it/s]\n",
      "Category count: 1803, Product count: 115,503\n"
     ]
    }
   ],
   "source": [
    "!python createContentTrainingData.py --output /workspace/datasets/fasttext/products.txt --label name"
   ]
  },
  {
   "cell_type": "code",
   "execution_count": 120,
   "id": "7f06469b",
   "metadata": {},
   "outputs": [],
   "source": [
    "!cat /workspace/datasets/fasttext/products.txt |  cut -c 10- | sed -e \"s/\\([.\\!?,'/()]\\)/ \\1 /g\" | tr \"[:upper:]\" \"[:lower:]\" | sed \"s/[^[:alnum:]]/ /g\" | tr -s ' ' > /workspace/datasets/fasttext/normalized_products.txt"
   ]
  },
  {
   "cell_type": "code",
   "execution_count": 121,
   "id": "7fc9aff7",
   "metadata": {},
   "outputs": [
    {
     "name": "stderr",
     "output_type": "stream",
     "text": [
      "Read 1M words\n",
      "Number of words:  9205\n",
      "Number of labels: 0\n",
      "Progress: 100.0% words/sec/thread:   46712 lr:  0.000000 avg.loss:  1.220938 ETA:   0h 0m 0s 57.6% words/sec/thread:   37299 lr:  0.021222 avg.loss:  1.263421 ETA:   0h 0m 5s\n"
     ]
    }
   ],
   "source": [
    "title_model = fasttext.train_unsupervised(input='/workspace/datasets/fasttext/normalized_products.txt',\n",
    "                                          model='skipgram')"
   ]
  },
  {
   "cell_type": "code",
   "execution_count": 122,
   "id": "ea7d3ed4",
   "metadata": {},
   "outputs": [
    {
     "data": {
      "text/plain": [
       "[(0.8836662769317627, 'deskjet'),\n",
       " (0.8633587956428528, 'officejet'),\n",
       " (0.8344438672065735, 'b1h'),\n",
       " (0.8252926468849182, 'c5280'),\n",
       " (0.8137577772140503, 'laserjet'),\n",
       " (0.8085622191429138, 'pixma'),\n",
       " (0.8048376441001892, 'lexmark'),\n",
       " (0.8021136522293091, 'mfc'),\n",
       " (0.8000170588493347, 'printers'),\n",
       " (0.7972469329833984, 'mvm')]"
      ]
     },
     "execution_count": 122,
     "metadata": {},
     "output_type": "execute_result"
    }
   ],
   "source": [
    "title_model.get_nearest_neighbors('inkjet')"
   ]
  },
  {
   "cell_type": "code",
   "execution_count": 123,
   "id": "2e4b9c04",
   "metadata": {},
   "outputs": [
    {
     "data": {
      "text/plain": [
       "[(0.9316118359565735, 'netbooks'),\n",
       " (0.9038827419281006, 'jetbook'),\n",
       " (0.8332692980766296, 'nextbook'),\n",
       " (0.7719100713729858, 'atom'),\n",
       " (0.7648991942405701, 'eee'),\n",
       " (0.7603505253791809, '1005hab'),\n",
       " (0.7213680148124695, 'slip'),\n",
       " (0.7157060503959656, 'n270'),\n",
       " (0.6964132189750671, 'np'),\n",
       " (0.6922696828842163, 'zenbook')]"
      ]
     },
     "execution_count": 123,
     "metadata": {},
     "output_type": "execute_result"
    }
   ],
   "source": [
    "title_model.get_nearest_neighbors('netbook')"
   ]
  },
  {
   "cell_type": "code",
   "execution_count": 5,
   "id": "c6ed35df",
   "metadata": {},
   "outputs": [
    {
     "name": "stderr",
     "output_type": "stream",
     "text": [
      "Read 1M words\n",
      "Number of words:  1556\n",
      "Number of labels: 0\n",
      "Progress: 100.0% words/sec/thread:   43684 lr:  0.000000 avg.loss:  1.295575 ETA:   0h 0m 0s\n"
     ]
    }
   ],
   "source": [
    "title_model = fasttext.train_unsupervised(input='/workspace/datasets/fasttext/normalized_products.txt',\n",
    "                                          model='skipgram', minCount=100)"
   ]
  },
  {
   "cell_type": "code",
   "execution_count": 6,
   "id": "0fc9c8cc",
   "metadata": {},
   "outputs": [
    {
     "data": {
      "text/plain": [
       "[(0.8110601305961609, 'printers'),\n",
       " (0.7996888160705566, 'printer'),\n",
       " (0.7449747920036316, 'laserjet'),\n",
       " (0.7298192977905273, 'copier'),\n",
       " (0.7144044041633606, 'lexmark'),\n",
       " (0.7010620832443237, 'packard'),\n",
       " (0.6940978765487671, 'photosmart'),\n",
       " (0.677263081073761, 'brother'),\n",
       " (0.675620973110199, 'ink'),\n",
       " (0.6616724729537964, 'hewlett')]"
      ]
     },
     "execution_count": 6,
     "metadata": {},
     "output_type": "execute_result"
    }
   ],
   "source": [
    "title_model.get_nearest_neighbors('inkjet')"
   ]
  },
  {
   "cell_type": "code",
   "execution_count": 7,
   "id": "257d4b16",
   "metadata": {},
   "outputs": [
    {
     "data": {
      "text/plain": [
       "[(0.9127790927886963, 'netbooks'),\n",
       " (0.7936349511146545, 'atom'),\n",
       " (0.7041299939155579, 'eee'),\n",
       " (0.6468859910964966, 'slip'),\n",
       " (0.6237702369689941, 'laptop'),\n",
       " (0.5247266292572021, 'laptops'),\n",
       " (0.5208449959754944, 'team'),\n",
       " (0.518611490726471, 'briefcase'),\n",
       " (0.5173459053039551, 'mouse'),\n",
       " (0.5157207250595093, 'inspiron')]"
      ]
     },
     "execution_count": 7,
     "metadata": {},
     "output_type": "execute_result"
    }
   ],
   "source": [
    "title_model.get_nearest_neighbors('netbook')"
   ]
  },
  {
   "cell_type": "code",
   "execution_count": 17,
   "id": "35464f1b",
   "metadata": {
    "scrolled": false
   },
   "outputs": [
    {
     "name": "stderr",
     "output_type": "stream",
     "text": [
      "2023-03-11 19:12:30,722 - Nearest neighbors for: headphones\n",
      "2023-03-11 19:12:30,723 - (0.8840067386627197, 'ear')\n",
      "2023-03-11 19:12:30,723 - (0.8646281957626343, 'earbud')\n",
      "2023-03-11 19:12:30,724 - (0.7090734243392944, 'bud')\n",
      "2023-03-11 19:12:30,726 - (0.6759501099586487, 'noise')\n",
      "2023-03-11 19:12:30,726 - (0.6747713685035706, 'sennheiser')\n",
      "2023-03-11 19:12:30,727 - (0.649059534072876, 'over')\n",
      "2023-03-11 19:12:30,727 - (0.6453553438186646, 'microphones')\n",
      "2023-03-11 19:12:30,728 - (0.6345415115356445, 'gumy')\n",
      "2023-03-11 19:12:30,728 - (0.6153662800788879, 'skullcandy')\n",
      "2023-03-11 19:12:30,729 - (0.6142438650131226, 'earbuds')\n",
      "2023-03-11 19:12:30,730 - Nearest neighbors for: laptop\n",
      "2023-03-11 19:12:30,730 - (0.8026874661445618, 'laptops')\n",
      "2023-03-11 19:12:30,731 - (0.746196985244751, 'notebook')\n",
      "2023-03-11 19:12:30,731 - (0.6591004729270935, 'notebooks')\n",
      "2023-03-11 19:12:30,732 - (0.623769998550415, 'netbook')\n",
      "2023-03-11 19:12:30,732 - (0.6076312065124512, 'macbook')\n",
      "2023-03-11 19:12:30,733 - (0.5923843383789062, 'briefcase')\n",
      "2023-03-11 19:12:30,733 - (0.560066282749176, 'netbooks')\n",
      "2023-03-11 19:12:30,734 - (0.5405807495117188, 'slip')\n",
      "2023-03-11 19:12:30,734 - (0.5286868214607239, 'mail')\n",
      "2023-03-11 19:12:30,735 - (0.5159195065498352, 'mouse')\n",
      "2023-03-11 19:12:30,735 - Nearest neighbors for: freezer\n",
      "2023-03-11 19:12:30,736 - (0.9135377407073975, 'freezers')\n",
      "2023-03-11 19:12:30,737 - (0.7835357785224915, 'refrigerator')\n",
      "2023-03-11 19:12:30,738 - (0.7800273299217224, 'frost')\n",
      "2023-03-11 19:12:30,741 - (0.7783714532852173, 'refrigerators')\n",
      "2023-03-11 19:12:30,742 - (0.7400931119918823, 'bottom')\n",
      "2023-03-11 19:12:30,743 - (0.7120528221130371, 'side')\n",
      "2023-03-11 19:12:30,743 - (0.6948789358139038, 'counter')\n",
      "2023-03-11 19:12:30,743 - (0.6947041153907776, 'ft')\n",
      "2023-03-11 19:12:30,744 - (0.693922758102417, 'cu')\n",
      "2023-03-11 19:12:30,744 - (0.6595866680145264, 'monochromatic')\n",
      "2023-03-11 19:12:30,745 - Nearest neighbors for: nintendo\n",
      "2023-03-11 19:12:30,746 - (0.8641888499259949, 'wii')\n",
      "2023-03-11 19:12:30,746 - (0.862643301486969, 'ds')\n",
      "2023-03-11 19:12:30,747 - (0.7760639190673828, '3ds')\n",
      "2023-03-11 19:12:30,747 - (0.69927978515625, 'psp')\n",
      "2023-03-11 19:12:30,748 - (0.684661865234375, 'gamecube')\n",
      "2023-03-11 19:12:30,748 - (0.6829535365104675, 'mario')\n",
      "2023-03-11 19:12:30,748 - (0.6809229850769043, 'dsi')\n",
      "2023-03-11 19:12:30,749 - (0.673521101474762, 'playstation')\n",
      "2023-03-11 19:12:30,750 - (0.6732454299926758, 'boy')\n",
      "2023-03-11 19:12:30,750 - (0.6623314619064331, 'ps2')\n",
      "2023-03-11 19:12:30,751 - Nearest neighbors for: whirlpool\n",
      "2023-03-11 19:12:30,751 - (0.8415570855140686, 'maytag')\n",
      "2023-03-11 19:12:30,752 - (0.7992282509803772, 'frigidaire')\n",
      "2023-03-11 19:12:30,752 - (0.7876859903335571, 'biscuit')\n",
      "2023-03-11 19:12:30,753 - (0.7129015922546387, 'ge')\n",
      "2023-03-11 19:12:30,754 - (0.7053651213645935, 'bisque')\n",
      "2023-03-11 19:12:30,754 - (0.7014099955558777, 'electrolux')\n",
      "2023-03-11 19:12:30,755 - (0.6986908316612244, 'profile')\n",
      "2023-03-11 19:12:30,755 - (0.693130612373352, 'bosch')\n",
      "2023-03-11 19:12:30,756 - (0.6819530129432678, 'kitchenaid')\n",
      "2023-03-11 19:12:30,757 - (0.643305242061615, 'architect')\n",
      "2023-03-11 19:12:30,758 - Nearest neighbors for: kodak\n",
      "2023-03-11 19:12:30,758 - (0.812397301197052, 'easyshare')\n",
      "2023-03-11 19:12:30,759 - (0.6654841899871826, 'share')\n",
      "2023-03-11 19:12:30,759 - (0.6201555728912354, 'canon')\n",
      "2023-03-11 19:12:30,760 - (0.6007665395736694, 'fujifilm')\n",
      "2023-03-11 19:12:30,761 - (0.5964944362640381, 'photosmart')\n",
      "2023-03-11 19:12:30,761 - (0.5877746343612671, 'coolpix')\n",
      "2023-03-11 19:12:30,762 - (0.5711696743965149, 'packard')\n",
      "2023-03-11 19:12:30,763 - (0.566426157951355, 'powershot')\n",
      "2023-03-11 19:12:30,763 - (0.5661646127700806, 'hewlett')\n",
      "2023-03-11 19:12:30,764 - (0.5502490401268005, 'olympus')\n",
      "2023-03-11 19:12:30,764 - Nearest neighbors for: ps2\n",
      "2023-03-11 19:12:30,765 - (0.7860081195831299, 'playstation')\n",
      "2023-03-11 19:12:30,766 - (0.736515462398529, '360')\n",
      "2023-03-11 19:12:30,766 - (0.7329643964767456, 'xbox')\n",
      "2023-03-11 19:12:30,767 - (0.7282617688179016, 'psp')\n",
      "2023-03-11 19:12:30,767 - (0.7243496179580688, 'ps3')\n",
      "2023-03-11 19:12:30,768 - (0.6738565564155579, 'gamecube')\n",
      "2023-03-11 19:12:30,769 - (0.6736697554588318, 'greatest')\n",
      "2023-03-11 19:12:30,769 - (0.6715794205665588, 'guides')\n",
      "2023-03-11 19:12:30,770 - (0.6713573336601257, 'vs')\n",
      "2023-03-11 19:12:30,771 - (0.6704014539718628, 'nba')\n",
      "2023-03-11 19:12:30,779 - Nearest neighbors for: razer\n",
      "2023-03-11 19:12:30,780 - (0.6765069961547852, 'gaming')\n",
      "2023-03-11 19:12:30,781 - (0.5886498689651489, 'mice')\n",
      "2023-03-11 19:12:30,782 - (0.5566843748092651, 'b')\n",
      "2023-03-11 19:12:30,782 - (0.5531960725784302, 'collector')\n",
      "2023-03-11 19:12:30,783 - (0.5427398085594177, 'logitech')\n",
      "2023-03-11 19:12:30,783 - (0.5365556478500366, 'headsets')\n",
      "2023-03-11 19:12:30,784 - (0.5355088710784912, 'mouse')\n",
      "2023-03-11 19:12:30,785 - (0.5346196293830872, 'controllers')\n",
      "2023-03-11 19:12:30,785 - (0.5322176218032837, 'bears')\n",
      "2023-03-11 19:12:30,786 - (0.515729546546936, 'controller')\n",
      "2023-03-11 19:12:30,787 - Nearest neighbors for: stratocaster\n",
      "2023-03-11 19:12:30,787 - (0.7219747304916382, 'roaster')\n",
      "2023-03-11 19:12:30,788 - (0.7046803832054138, 'toaster')\n",
      "2023-03-11 19:12:30,788 - (0.6793376207351685, 'toasters')\n",
      "2023-03-11 19:12:30,789 - (0.677671492099762, 'slow')\n",
      "2023-03-11 19:12:30,790 - (0.6525212526321411, 'crock')\n",
      "2023-03-11 19:12:30,790 - (0.639604389667511, 'pizza')\n",
      "2023-03-11 19:12:30,791 - (0.6339907646179199, 'straps')\n",
      "2023-03-11 19:12:30,791 - (0.6097658276557922, 'popcorn')\n",
      "2023-03-11 19:12:30,792 - (0.6048307418823242, 'cooker')\n",
      "2023-03-11 19:12:30,792 - (0.6039547920227051, 'pots')\n",
      "2023-03-11 19:12:30,793 - Nearest neighbors for: holiday\n",
      "2023-03-11 19:12:30,793 - (0.6755728721618652, 'tailgate')\n",
      "2023-03-11 19:12:30,797 - (0.6698418259620667, 'florida')\n",
      "2023-03-11 19:12:30,798 - (0.6552072167396545, 'virginia')\n",
      "2023-03-11 19:12:30,798 - (0.654342532157898, 'michigan')\n",
      "2023-03-11 19:12:30,799 - (0.6541351675987244, 'carolina')\n",
      "2023-03-11 19:12:30,800 - (0.6495124697685242, 'miami')\n",
      "2023-03-11 19:12:30,800 - (0.6459834575653076, 'day')\n",
      "2023-03-11 19:12:30,800 - (0.6402449607849121, 'birthday')\n",
      "2023-03-11 19:12:30,801 - (0.6327406764030457, 'iowa')\n",
      "2023-03-11 19:12:30,802 - (0.6285082697868347, 'utah')\n",
      "2023-03-11 19:12:30,803 - Nearest neighbors for: plasma\n",
      "2023-03-11 19:12:30,803 - (0.7941771745681763, '600hz')\n",
      "2023-03-11 19:12:30,804 - (0.7232430577278137, 'televisions')\n",
      "2023-03-11 19:12:30,804 - (0.6987985968589783, 'tvs')\n",
      "2023-03-11 19:12:30,806 - (0.6829091906547546, '240hz')\n",
      "2023-03-11 19:12:30,807 - (0.6755582094192505, 'panel')\n",
      "2023-03-11 19:12:30,807 - (0.6661264896392822, 'flat')\n",
      "2023-03-11 19:12:30,808 - (0.646522045135498, '42')\n",
      "2023-03-11 19:12:30,808 - (0.6256916522979736, '120hz')\n",
      "2023-03-11 19:12:30,809 - (0.6156459450721741, '46')\n",
      "2023-03-11 19:12:30,809 - (0.6071056127548218, 'hdtv')\n",
      "2023-03-11 19:12:30,810 - Nearest neighbors for: leather\n",
      "2023-03-11 19:12:30,811 - (0.6945129632949829, 'recliner')\n",
      "2023-03-11 19:12:30,811 - (0.6715585589408875, 'seating')\n",
      "2023-03-11 19:12:30,812 - (0.6562313437461853, 'berkline')\n",
      "2023-03-11 19:12:30,813 - (0.645698606967926, 'curved')\n",
      "2023-03-11 19:12:30,813 - (0.6018388867378235, 'theaterseatstore')\n",
      "2023-03-11 19:12:30,814 - (0.5674707293510437, 'seat')\n",
      "2023-03-11 19:12:30,814 - (0.5611633658409119, 'executive')\n",
      "2023-03-11 19:12:30,815 - (0.5483434796333313, 'folio')\n",
      "2023-03-11 19:12:30,815 - (0.535864531993866, 'straight')\n",
      "2023-03-11 19:12:30,816 - (0.5352071523666382, 'pouch')\n"
     ]
    }
   ],
   "source": [
    "tokens = ['headphones', 'laptop', 'freezer', 'nintendo', 'whirlpool', 'kodak', 'ps2',\n",
    "          'razer', 'stratocaster', 'holiday', 'plasma', 'leather']\n",
    "\n",
    "for token in tokens:\n",
    "    nn = title_model.get_nearest_neighbors(token)\n",
    "    logger.info(f'Nearest neighbors for: {token}')\n",
    "    [logger.info(n) for n in nn]"
   ]
  },
  {
   "cell_type": "code",
   "execution_count": 18,
   "id": "8def4214",
   "metadata": {},
   "outputs": [
    {
     "name": "stderr",
     "output_type": "stream",
     "text": [
      "Read 1M words\n",
      "Number of words:  1556\n",
      "Number of labels: 0\n",
      "Progress: 100.0% words/sec/thread:   81133 lr:  0.000000 avg.loss:  1.225277 ETA:   0h 0m 0s words/sec/thread:   68192 lr:  0.025533 avg.loss:  1.259784 ETA:   0h 0m17s\n"
     ]
    }
   ],
   "source": [
    "title_model = fasttext.train_unsupervised(input='/workspace/datasets/fasttext/normalized_products.txt',\n",
    "                                          model='skipgram', minCount=100, epoch=25)"
   ]
  },
  {
   "cell_type": "code",
   "execution_count": 21,
   "id": "c43f3ef3",
   "metadata": {},
   "outputs": [
    {
     "data": {
      "text/plain": [
       "[(0.8484390377998352, '4s'),\n",
       " (0.7798793315887451, 'apple'),\n",
       " (0.7289857864379883, 'ipod')]"
      ]
     },
     "execution_count": 21,
     "metadata": {},
     "output_type": "execute_result"
    }
   ],
   "source": [
    "results = title_model.get_nearest_neighbors('iphone')\n",
    "[result for result in results if result[0] >0.70]"
   ]
  },
  {
   "cell_type": "markdown",
   "id": "5bc3c68b",
   "metadata": {},
   "source": [
    "## Level 3: Integrating Synonyms with Search"
   ]
  },
  {
   "cell_type": "code",
   "execution_count": 23,
   "id": "c918f8d8",
   "metadata": {},
   "outputs": [],
   "source": [
    "# !cat /workspace/datasets/fasttext/normalized_products.txt | tr \" \" \"\\n\" | grep \"....\" | sort | uniq -c | sort -nr | head -1000 | grep -oE '[^ ]+$' > /workspace/datasets/fasttext/top_words.txt"
   ]
  },
  {
   "cell_type": "code",
   "execution_count": 24,
   "id": "cc784c8b",
   "metadata": {},
   "outputs": [
    {
     "name": "stdout",
     "output_type": "stream",
     "text": [
      "black\r\n",
      "with\r\n",
      "digital\r\n",
      "white\r\n",
      "case\r\n",
      "memory\r\n",
      "camera\r\n",
      "electric\r\n",
      "games\r\n",
      "laptop\r\n"
     ]
    }
   ],
   "source": [
    "!head -10 /workspace/datasets/fasttext/top_words.txt"
   ]
  },
  {
   "cell_type": "code",
   "execution_count": 173,
   "id": "0ae258d2",
   "metadata": {},
   "outputs": [
    {
     "name": "stdout",
     "output_type": "stream",
     "text": [
      "1000 1000 7441 /workspace/datasets/fasttext/top_words.txt\r\n"
     ]
    }
   ],
   "source": [
    "!wc /workspace/datasets/fasttext/top_words.txt"
   ]
  },
  {
   "cell_type": "code",
   "execution_count": 31,
   "id": "571e4ea2",
   "metadata": {},
   "outputs": [],
   "source": [
    "top_words = pd.read_csv('/workspace/datasets/fasttext/top_words.txt', names=['token'])"
   ]
  },
  {
   "cell_type": "code",
   "execution_count": 176,
   "id": "9cad6393",
   "metadata": {},
   "outputs": [
    {
     "name": "stderr",
     "output_type": "stream",
     "text": [
      "Read 1M words\n",
      "Number of words:  7664\n",
      "Number of labels: 0\n",
      "Progress: 100.0% words/sec/thread:   62352 lr:  0.000000 avg.loss:  1.001207 ETA:   0h 0m 0s lr:  0.040688 avg.loss:  1.166722 ETA:   0h 0m47s\n"
     ]
    }
   ],
   "source": [
    "# minCount = 7 as nespresso only appears 8 times\n",
    "title_model = fasttext.train_unsupervised(input='/workspace/datasets/fasttext/normalized_products.txt',\n",
    "                                          model='skipgram', minCount=7, epoch=25)"
   ]
  },
  {
   "cell_type": "code",
   "execution_count": 177,
   "id": "5925107b",
   "metadata": {},
   "outputs": [],
   "source": [
    "def get_nn(token, threshold=0.75):\n",
    "    results = title_model.get_nearest_neighbors(token)\n",
    "    results = ','.join([result[1] for result in results if result[0] > threshold])\n",
    "    return results"
   ]
  },
  {
   "cell_type": "code",
   "execution_count": 178,
   "id": "69a2489f",
   "metadata": {},
   "outputs": [],
   "source": [
    "top_words['neighbors'] = top_words['token'].apply(get_nn)"
   ]
  },
  {
   "cell_type": "code",
   "execution_count": 179,
   "id": "43480568",
   "metadata": {},
   "outputs": [],
   "source": [
    "top_words['output'] = top_words['token'] + ',' + top_words['neighbors']"
   ]
  },
  {
   "cell_type": "code",
   "execution_count": 180,
   "id": "3d5f5274",
   "metadata": {},
   "outputs": [
    {
     "data": {
      "text/html": [
       "<div>\n",
       "<style scoped>\n",
       "    .dataframe tbody tr th:only-of-type {\n",
       "        vertical-align: middle;\n",
       "    }\n",
       "\n",
       "    .dataframe tbody tr th {\n",
       "        vertical-align: top;\n",
       "    }\n",
       "\n",
       "    .dataframe thead th {\n",
       "        text-align: right;\n",
       "    }\n",
       "</style>\n",
       "<table border=\"1\" class=\"dataframe\">\n",
       "  <thead>\n",
       "    <tr style=\"text-align: right;\">\n",
       "      <th></th>\n",
       "      <th>token</th>\n",
       "      <th>neighbors</th>\n",
       "      <th>output</th>\n",
       "    </tr>\n",
       "  </thead>\n",
       "  <tbody>\n",
       "    <tr>\n",
       "      <th>995</th>\n",
       "      <td>georgia</td>\n",
       "      <td>bulldogs,hokies,hawkeyes,virginia,longhorns</td>\n",
       "      <td>georgia,bulldogs,hokies,hawkeyes,virginia,long...</td>\n",
       "    </tr>\n",
       "    <tr>\n",
       "      <th>996</th>\n",
       "      <td>vented</td>\n",
       "      <td>externally,hoods</td>\n",
       "      <td>vented,externally,hoods</td>\n",
       "    </tr>\n",
       "    <tr>\n",
       "      <th>997</th>\n",
       "      <td>toss</td>\n",
       "      <td>tailgate,sales</td>\n",
       "      <td>toss,tailgate,sales</td>\n",
       "    </tr>\n",
       "    <tr>\n",
       "      <th>998</th>\n",
       "      <td>organization</td>\n",
       "      <td>pedestals</td>\n",
       "      <td>organization,pedestals</td>\n",
       "    </tr>\n",
       "    <tr>\n",
       "      <th>999</th>\n",
       "      <td>grand</td>\n",
       "      <td></td>\n",
       "      <td>grand,</td>\n",
       "    </tr>\n",
       "  </tbody>\n",
       "</table>\n",
       "</div>"
      ],
      "text/plain": [
       "            token                                    neighbors  \\\n",
       "995       georgia  bulldogs,hokies,hawkeyes,virginia,longhorns   \n",
       "996        vented                             externally,hoods   \n",
       "997          toss                               tailgate,sales   \n",
       "998  organization                                    pedestals   \n",
       "999         grand                                                \n",
       "\n",
       "                                                output  \n",
       "995  georgia,bulldogs,hokies,hawkeyes,virginia,long...  \n",
       "996                            vented,externally,hoods  \n",
       "997                                toss,tailgate,sales  \n",
       "998                             organization,pedestals  \n",
       "999                                             grand,  "
      ]
     },
     "execution_count": 180,
     "metadata": {},
     "output_type": "execute_result"
    }
   ],
   "source": [
    "top_words.tail(5)"
   ]
  },
  {
   "cell_type": "code",
   "execution_count": 181,
   "id": "c3513143",
   "metadata": {},
   "outputs": [
    {
     "data": {
      "text/html": [
       "<div>\n",
       "<style scoped>\n",
       "    .dataframe tbody tr th:only-of-type {\n",
       "        vertical-align: middle;\n",
       "    }\n",
       "\n",
       "    .dataframe tbody tr th {\n",
       "        vertical-align: top;\n",
       "    }\n",
       "\n",
       "    .dataframe thead th {\n",
       "        text-align: right;\n",
       "    }\n",
       "</style>\n",
       "<table border=\"1\" class=\"dataframe\">\n",
       "  <thead>\n",
       "    <tr style=\"text-align: right;\">\n",
       "      <th></th>\n",
       "      <th>token</th>\n",
       "      <th>neighbors</th>\n",
       "      <th>output</th>\n",
       "    </tr>\n",
       "  </thead>\n",
       "  <tbody>\n",
       "    <tr>\n",
       "      <th>856</th>\n",
       "      <td>cappuccino</td>\n",
       "      <td>nespresso,espresso,bialetti,gaggia,espressione</td>\n",
       "      <td>cappuccino,nespresso,espresso,bialetti,gaggia,...</td>\n",
       "    </tr>\n",
       "  </tbody>\n",
       "</table>\n",
       "</div>"
      ],
      "text/plain": [
       "          token                                       neighbors  \\\n",
       "856  cappuccino  nespresso,espresso,bialetti,gaggia,espressione   \n",
       "\n",
       "                                                output  \n",
       "856  cappuccino,nespresso,espresso,bialetti,gaggia,...  "
      ]
     },
     "execution_count": 181,
     "metadata": {},
     "output_type": "execute_result"
    }
   ],
   "source": [
    "top_words[top_words['token'] == 'cappuccino']"
   ]
  },
  {
   "cell_type": "code",
   "execution_count": 112,
   "id": "0adcd2a7",
   "metadata": {},
   "outputs": [],
   "source": [
    "# top_words['output'].to_csv('/workspace/datasets/fasttext/synonyms.csv', index=False, header=False, quoting=3, quotechar='') #escapechar='|')"
   ]
  },
  {
   "cell_type": "code",
   "execution_count": 182,
   "id": "300157f6",
   "metadata": {},
   "outputs": [],
   "source": [
    "with open('/workspace/datasets/fasttext/synonyms.csv', 'w') as output:\n",
    "    for i, row in top_words.iterrows():\n",
    "        output.write(f'{row[\"output\"]}\\n')"
   ]
  },
  {
   "cell_type": "code",
   "execution_count": 183,
   "id": "1b43a130",
   "metadata": {
    "scrolled": true
   },
   "outputs": [
    {
     "name": "stdout",
     "output_type": "stream",
     "text": [
      "black,\r\n",
      "with,\r\n",
      "digital,\r\n",
      "white,\r\n",
      "case,cases\r\n"
     ]
    }
   ],
   "source": [
    "!head -5 /workspace/datasets/fasttext/synonyms.csv"
   ]
  },
  {
   "cell_type": "code",
   "execution_count": 184,
   "id": "34d3cfd7",
   "metadata": {},
   "outputs": [
    {
     "name": "stdout",
     "output_type": "stream",
     "text": [
      "picks,pick,351,celluloid,tortoise\r\n",
      "laundry,washer,pedestals\r\n",
      "landscape,\r\n",
      "celestron,telescopes,scopes,microscopes\r\n",
      "salamander,designs,elba,barcelona\r\n",
      "georgia,bulldogs,hokies,hawkeyes,virginia,longhorns\r\n",
      "vented,externally,hoods\r\n",
      "toss,tailgate,sales\r\n",
      "organization,pedestals\r\n",
      "grand,\r\n"
     ]
    }
   ],
   "source": [
    "!tail -10 /workspace/datasets/fasttext/synonyms.csv"
   ]
  },
  {
   "cell_type": "code",
   "execution_count": 185,
   "id": "e49b4a9a",
   "metadata": {},
   "outputs": [],
   "source": [
    "!docker cp /workspace/datasets/fasttext/synonyms.csv opensearch-node1:/usr/share/opensearch/config/synonyms.csv"
   ]
  },
  {
   "cell_type": "code",
   "execution_count": 188,
   "id": "1eaa6782",
   "metadata": {
    "scrolled": true
   },
   "outputs": [
    {
     "name": "stdout",
     "output_type": "stream",
     "text": [
      "{\r\n",
      "  \"took\": 7,\r\n",
      "  \"timed_out\": false,\r\n",
      "  \"_shards\": {\r\n",
      "    \"total\": 1,\r\n",
      "    \"successful\": 1,\r\n",
      "    \"skipped\": 0,\r\n",
      "    \"failed\": 0\r\n",
      "  },\r\n",
      "  \"hits\": {\r\n",
      "    \"total\": {\r\n",
      "      \"value\": 1205,\r\n",
      "      \"relation\": \"eq\"\r\n",
      "    },\r\n",
      "    \"max_score\": 843.09705,\r\n",
      "    \"hits\": [\r\n",
      "      {\r\n",
      "        \"_index\": \"bbuy_products\",\r\n",
      "        \"_id\": \"9084206\",\r\n",
      "        \"_score\": 843.09705,\r\n",
      "        \"_source\": {\r\n",
      "          \"name\": [\r\n",
      "            \"Apple\\u00ae - Earbuds for Select Apple\\u00ae iPod\\u00ae Models\"\r\n",
      "          ],\r\n",
      "          \"shortDescription\": [\r\n",
      "            \"Compatible with 4th-generation iPod nano, 120GB iPod classic and 2nd-generation iPod touch; remote for controlling music and video playback; microphone for recording voice memos\"\r\n",
      "          ]\r\n",
      "        }\r\n",
      "      },\r\n",
      "      {\r\n",
      "        \"_index\": \"bbuy_products\",\r\n",
      "        \"_id\": \"2197043\",\r\n",
      "        \"_score\": 121.19351,\r\n",
      "        \"_source\": {\r\n",
      "          \"name\": [\r\n",
      "            \"Sony - Earbud Headphones - Black\"\r\n",
      "          ],\r\n",
      "          \"shortDescription\": [\r\n",
      "            \"13.5mm drivers; neodymium magnet; 3 sets of silicone ear cushions\"\r\n",
      "          ]\r\n",
      "        }\r\n",
      "      },\r\n",
      "      {\r\n",
      "        \"_index\": \"bbuy_products\",\r\n",
      "        \"_id\": \"3100277\",\r\n",
      "        \"_score\": 109.44192,\r\n",
      "        \"_source\": {\r\n",
      "          \"name\": [\r\n",
      "            \"Rocketfish\\u2122 - Stereo Earbud Headphones\"\r\n",
      "          ],\r\n",
      "          \"shortDescription\": [\r\n",
      "            \"10mm drivers; neodymium magnets; lightweight design\"\r\n",
      "          ]\r\n",
      "        }\r\n",
      "      },\r\n",
      "      {\r\n",
      "        \"_index\": \"bbuy_products\",\r\n",
      "        \"_id\": \"2197089\",\r\n",
      "        \"_score\": 109.428734,\r\n",
      "        \"_source\": {\r\n",
      "          \"name\": [\r\n",
      "            \"Sony - Earbud Headphones - White\"\r\n",
      "          ],\r\n",
      "          \"shortDescription\": [\r\n",
      "            \"13.5mm drivers; neodymium magnet; 3 sets of silicone ear cushions\"\r\n",
      "          ]\r\n",
      "        }\r\n",
      "      },\r\n",
      "      {\r\n",
      "        \"_index\": \"bbuy_products\",\r\n",
      "        \"_id\": \"8605459\",\r\n",
      "        \"_score\": 99.21863,\r\n",
      "        \"_source\": {\r\n",
      "          \"name\": [\r\n",
      "            \"JVC - Gumy Stereo Earbud Headphones - Olive Black\"\r\n",
      "          ],\r\n",
      "          \"shortDescription\": [\r\n",
      "            \"Compatible with most portable audio devices; 3-1/3' cord; gold-plated stereo mini jack\"\r\n",
      "          ]\r\n",
      "        }\r\n",
      "      },\r\n",
      "      {\r\n",
      "        \"_index\": \"bbuy_products\",\r\n",
      "        \"_id\": \"3316072\",\r\n",
      "        \"_score\": 98.27057,\r\n",
      "        \"_source\": {\r\n",
      "          \"name\": [\r\n",
      "            \"JVC - JVC Sport Clip Earbud Headphones - Black\"\r\n",
      "          ],\r\n",
      "          \"shortDescription\": [\r\n",
      "            \"JVC Sport Clip Earbud Headphones: Rubber ear hooks; water-resistant design; sound isolating; 11mm drivers; neodymium magnets\"\r\n",
      "          ]\r\n",
      "        }\r\n",
      "      },\r\n",
      "      {\r\n",
      "        \"_index\": \"bbuy_products\",\r\n",
      "        \"_id\": \"8605253\",\r\n",
      "        \"_score\": 95.65777,\r\n",
      "        \"_source\": {\r\n",
      "          \"name\": [\r\n",
      "            \"JVC - Gumy Stereo Earbud Headphones - Coconut White\"\r\n",
      "          ],\r\n",
      "          \"shortDescription\": [\r\n",
      "            \"From our expanded online assortment; compatible with most portable audio devices; 3-1/3' cord; gold-plated stereo mini jack\"\r\n",
      "          ]\r\n",
      "        }\r\n",
      "      },\r\n",
      "      {\r\n",
      "        \"_index\": \"bbuy_products\",\r\n",
      "        \"_id\": \"1232474\",\r\n",
      "        \"_score\": 92.01677,\r\n",
      "        \"_source\": {\r\n",
      "          \"name\": [\r\n",
      "            \"Beats By Dr. Dre - Beats iBeats Earbud Headphones\"\r\n",
      "          ],\r\n",
      "          \"shortDescription\": [\r\n",
      "            \"3-button microphone; noise-canceling design; Duraflex protective jacket\"\r\n",
      "          ]\r\n",
      "        }\r\n",
      "      },\r\n",
      "      {\r\n",
      "        \"_index\": \"bbuy_products\",\r\n",
      "        \"_id\": \"2197052\",\r\n",
      "        \"_score\": 86.037025,\r\n",
      "        \"_source\": {\r\n",
      "          \"name\": [\r\n",
      "            \"Sony - Earbud Headphones - Dark Blue\"\r\n",
      "          ],\r\n",
      "          \"shortDescription\": [\r\n",
      "            \"13.5mm drivers; neodymium magnet; 3 sets of silicone ear cushions\"\r\n",
      "          ]\r\n",
      "        }\r\n",
      "      },\r\n",
      "      {\r\n",
      "        \"_index\": \"bbuy_products\",\r\n",
      "        \"_id\": \"2264036\",\r\n",
      "        \"_score\": 85.73258,\r\n",
      "        \"_source\": {\r\n",
      "          \"name\": [\r\n",
      "            \"JayBird - Freedom Bluetooth Earbud Headphones\"\r\n",
      "          ],\r\n",
      "          \"shortDescription\": [\r\n",
      "            \"GeckoGrip active ear tips; 6 earbud sizes; Bluetooth-ready; sound isolating; tangle-free flat cord; magnet-sealed hard shell carrying case\"\r\n",
      "          ]\r\n",
      "        }\r\n",
      "      }\r\n",
      "    ]\r\n",
      "  }\r\n",
      "}\r\n"
     ]
    }
   ],
   "source": [
    "!python utilities/query.py --query earbuds"
   ]
  },
  {
   "cell_type": "code",
   "execution_count": 189,
   "id": "e825545b",
   "metadata": {},
   "outputs": [
    {
     "name": "stdout",
     "output_type": "stream",
     "text": [
      "Querying via synonyms\r\n",
      "{\r\n",
      "  \"took\": 9,\r\n",
      "  \"timed_out\": false,\r\n",
      "  \"_shards\": {\r\n",
      "    \"total\": 1,\r\n",
      "    \"successful\": 1,\r\n",
      "    \"skipped\": 0,\r\n",
      "    \"failed\": 0\r\n",
      "  },\r\n",
      "  \"hits\": {\r\n",
      "    \"total\": {\r\n",
      "      \"value\": 4606,\r\n",
      "      \"relation\": \"eq\"\r\n",
      "    },\r\n",
      "    \"max_score\": 851.03107,\r\n",
      "    \"hits\": [\r\n",
      "      {\r\n",
      "        \"_index\": \"bbuy_products\",\r\n",
      "        \"_id\": \"9084206\",\r\n",
      "        \"_score\": 851.03107,\r\n",
      "        \"_source\": {\r\n",
      "          \"name\": [\r\n",
      "            \"Apple\\u00ae - Earbuds for Select Apple\\u00ae iPod\\u00ae Models\"\r\n",
      "          ],\r\n",
      "          \"shortDescription\": [\r\n",
      "            \"Compatible with 4th-generation iPod nano, 120GB iPod classic and 2nd-generation iPod touch; remote for controlling music and video playback; microphone for recording voice memos\"\r\n",
      "          ]\r\n",
      "        }\r\n",
      "      },\r\n",
      "      {\r\n",
      "        \"_index\": \"bbuy_products\",\r\n",
      "        \"_id\": \"3109302\",\r\n",
      "        \"_score\": 188.7468,\r\n",
      "        \"_source\": {\r\n",
      "          \"name\": [\r\n",
      "            \"Apple\\u00ae - iPod touch\\u00ae 8GB* MP3 Player (4th Generation - Latest Model) - White\"\r\n",
      "          ],\r\n",
      "          \"shortDescription\": [\r\n",
      "            \"iOS 5, iCloud, iMessage, FaceTime camera, HD video recording, Retina display, Multi-Touch interface, 3.5\\\" widescreen display, Wi-Fi web browsing\"\r\n",
      "          ]\r\n",
      "        }\r\n",
      "      },\r\n",
      "      {\r\n",
      "        \"_index\": \"bbuy_products\",\r\n",
      "        \"_id\": \"9225377\",\r\n",
      "        \"_score\": 176.31398,\r\n",
      "        \"_source\": {\r\n",
      "          \"name\": [\r\n",
      "            \"Apple\\u00ae - iPod touch\\u00ae 8GB* MP3 Player (4th Generation - Latest Model) - Black\"\r\n",
      "          ],\r\n",
      "          \"shortDescription\": [\r\n",
      "            \"FaceTime camera, HD video recording, Retina display, Multi-Touch interface; gorgeous 3.5\\\" widescreen display; Wi-Fi Web browsing\"\r\n",
      "          ]\r\n",
      "        }\r\n",
      "      },\r\n",
      "      {\r\n",
      "        \"_index\": \"bbuy_products\",\r\n",
      "        \"_id\": \"4854433\",\r\n",
      "        \"_score\": 155.02245,\r\n",
      "        \"_source\": {\r\n",
      "          \"name\": [\r\n",
      "            \"Apple\\u00ae - Apple TV\\u00ae\"\r\n",
      "          ],\r\n",
      "          \"shortDescription\": [\r\n",
      "            \"3rd generation; compatible with most HDTVs with an HDMI interface; allows you to stream movies, TV shows, photos and music from your computer to your HDTV or home theater system; 802.11a/b/g/n wireless LAN. \\nLearn more about smart products.\"\r\n",
      "          ]\r\n",
      "        }\r\n",
      "      },\r\n",
      "      {\r\n",
      "        \"_index\": \"bbuy_products\",\r\n",
      "        \"_id\": \"2197043\",\r\n",
      "        \"_score\": 150.4646,\r\n",
      "        \"_source\": {\r\n",
      "          \"name\": [\r\n",
      "            \"Sony - Earbud Headphones - Black\"\r\n",
      "          ],\r\n",
      "          \"shortDescription\": [\r\n",
      "            \"13.5mm drivers; neodymium magnet; 3 sets of silicone ear cushions\"\r\n",
      "          ]\r\n",
      "        }\r\n",
      "      },\r\n",
      "      {\r\n",
      "        \"_index\": \"bbuy_products\",\r\n",
      "        \"_id\": \"8605459\",\r\n",
      "        \"_score\": 147.64642,\r\n",
      "        \"_source\": {\r\n",
      "          \"name\": [\r\n",
      "            \"JVC - Gumy Stereo Earbud Headphones - Olive Black\"\r\n",
      "          ],\r\n",
      "          \"shortDescription\": [\r\n",
      "            \"Compatible with most portable audio devices; 3-1/3' cord; gold-plated stereo mini jack\"\r\n",
      "          ]\r\n",
      "        }\r\n",
      "      },\r\n",
      "      {\r\n",
      "        \"_index\": \"bbuy_products\",\r\n",
      "        \"_id\": \"3100277\",\r\n",
      "        \"_score\": 145.05316,\r\n",
      "        \"_source\": {\r\n",
      "          \"name\": [\r\n",
      "            \"Rocketfish\\u2122 - Stereo Earbud Headphones\"\r\n",
      "          ],\r\n",
      "          \"shortDescription\": [\r\n",
      "            \"10mm drivers; neodymium magnets; lightweight design\"\r\n",
      "          ]\r\n",
      "        }\r\n",
      "      },\r\n",
      "      {\r\n",
      "        \"_index\": \"bbuy_products\",\r\n",
      "        \"_id\": \"3316072\",\r\n",
      "        \"_score\": 143.67764,\r\n",
      "        \"_source\": {\r\n",
      "          \"name\": [\r\n",
      "            \"JVC - JVC Sport Clip Earbud Headphones - Black\"\r\n",
      "          ],\r\n",
      "          \"shortDescription\": [\r\n",
      "            \"JVC Sport Clip Earbud Headphones: Rubber ear hooks; water-resistant design; sound isolating; 11mm drivers; neodymium magnets\"\r\n",
      "          ]\r\n",
      "        }\r\n",
      "      },\r\n",
      "      {\r\n",
      "        \"_index\": \"bbuy_products\",\r\n",
      "        \"_id\": \"9251098\",\r\n",
      "        \"_score\": 142.59753,\r\n",
      "        \"_source\": {\r\n",
      "          \"name\": [\r\n",
      "            \"Skullcandy - Ink'd Stereo Ear Bud Headphones - Black/Chrome\"\r\n",
      "          ],\r\n",
      "          \"shortDescription\": [\r\n",
      "            \"Ear bud design; silicone ear gels; noise reduction\"\r\n",
      "          ]\r\n",
      "        }\r\n",
      "      },\r\n",
      "      {\r\n",
      "        \"_index\": \"bbuy_products\",\r\n",
      "        \"_id\": \"8605253\",\r\n",
      "        \"_score\": 142.34755,\r\n",
      "        \"_source\": {\r\n",
      "          \"name\": [\r\n",
      "            \"JVC - Gumy Stereo Earbud Headphones - Coconut White\"\r\n",
      "          ],\r\n",
      "          \"shortDescription\": [\r\n",
      "            \"From our expanded online assortment; compatible with most portable audio devices; 3-1/3' cord; gold-plated stereo mini jack\"\r\n",
      "          ]\r\n",
      "        }\r\n",
      "      }\r\n",
      "    ]\r\n",
      "  }\r\n",
      "}\r\n"
     ]
    }
   ],
   "source": [
    "!python utilities/query.py --query earbuds --synonyms"
   ]
  },
  {
   "cell_type": "code",
   "execution_count": 190,
   "id": "0ca467cd",
   "metadata": {},
   "outputs": [
    {
     "name": "stdout",
     "output_type": "stream",
     "text": [
      "{\r\n",
      "  \"took\": 4,\r\n",
      "  \"timed_out\": false,\r\n",
      "  \"_shards\": {\r\n",
      "    \"total\": 1,\r\n",
      "    \"successful\": 1,\r\n",
      "    \"skipped\": 0,\r\n",
      "    \"failed\": 0\r\n",
      "  },\r\n",
      "  \"hits\": {\r\n",
      "    \"total\": {\r\n",
      "      \"value\": 8,\r\n",
      "      \"relation\": \"eq\"\r\n",
      "    },\r\n",
      "    \"max_score\": 0.07420327,\r\n",
      "    \"hits\": [\r\n",
      "      {\r\n",
      "        \"_index\": \"bbuy_products\",\r\n",
      "        \"_id\": \"1720059\",\r\n",
      "        \"_score\": 0.07420327,\r\n",
      "        \"_source\": {\r\n",
      "          \"name\": [\r\n",
      "            \"Nespresso - Essenza Espresso Maker - Black\"\r\n",
      "          ],\r\n",
      "          \"shortDescription\": [\r\n",
      "            \"Automatic and programmable; compact brewing unit technology; included Aeroccino milk frother; backlit on/off and coffee volume buttons\"\r\n",
      "          ]\r\n",
      "        }\r\n",
      "      },\r\n",
      "      {\r\n",
      "        \"_index\": \"bbuy_products\",\r\n",
      "        \"_id\": \"3990516\",\r\n",
      "        \"_score\": 0.07420327,\r\n",
      "        \"_source\": {\r\n",
      "          \"name\": [\r\n",
      "            \"Nespresso - Essenza Espresso Maker - Black\"\r\n",
      "          ],\r\n",
      "          \"shortDescription\": [\r\n",
      "            \"Makes espresso and lungo; 19-bar high-pressure pump; Thermobloc heating element; Compact Brewing Unit technology; 30-oz. removable water tank; manual volume control; backlit coffee buttons; 1260 watts of power\"\r\n",
      "          ]\r\n",
      "        }\r\n",
      "      },\r\n",
      "      {\r\n",
      "        \"_index\": \"bbuy_products\",\r\n",
      "        \"_id\": \"3990589\",\r\n",
      "        \"_score\": 0.07074005,\r\n",
      "        \"_source\": {\r\n",
      "          \"name\": [\r\n",
      "            \"Nespresso - CitiZ Espresso Maker - Black\"\r\n",
      "          ],\r\n",
      "          \"shortDescription\": [\r\n",
      "            \"Makes espresso and lungo; 19-bar high-pressure pump; automatic volume control; thermo block heating element; auto power-off after 9 minutes; folding drip tray; removable 34-oz. water tank; adaptable grid\"\r\n",
      "          ]\r\n",
      "        }\r\n",
      "      },\r\n",
      "      {\r\n",
      "        \"_index\": \"bbuy_products\",\r\n",
      "        \"_id\": \"3990831\",\r\n",
      "        \"_score\": 0.07074005,\r\n",
      "        \"_source\": {\r\n",
      "          \"name\": [\r\n",
      "            \"Nespresso - CitiZ Espresso Maker - Red\"\r\n",
      "          ],\r\n",
      "          \"shortDescription\": [\r\n",
      "            \"Makes espresso and lungo; 19-bar high-pressure pump; automatic volume control; thermo block heating element; auto power-off after 9 minutes; folding drip tray; removable 34-oz. water tank; adaptable grid\"\r\n",
      "          ]\r\n",
      "        }\r\n",
      "      },\r\n",
      "      {\r\n",
      "        \"_index\": \"bbuy_products\",\r\n",
      "        \"_id\": \"2588376\",\r\n",
      "        \"_score\": 0.07073941,\r\n",
      "        \"_source\": {\r\n",
      "          \"name\": [\r\n",
      "            \"Nespresso - Essenza Espresso Maker - Titan Gray\"\r\n",
      "          ],\r\n",
      "          \"shortDescription\": [\r\n",
      "            \"Automatic and programmable; compact unit brewing technology; included Aeroccino milk frother; backlit on/off and coffee volume buttons\"\r\n",
      "          ]\r\n",
      "        }\r\n",
      "      },\r\n",
      "      {\r\n",
      "        \"_index\": \"bbuy_products\",\r\n",
      "        \"_id\": \"3990534\",\r\n",
      "        \"_score\": 0.07073941,\r\n",
      "        \"_source\": {\r\n",
      "          \"name\": [\r\n",
      "            \"Nespresso - Pixie Espresso Maker - Electric Aluminum\"\r\n",
      "          ],\r\n",
      "          \"shortDescription\": [\r\n",
      "            \"Thermoblock heating element; 19-bar high-pressure pump; automatic volume control; folding drip tray; cable storage\"\r\n",
      "          ]\r\n",
      "        }\r\n",
      "      },\r\n",
      "      {\r\n",
      "        \"_index\": \"bbuy_products\",\r\n",
      "        \"_id\": \"3990561\",\r\n",
      "        \"_score\": 0.07073941,\r\n",
      "        \"_source\": {\r\n",
      "          \"name\": [\r\n",
      "            \"Nespresso - Pixie Espresso Maker - Electric Titan\"\r\n",
      "          ],\r\n",
      "          \"shortDescription\": [\r\n",
      "            \"Thermoblock heating element; 19-bar high-pressure pump; folding drip tray; cable storage; capsule container\"\r\n",
      "          ]\r\n",
      "        }\r\n",
      "      },\r\n",
      "      {\r\n",
      "        \"_index\": \"bbuy_products\",\r\n",
      "        \"_id\": \"3991039\",\r\n",
      "        \"_score\": 0.06758508,\r\n",
      "        \"_source\": {\r\n",
      "          \"name\": [\r\n",
      "            \"Nespresso - CitiZ & Milk Coffeemaker - Silver Chrome\"\r\n",
      "          ],\r\n",
      "          \"shortDescription\": [\r\n",
      "            \"Thermoblock heating element; froths hot or cold milk; 19-bar high-pressure pump; folding drip tray; cable storage\"\r\n",
      "          ]\r\n",
      "        }\r\n",
      "      }\r\n",
      "    ]\r\n",
      "  }\r\n",
      "}\r\n"
     ]
    }
   ],
   "source": [
    "!python utilities/query.py --query nespresso"
   ]
  },
  {
   "cell_type": "code",
   "execution_count": 191,
   "id": "bc458684",
   "metadata": {},
   "outputs": [
    {
     "name": "stdout",
     "output_type": "stream",
     "text": [
      "Querying via synonyms\n",
      "{\n",
      "  \"took\": 6,\n",
      "  \"timed_out\": false,\n",
      "  \"_shards\": {\n",
      "    \"total\": 1,\n",
      "    \"successful\": 1,\n",
      "    \"skipped\": 0,\n",
      "    \"failed\": 0\n",
      "  },\n",
      "  \"hits\": {\n",
      "    \"total\": {\n",
      "      \"value\": 270,\n",
      "      \"relation\": \"eq\"\n",
      "    },\n",
      "    \"max_score\": 6.1888156,\n",
      "    \"hits\": [\n",
      "      {\n",
      "        \"_index\": \"bbuy_products\",\n",
      "        \"_id\": \"2473053\",\n",
      "        \"_score\": 6.1888156,\n",
      "        \"_source\": {\n",
      "          \"name\": [\n",
      "            \"Dynex\\u2122 - Espresso Basic Stand for TVs Up to 32\\\"\"\n",
      "          ],\n",
      "          \"shortDescription\": [\n",
      "            \"Accommodates up to 3 full-size components; additional storage for game consoles; 1 adjustable shelf; particle board; slide-on moldings; wire management\"\n",
      "          ]\n",
      "        }\n",
      "      },\n",
      "      {\n",
      "        \"_index\": \"bbuy_products\",\n",
      "        \"_id\": \"1720059\",\n",
      "        \"_score\": 0.074758835,\n",
      "        \"_source\": {\n",
      "          \"name\": [\n",
      "            \"Nespresso - Essenza Espresso Maker - Black\"\n",
      "          ],\n",
      "          \"shortDescription\": [\n",
      "            \"Automatic and programmable; compact brewing unit technology; included Aeroccino milk frother; backlit on/off and coffee volume buttons\"\n",
      "          ]\n",
      "        }\n",
      "      },\n",
      "      {\n",
      "        \"_index\": \"bbuy_products\",\n",
      "        \"_id\": \"3990516\",\n",
      "        \"_score\": 0.074758835,\n",
      "        \"_source\": {\n",
      "          \"name\": [\n",
      "            \"Nespresso - Essenza Espresso Maker - Black\"\n",
      "          ],\n",
      "          \"shortDescription\": [\n",
      "            \"Makes espresso and lungo; 19-bar high-pressure pump; Thermobloc heating element; Compact Brewing Unit technology; 30-oz. removable water tank; manual volume control; backlit coffee buttons; 1260 watts of power\"\n",
      "          ]\n",
      "        }\n",
      "      },\n",
      "      {\n",
      "        \"_index\": \"bbuy_products\",\n",
      "        \"_id\": \"3990589\",\n",
      "        \"_score\": 0.07186335,\n",
      "        \"_source\": {\n",
      "          \"name\": [\n",
      "            \"Nespresso - CitiZ Espresso Maker - Black\"\n",
      "          ],\n",
      "          \"shortDescription\": [\n",
      "            \"Makes espresso and lungo; 19-bar high-pressure pump; automatic volume control; thermo block heating element; auto power-off after 9 minutes; folding drip tray; removable 34-oz. water tank; adaptable grid\"\n",
      "          ]\n",
      "        }\n",
      "      },\n",
      "      {\n",
      "        \"_index\": \"bbuy_products\",\n",
      "        \"_id\": \"3990831\",\n",
      "        \"_score\": 0.07186335,\n",
      "        \"_source\": {\n",
      "          \"name\": [\n",
      "            \"Nespresso - CitiZ Espresso Maker - Red\"\n",
      "          ],\n",
      "          \"shortDescription\": [\n",
      "            \"Makes espresso and lungo; 19-bar high-pressure pump; automatic volume control; thermo block heating element; auto power-off after 9 minutes; folding drip tray; removable 34-oz. water tank; adaptable grid\"\n",
      "          ]\n",
      "        }\n",
      "      },\n",
      "      {\n",
      "        \"_index\": \"bbuy_products\",\n",
      "        \"_id\": \"2588376\",\n",
      "        \"_score\": 0.071823865,\n",
      "        \"_source\": {\n",
      "          \"name\": [\n",
      "            \"Nespresso - Essenza Espresso Maker - Titan Gray\"\n",
      "          ],\n",
      "          \"shortDescription\": [\n",
      "            \"Automatic and programmable; compact unit brewing technology; included Aeroccino milk frother; backlit on/off and coffee volume buttons\"\n",
      "          ]\n",
      "        }\n",
      "      },\n",
      "      {\n",
      "        \"_index\": \"bbuy_products\",\n",
      "        \"_id\": \"3990534\",\n",
      "        \"_score\": 0.071823865,\n",
      "        \"_source\": {\n",
      "          \"name\": [\n",
      "            \"Nespresso - Pixie Espresso Maker - Electric Aluminum\"\n",
      "          ],\n",
      "          \"shortDescription\": [\n",
      "            \"Thermoblock heating element; 19-bar high-pressure pump; automatic volume control; folding drip tray; cable storage\"\n",
      "          ]\n",
      "        }\n",
      "      },\n",
      "      {\n",
      "        \"_index\": \"bbuy_products\",\n",
      "        \"_id\": \"3990561\",\n",
      "        \"_score\": 0.071823865,\n",
      "        \"_source\": {\n",
      "          \"name\": [\n",
      "            \"Nespresso - Pixie Espresso Maker - Electric Titan\"\n",
      "          ],\n",
      "          \"shortDescription\": [\n",
      "            \"Thermoblock heating element; 19-bar high-pressure pump; folding drip tray; cable storage; capsule container\"\n",
      "          ]\n",
      "        }\n",
      "      },\n",
      "      {\n",
      "        \"_index\": \"bbuy_products\",\n",
      "        \"_id\": \"3991039\",\n",
      "        \"_score\": 0.06852728,\n",
      "        \"_source\": {\n",
      "          \"name\": [\n",
      "            \"Nespresso - CitiZ & Milk Coffeemaker - Silver Chrome\"\n",
      "          ],\n",
      "          \"shortDescription\": [\n",
      "            \"Thermoblock heating element; froths hot or cold milk; 19-bar high-pressure pump; folding drip tray; cable storage\"\n",
      "          ]\n",
      "        }\n",
      "      },\n",
      "      {\n",
      "        \"_index\": \"bbuy_products\",\n",
      "        \"_id\": \"9248655\",\n",
      "        \"_score\": 0.015509506,\n",
      "        \"_source\": {\n",
      "          \"name\": [\n",
      "            \"Init\\u2122 - Media Storage Cabinet - Espresso\"\n",
      "          ],\n",
      "          \"shortDescription\": [\n",
      "            \"Stores up to 200 CDs or 136 DVDs; metal design with bronze accent; tempered-glass doors; espresso finish\"\n",
      "          ]\n",
      "        }\n",
      "      }\n",
      "    ]\n",
      "  }\n",
      "}\n"
     ]
    }
   ],
   "source": [
    "!python utilities/query.py --query nespresso --synonyms"
   ]
  },
  {
   "cell_type": "code",
   "execution_count": 192,
   "id": "ad1fa549",
   "metadata": {},
   "outputs": [
    {
     "name": "stdout",
     "output_type": "stream",
     "text": [
      "{\r\n",
      "  \"took\": 7,\r\n",
      "  \"timed_out\": false,\r\n",
      "  \"_shards\": {\r\n",
      "    \"total\": 1,\r\n",
      "    \"successful\": 1,\r\n",
      "    \"skipped\": 0,\r\n",
      "    \"failed\": 0\r\n",
      "  },\r\n",
      "  \"hits\": {\r\n",
      "    \"total\": {\r\n",
      "      \"value\": 2837,\r\n",
      "      \"relation\": \"eq\"\r\n",
      "    },\r\n",
      "    \"max_score\": 408.17416,\r\n",
      "    \"hits\": [\r\n",
      "      {\r\n",
      "        \"_index\": \"bbuy_products\",\r\n",
      "        \"_id\": \"1980124\",\r\n",
      "        \"_score\": 408.17416,\r\n",
      "        \"_source\": {\r\n",
      "          \"name\": [\r\n",
      "            \"Canon - EOS Rebel T3i 18.0-Megapixel DSLR Camera with 18-55mm Lens - Black\"\r\n",
      "          ],\r\n",
      "          \"shortDescription\": [\r\n",
      "            \"Vari-angle 3.0-inch Clear View LCD screen1080 full HD video3.7 FPS (frames per second)ISO 100-6400 (expandable to 12800)\"\r\n",
      "          ]\r\n",
      "        }\r\n",
      "      },\r\n",
      "      {\r\n",
      "        \"_index\": \"bbuy_products\",\r\n",
      "        \"_id\": \"1989073\",\r\n",
      "        \"_score\": 347.9671,\r\n",
      "        \"_source\": {\r\n",
      "          \"name\": [\r\n",
      "            \"Nikon - D5100 16.2-Megapixel DSLR Camera with 18-55mm VR Lens - Black\"\r\n",
      "          ],\r\n",
      "          \"shortDescription\": [\r\n",
      "            \"High Resolution 16.2 MP DX-format CMOS sensor3\\\" Super-Density Vari-Angle LCD Monitor1080 full HD videoISO sensitivity 100-6400 (expandable to ISO 25,600 equivalent)\"\r\n",
      "          ]\r\n",
      "        }\r\n",
      "      },\r\n",
      "      {\r\n",
      "        \"_index\": \"bbuy_products\",\r\n",
      "        \"_id\": \"6813362\",\r\n",
      "        \"_score\": 193.71939,\r\n",
      "        \"_source\": {\r\n",
      "          \"name\": [\r\n",
      "            \"Canon - DSLR Gadget Bag - Black\"\r\n",
      "          ],\r\n",
      "          \"shortDescription\": [\r\n",
      "            \"Convenient storage for Canon EOS DSLR cameras\"\r\n",
      "          ]\r\n",
      "        }\r\n",
      "      },\r\n",
      "      {\r\n",
      "        \"_index\": \"bbuy_products\",\r\n",
      "        \"_id\": \"2705145\",\r\n",
      "        \"_score\": 27.712948,\r\n",
      "        \"_source\": {\r\n",
      "          \"name\": [\r\n",
      "            \"DigiPower - Travel Charger\"\r\n",
      "          ],\r\n",
      "          \"shortDescription\": [\r\n",
      "            \"Compatible with select Canon DSLR batteries; provides uninterrupted power for your digital camera; lightweight design\"\r\n",
      "          ]\r\n",
      "        }\r\n",
      "      },\r\n",
      "      {\r\n",
      "        \"_index\": \"bbuy_products\",\r\n",
      "        \"_id\": \"9778635\",\r\n",
      "        \"_score\": 27.528584,\r\n",
      "        \"_source\": {\r\n",
      "          \"name\": [\r\n",
      "            \"Canon - EOS Rebel T2i 18.0-Megapixel DSLR Camera with EF-S 18-55mm Lens - Black\"\r\n",
      "          ],\r\n",
      "          \"shortDescription\": [\r\n",
      "            \"3\\\" LCD screenFull HD videoISO 100-6400 (expandable to 12800)\"\r\n",
      "          ]\r\n",
      "        }\r\n",
      "      },\r\n",
      "      {\r\n",
      "        \"_index\": \"bbuy_products\",\r\n",
      "        \"_id\": \"1223834\",\r\n",
      "        \"_score\": 11.542395,\r\n",
      "        \"_source\": {\r\n",
      "          \"name\": [\r\n",
      "            \"PNY - 16GB Secure Digital High Capacity (SDHC) Class 10 Memory Card\"\r\n",
      "          ],\r\n",
      "          \"shortDescription\": [\r\n",
      "            \"Compatible with most digital cameras and camcorders with a Secure Digital High Capacity slot; 16GB capacity; shock protection and RTV silicone coating\"\r\n",
      "          ]\r\n",
      "        }\r\n",
      "      },\r\n",
      "      {\r\n",
      "        \"_index\": \"bbuy_products\",\r\n",
      "        \"_id\": \"1227075\",\r\n",
      "        \"_score\": 10.8557005,\r\n",
      "        \"_source\": {\r\n",
      "          \"name\": [\r\n",
      "            \"PNY - 8GB Secure Digital High Capacity (SDHC) Class 10 Memory Card\"\r\n",
      "          ],\r\n",
      "          \"shortDescription\": [\r\n",
      "            \"Compatible with most digital cameras and camcorders with a Secure Digital High Capacity slot; 8GB capacity; shock protection and RTV silicone coating\"\r\n",
      "          ]\r\n",
      "        }\r\n",
      "      },\r\n",
      "      {\r\n",
      "        \"_index\": \"bbuy_products\",\r\n",
      "        \"_id\": \"3099128\",\r\n",
      "        \"_score\": 10.553733,\r\n",
      "        \"_source\": {\r\n",
      "          \"name\": [\r\n",
      "            \"Nikon - D3100 14.2-Megapixel DSLR Camera with 18-55mm VR Lens - Red\"\r\n",
      "          ],\r\n",
      "          \"shortDescription\": [\r\n",
      "            \"3\\\" TFT-LCD display1080p full HD videoUp to 3 fpsISO 100-3200 (expandable to 12,800)\"\r\n",
      "          ]\r\n",
      "        }\r\n",
      "      },\r\n",
      "      {\r\n",
      "        \"_index\": \"bbuy_products\",\r\n",
      "        \"_id\": \"2300602\",\r\n",
      "        \"_score\": 6.7035723,\r\n",
      "        \"_source\": {\r\n",
      "          \"name\": [\r\n",
      "            \"PNY - 32GB Secure Digital High Capacity (SDHC) Class 10 Memory Card\"\r\n",
      "          ],\r\n",
      "          \"shortDescription\": [\r\n",
      "            \"Compatible with most digital cameras with a Secure Digital High Capacity slot; 32GB capacity; 20MB/sec. transfer rate\"\r\n",
      "          ]\r\n",
      "        }\r\n",
      "      },\r\n",
      "      {\r\n",
      "        \"_index\": \"bbuy_products\",\r\n",
      "        \"_id\": \"8758114\",\r\n",
      "        \"_score\": 6.677643,\r\n",
      "        \"_source\": {\r\n",
      "          \"name\": [\r\n",
      "            \"Canon - 55-250mm f/4-5.6 Telephoto Zoom Lens for Select Canon Cameras\"\r\n",
      "          ],\r\n",
      "          \"shortDescription\": [\r\n",
      "            \"Compatible with Canon cameras with an EF-S mount; optical image stabilizer maintains clarity at slow shutter speeds; 12 elements in 10 groups\"\r\n",
      "          ]\r\n",
      "        }\r\n",
      "      }\r\n",
      "    ]\r\n",
      "  }\r\n",
      "}\r\n"
     ]
    }
   ],
   "source": [
    "!python utilities/query.py --query dslr"
   ]
  },
  {
   "cell_type": "code",
   "execution_count": 193,
   "id": "0b2677c6",
   "metadata": {},
   "outputs": [
    {
     "name": "stdout",
     "output_type": "stream",
     "text": [
      "Querying via synonyms\n",
      "{\n",
      "  \"took\": 20,\n",
      "  \"timed_out\": false,\n",
      "  \"_shards\": {\n",
      "    \"total\": 1,\n",
      "    \"successful\": 1,\n",
      "    \"skipped\": 0,\n",
      "    \"failed\": 0\n",
      "  },\n",
      "  \"hits\": {\n",
      "    \"total\": {\n",
      "      \"value\": 7023,\n",
      "      \"relation\": \"eq\"\n",
      "    },\n",
      "    \"max_score\": 440.97403,\n",
      "    \"hits\": [\n",
      "      {\n",
      "        \"_index\": \"bbuy_products\",\n",
      "        \"_id\": \"1980124\",\n",
      "        \"_score\": 440.97403,\n",
      "        \"_source\": {\n",
      "          \"name\": [\n",
      "            \"Canon - EOS Rebel T3i 18.0-Megapixel DSLR Camera with 18-55mm Lens - Black\"\n",
      "          ],\n",
      "          \"shortDescription\": [\n",
      "            \"Vari-angle 3.0-inch Clear View LCD screen1080 full HD video3.7 FPS (frames per second)ISO 100-6400 (expandable to 12800)\"\n",
      "          ]\n",
      "        }\n",
      "      },\n",
      "      {\n",
      "        \"_index\": \"bbuy_products\",\n",
      "        \"_id\": \"1989073\",\n",
      "        \"_score\": 371.35364,\n",
      "        \"_source\": {\n",
      "          \"name\": [\n",
      "            \"Nikon - D5100 16.2-Megapixel DSLR Camera with 18-55mm VR Lens - Black\"\n",
      "          ],\n",
      "          \"shortDescription\": [\n",
      "            \"High Resolution 16.2 MP DX-format CMOS sensor3\\\" Super-Density Vari-Angle LCD Monitor1080 full HD videoISO sensitivity 100-6400 (expandable to ISO 25,600 equivalent)\"\n",
      "          ]\n",
      "        }\n",
      "      },\n",
      "      {\n",
      "        \"_index\": \"bbuy_products\",\n",
      "        \"_id\": \"6813362\",\n",
      "        \"_score\": 193.72025,\n",
      "        \"_source\": {\n",
      "          \"name\": [\n",
      "            \"Canon - DSLR Gadget Bag - Black\"\n",
      "          ],\n",
      "          \"shortDescription\": [\n",
      "            \"Convenient storage for Canon EOS DSLR cameras\"\n",
      "          ]\n",
      "        }\n",
      "      },\n",
      "      {\n",
      "        \"_index\": \"bbuy_products\",\n",
      "        \"_id\": \"8297737\",\n",
      "        \"_score\": 106.87965,\n",
      "        \"_source\": {\n",
      "          \"name\": [\n",
      "            \"Kodak - EasyShare 7.1-Megapixel Digital Camera - Black\"\n",
      "          ],\n",
      "          \"shortDescription\": [\n",
      "            \"12x optical/4.2x digital/50x total zoom; 2.5\\\" color TFT-LCD; direct-print capability; Kodak Color Science chip; burst shooting mode\"\n",
      "          ]\n",
      "        }\n",
      "      },\n",
      "      {\n",
      "        \"_index\": \"bbuy_products\",\n",
      "        \"_id\": \"8758114\",\n",
      "        \"_score\": 96.954,\n",
      "        \"_source\": {\n",
      "          \"name\": [\n",
      "            \"Canon - 55-250mm f/4-5.6 Telephoto Zoom Lens for Select Canon Cameras\"\n",
      "          ],\n",
      "          \"shortDescription\": [\n",
      "            \"Compatible with Canon cameras with an EF-S mount; optical image stabilizer maintains clarity at slow shutter speeds; 12 elements in 10 groups\"\n",
      "          ]\n",
      "        }\n",
      "      },\n",
      "      {\n",
      "        \"_index\": \"bbuy_products\",\n",
      "        \"_id\": \"1048537\",\n",
      "        \"_score\": 87.66679,\n",
      "        \"_source\": {\n",
      "          \"name\": [\n",
      "            \"Rocketfish\\u2122 - 52mm UV Lens Filter\"\n",
      "          ],\n",
      "          \"shortDescription\": [\n",
      "            \"Compatible with most digital cameras that have a 52mm lens; protects the lens from dust and scratches; improves image clarity\"\n",
      "          ]\n",
      "        }\n",
      "      },\n",
      "      {\n",
      "        \"_index\": \"bbuy_products\",\n",
      "        \"_id\": \"9924603\",\n",
      "        \"_score\": 87.16763,\n",
      "        \"_source\": {\n",
      "          \"name\": [\n",
      "            \"Apple\\u00ae - iPad\\u2122 Digital Camera Connection Kit\"\n",
      "          ],\n",
      "          \"shortDescription\": [\n",
      "            \"Compatible with most digital cameras and Apple iPhone\\u00ae; media reader; USB interface\"\n",
      "          ]\n",
      "        }\n",
      "      },\n",
      "      {\n",
      "        \"_index\": \"bbuy_products\",\n",
      "        \"_id\": \"8510961\",\n",
      "        \"_score\": 86.00704,\n",
      "        \"_source\": {\n",
      "          \"name\": [\n",
      "            \"HP - Photosmart 7.2MP Digital Camera - White\"\n",
      "          ],\n",
      "          \"shortDescription\": [\n",
      "            \"3x optical/3x digital zoom; 2.4\\\" indoor/outdoor color LCD; HP Steady Photo shake reduction technology; 3 still-image quality modes; 9 picture modes; PictBridge-enabled\"\n",
      "          ]\n",
      "        }\n",
      "      },\n",
      "      {\n",
      "        \"_index\": \"bbuy_products\",\n",
      "        \"_id\": \"2053606\",\n",
      "        \"_score\": 78.63862,\n",
      "        \"_source\": {\n",
      "          \"name\": [\n",
      "            \"Lowepro - Tahoe 30 Digital Camera Bag - Black\"\n",
      "          ],\n",
      "          \"shortDescription\": [\n",
      "            \"Compatible with most compact point-and-shoot digital cameras, select compact camcorders, MP3 players and mobile phones; velocity nylon construction; soft, brushed tricot lining; zippered front pocket\"\n",
      "          ]\n",
      "        }\n",
      "      },\n",
      "      {\n",
      "        \"_index\": \"bbuy_products\",\n",
      "        \"_id\": \"8510952\",\n",
      "        \"_score\": 77.0759,\n",
      "        \"_source\": {\n",
      "          \"name\": [\n",
      "            \"Kodak - EasyShare 5.0MP Digital Camera - Pink\"\n",
      "          ],\n",
      "          \"shortDescription\": [\n",
      "            \"Best Buy Exclusive; 3x optical/5x digital zoom; 2.4\\\" color LCD; compact body; direct-print capability\"\n",
      "          ]\n",
      "        }\n",
      "      }\n",
      "    ]\n",
      "  }\n",
      "}\n"
     ]
    }
   ],
   "source": [
    "!python utilities/query.py --query dslr --synonyms"
   ]
  },
  {
   "cell_type": "code",
   "execution_count": null,
   "id": "c7c2cc01",
   "metadata": {},
   "outputs": [],
   "source": []
  }
 ],
 "metadata": {
  "kernelspec": {
   "display_name": "Python 3 (ipykernel)",
   "language": "python",
   "name": "python3"
  },
  "language_info": {
   "codemirror_mode": {
    "name": "ipython",
    "version": 3
   },
   "file_extension": ".py",
   "mimetype": "text/x-python",
   "name": "python",
   "nbconvert_exporter": "python",
   "pygments_lexer": "ipython3",
   "version": "3.9.7"
  }
 },
 "nbformat": 4,
 "nbformat_minor": 5
}
