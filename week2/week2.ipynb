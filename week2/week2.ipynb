{
 "cells": [
  {
   "cell_type": "code",
   "execution_count": 99,
   "id": "ca7f5022",
   "metadata": {},
   "outputs": [],
   "source": [
    "import pandas as pd\n",
    "import fasttext\n",
    "from logger import logger\n",
    "\n",
    "import multiprocessing\n",
    "import glob\n",
    "from tqdm import tqdm\n",
    "import xml.etree.ElementTree as ET\n",
    "from itertools import chain"
   ]
  },
  {
   "cell_type": "code",
   "execution_count": 3,
   "id": "5572f9a9",
   "metadata": {},
   "outputs": [
    {
     "name": "stderr",
     "output_type": "stream",
     "text": [
      "2023-03-11 17:30:24,793 - test\n"
     ]
    }
   ],
   "source": [
    "logger.info('test')"
   ]
  },
  {
   "cell_type": "markdown",
   "id": "0b904bf6",
   "metadata": {},
   "source": [
    "# Level 1: Classifying Product Names to Categories"
   ]
  },
  {
   "cell_type": "markdown",
   "id": "3d4d7575",
   "metadata": {},
   "source": [
    "## Data preparation"
   ]
  },
  {
   "cell_type": "code",
   "execution_count": null,
   "id": "c3b9d9e7",
   "metadata": {},
   "outputs": [],
   "source": [
    "# !python createContentTrainingData.py --output /workspace/datasets/fasttext/labeled_products.txt"
   ]
  },
  {
   "cell_type": "code",
   "execution_count": null,
   "id": "4941691b",
   "metadata": {},
   "outputs": [],
   "source": [
    "# !head -1 /workspace/datasets/fasttext/labeled_products.txt"
   ]
  },
  {
   "cell_type": "code",
   "execution_count": null,
   "id": "951b0d2f",
   "metadata": {},
   "outputs": [],
   "source": [
    "# !tail -1 /workspace/datasets/fasttext/labeled_products.txt"
   ]
  },
  {
   "cell_type": "code",
   "execution_count": null,
   "id": "0be7c519",
   "metadata": {},
   "outputs": [],
   "source": [
    "# Runs fine in command line\n",
    "## !shuf /workspace/datasets/fasttext/labeled_products.txt --random-source=<(seq 99999) > /workspace/datasets/fasttext/shuffled_labeled_products.txt"
   ]
  },
  {
   "cell_type": "code",
   "execution_count": null,
   "id": "090f7f9f",
   "metadata": {},
   "outputs": [],
   "source": [
    "# !head -10000 /workspace/datasets/fasttext/shuffled_labeled_products.txt > /workspace/datasets/fasttext/training_data.txt\n",
    "# !tail -10000 /workspace/datasets/fasttext/shuffled_labeled_products.txt > /workspace/datasets/fasttext/test_data.txt"
   ]
  },
  {
   "cell_type": "code",
   "execution_count": null,
   "id": "ec2e88d5",
   "metadata": {},
   "outputs": [],
   "source": [
    "# !wc /workspace/datasets/fasttext/training_data.txt"
   ]
  },
  {
   "cell_type": "code",
   "execution_count": null,
   "id": "62fbda43",
   "metadata": {},
   "outputs": [],
   "source": [
    "# !wc /workspace/datasets/fasttext/test_data.txt"
   ]
  },
  {
   "cell_type": "markdown",
   "id": "80e5cc9c",
   "metadata": {},
   "source": [
    "## Training default model"
   ]
  },
  {
   "cell_type": "code",
   "execution_count": 4,
   "id": "d9396dec",
   "metadata": {},
   "outputs": [
    {
     "name": "stderr",
     "output_type": "stream",
     "text": [
      "Read 0M words\n",
      "Number of words:  10754\n",
      "Number of labels: 1341\n",
      "Progress: 100.0% words/sec/thread:    7868 lr:  0.000000 avg.loss: 13.822425 ETA:   0h 0m 0s\n"
     ]
    }
   ],
   "source": [
    "product_classifier = fasttext.train_supervised(input='/workspace/datasets/fasttext/training_data.txt')"
   ]
  },
  {
   "cell_type": "code",
   "execution_count": 5,
   "id": "6bded88c",
   "metadata": {},
   "outputs": [
    {
     "data": {
      "text/plain": [
       "(('__label__abcat0101001',), array([0.56883866]))"
      ]
     },
     "execution_count": 5,
     "metadata": {},
     "output_type": "execute_result"
    }
   ],
   "source": [
    "product_classifier.predict('Sharp - 46\" 1080p Flat-Panel LCD HDTV')"
   ]
  },
  {
   "cell_type": "code",
   "execution_count": 6,
   "id": "5ab3abe7",
   "metadata": {},
   "outputs": [
    {
     "data": {
      "text/plain": [
       "(('__label__pcmcat180400050006',), array([0.32290113]))"
      ]
     },
     "execution_count": 6,
     "metadata": {},
     "output_type": "execute_result"
    }
   ],
   "source": [
    "product_classifier.predict('Nikon D3000 10.2MP Digital SLR with Extra 55-200mm Lens, Tripod and Bag')"
   ]
  },
  {
   "cell_type": "code",
   "execution_count": 7,
   "id": "5a42d810",
   "metadata": {},
   "outputs": [
    {
     "data": {
      "text/plain": [
       "(('__label__pcmcat247400050000',), array([0.09211702]))"
      ]
     },
     "execution_count": 7,
     "metadata": {},
     "output_type": "execute_result"
    }
   ],
   "source": [
    "product_classifier.predict('Sony - VAIO Laptop with Intel® Centrino® Processor Technology - Sangria Red')"
   ]
  },
  {
   "cell_type": "markdown",
   "id": "20b499cb",
   "metadata": {},
   "source": [
    "## Check labels"
   ]
  },
  {
   "cell_type": "code",
   "execution_count": 8,
   "id": "f79634d8",
   "metadata": {},
   "outputs": [],
   "source": [
    "import xmltodict"
   ]
  },
  {
   "cell_type": "code",
   "execution_count": 9,
   "id": "fad1e9b9",
   "metadata": {},
   "outputs": [],
   "source": [
    "# Parse xml into dictionary\n",
    "with open('/workspace/datasets/product_data/categories/categories_0001_abcat0010000_to_pcmcat99300050000.xml') as fd:\n",
    "    category = xmltodict.parse(fd.read())"
   ]
  },
  {
   "cell_type": "code",
   "execution_count": 10,
   "id": "b579f3b7",
   "metadata": {},
   "outputs": [],
   "source": [
    "cat_df = pd.DataFrame(category['categories']['category'])"
   ]
  },
  {
   "cell_type": "code",
   "execution_count": 11,
   "id": "800f3f60",
   "metadata": {},
   "outputs": [
    {
     "data": {
      "text/html": [
       "<div>\n",
       "<style scoped>\n",
       "    .dataframe tbody tr th:only-of-type {\n",
       "        vertical-align: middle;\n",
       "    }\n",
       "\n",
       "    .dataframe tbody tr th {\n",
       "        vertical-align: top;\n",
       "    }\n",
       "\n",
       "    .dataframe thead th {\n",
       "        text-align: right;\n",
       "    }\n",
       "</style>\n",
       "<table border=\"1\" class=\"dataframe\">\n",
       "  <thead>\n",
       "    <tr style=\"text-align: right;\">\n",
       "      <th></th>\n",
       "      <th>id</th>\n",
       "      <th>name</th>\n",
       "      <th>path</th>\n",
       "      <th>subCategories</th>\n",
       "    </tr>\n",
       "  </thead>\n",
       "  <tbody>\n",
       "    <tr>\n",
       "      <th>28</th>\n",
       "      <td>abcat0101001</td>\n",
       "      <td>All Flat-Panel TVs</td>\n",
       "      <td>{'category': [{'id': 'cat00000', 'name': 'Best...</td>\n",
       "      <td>{'category': [{'id': 'pcmcat138100050024', 'na...</td>\n",
       "    </tr>\n",
       "  </tbody>\n",
       "</table>\n",
       "</div>"
      ],
      "text/plain": [
       "              id                name  \\\n",
       "28  abcat0101001  All Flat-Panel TVs   \n",
       "\n",
       "                                                 path  \\\n",
       "28  {'category': [{'id': 'cat00000', 'name': 'Best...   \n",
       "\n",
       "                                        subCategories  \n",
       "28  {'category': [{'id': 'pcmcat138100050024', 'na...  "
      ]
     },
     "execution_count": 11,
     "metadata": {},
     "output_type": "execute_result"
    }
   ],
   "source": [
    "cat_df[cat_df['id'] == 'abcat0101001']"
   ]
  },
  {
   "cell_type": "code",
   "execution_count": 12,
   "id": "3dc63557",
   "metadata": {},
   "outputs": [
    {
     "data": {
      "text/html": [
       "<div>\n",
       "<style scoped>\n",
       "    .dataframe tbody tr th:only-of-type {\n",
       "        vertical-align: middle;\n",
       "    }\n",
       "\n",
       "    .dataframe tbody tr th {\n",
       "        vertical-align: top;\n",
       "    }\n",
       "\n",
       "    .dataframe thead th {\n",
       "        text-align: right;\n",
       "    }\n",
       "</style>\n",
       "<table border=\"1\" class=\"dataframe\">\n",
       "  <thead>\n",
       "    <tr style=\"text-align: right;\">\n",
       "      <th></th>\n",
       "      <th>id</th>\n",
       "      <th>name</th>\n",
       "      <th>path</th>\n",
       "      <th>subCategories</th>\n",
       "    </tr>\n",
       "  </thead>\n",
       "  <tbody>\n",
       "    <tr>\n",
       "      <th>2551</th>\n",
       "      <td>pcmcat180400050006</td>\n",
       "      <td>DSLR Package Deals</td>\n",
       "      <td>{'category': [{'id': 'cat00000', 'name': 'Best...</td>\n",
       "      <td>None</td>\n",
       "    </tr>\n",
       "  </tbody>\n",
       "</table>\n",
       "</div>"
      ],
      "text/plain": [
       "                      id                name  \\\n",
       "2551  pcmcat180400050006  DSLR Package Deals   \n",
       "\n",
       "                                                   path subCategories  \n",
       "2551  {'category': [{'id': 'cat00000', 'name': 'Best...          None  "
      ]
     },
     "execution_count": 12,
     "metadata": {},
     "output_type": "execute_result"
    }
   ],
   "source": [
    "cat_df[cat_df['id'] == 'pcmcat180400050006']"
   ]
  },
  {
   "cell_type": "code",
   "execution_count": 13,
   "id": "c998f9e5",
   "metadata": {},
   "outputs": [
    {
     "data": {
      "text/html": [
       "<div>\n",
       "<style scoped>\n",
       "    .dataframe tbody tr th:only-of-type {\n",
       "        vertical-align: middle;\n",
       "    }\n",
       "\n",
       "    .dataframe tbody tr th {\n",
       "        vertical-align: top;\n",
       "    }\n",
       "\n",
       "    .dataframe thead th {\n",
       "        text-align: right;\n",
       "    }\n",
       "</style>\n",
       "<table border=\"1\" class=\"dataframe\">\n",
       "  <thead>\n",
       "    <tr style=\"text-align: right;\">\n",
       "      <th></th>\n",
       "      <th>id</th>\n",
       "      <th>name</th>\n",
       "      <th>path</th>\n",
       "      <th>subCategories</th>\n",
       "    </tr>\n",
       "  </thead>\n",
       "  <tbody>\n",
       "    <tr>\n",
       "      <th>3955</th>\n",
       "      <td>pcmcat247400050000</td>\n",
       "      <td>PC Laptops</td>\n",
       "      <td>{'category': [{'id': 'cat00000', 'name': 'Best...</td>\n",
       "      <td>None</td>\n",
       "    </tr>\n",
       "  </tbody>\n",
       "</table>\n",
       "</div>"
      ],
      "text/plain": [
       "                      id        name  \\\n",
       "3955  pcmcat247400050000  PC Laptops   \n",
       "\n",
       "                                                   path subCategories  \n",
       "3955  {'category': [{'id': 'cat00000', 'name': 'Best...          None  "
      ]
     },
     "execution_count": 13,
     "metadata": {},
     "output_type": "execute_result"
    }
   ],
   "source": [
    "cat_df[cat_df['id'] == 'pcmcat247400050000']"
   ]
  },
  {
   "cell_type": "markdown",
   "id": "ae964e73",
   "metadata": {},
   "source": [
    "## Evaluate default model"
   ]
  },
  {
   "cell_type": "code",
   "execution_count": 16,
   "id": "9ff24177",
   "metadata": {},
   "outputs": [
    {
     "name": "stderr",
     "output_type": "stream",
     "text": [
      "2023-03-11 17:31:38,923 - Evaluation on 9,669 samples - precision@1: 0.1667, recall@1: 0.1667\n"
     ]
    }
   ],
   "source": [
    "k = 1\n",
    "n, prec, rec = product_classifier.test(path='/workspace/datasets/fasttext/test_data.txt', k=k)\n",
    "logger.info(f'Evaluation on {n:,} samples - precision@{k}: {prec:.4f}, recall@{k}: {rec:.4f}')"
   ]
  },
  {
   "cell_type": "code",
   "execution_count": 17,
   "id": "80ce2066",
   "metadata": {},
   "outputs": [
    {
     "name": "stderr",
     "output_type": "stream",
     "text": [
      "2023-03-11 17:31:50,665 - Evaluation on 9,669 samples - precision@5: 0.0540, recall@5: 0.2701\n"
     ]
    }
   ],
   "source": [
    "k = 5\n",
    "n, prec, rec = product_classifier.test(path='/workspace/datasets/fasttext/test_data.txt', k=k)\n",
    "logger.info(f'Evaluation on {n:,} samples - precision@{k}: {prec:.4f}, recall@{k}: {rec:.4f}')"
   ]
  },
  {
   "cell_type": "code",
   "execution_count": 19,
   "id": "17010089",
   "metadata": {},
   "outputs": [
    {
     "name": "stderr",
     "output_type": "stream",
     "text": [
      "2023-03-11 17:32:07,994 - Evaluation on 9,669 samples - precision@10: 0.0333, recall@10: 0.3327\n"
     ]
    }
   ],
   "source": [
    "k = 10\n",
    "n, prec, rec = product_classifier.test(path='/workspace/datasets/fasttext/test_data.txt', k=k)\n",
    "logger.info(f'Evaluation on {n:,} samples - precision@{k}: {prec:.4f}, recall@{k}: {rec:.4f}')"
   ]
  },
  {
   "cell_type": "markdown",
   "id": "1795523a",
   "metadata": {},
   "source": [
    "## Update params"
   ]
  },
  {
   "cell_type": "code",
   "execution_count": 20,
   "id": "691067b0",
   "metadata": {},
   "outputs": [
    {
     "name": "stderr",
     "output_type": "stream",
     "text": [
      "Read 0M words\n",
      "Number of words:  10754\n",
      "Number of labels: 1341\n",
      "Progress: 100.0% words/sec/thread:   15804 lr:  0.000000 avg.loss:  1.249754 ETA:   0h 0m 0s\n"
     ]
    }
   ],
   "source": [
    "product_classifier = fasttext.train_supervised(input='/workspace/datasets/fasttext/training_data.txt', \n",
    "                                               lr=1.0, wordNgrams=2, epoch=25)"
   ]
  },
  {
   "cell_type": "code",
   "execution_count": 21,
   "id": "843e0a8f",
   "metadata": {},
   "outputs": [
    {
     "name": "stderr",
     "output_type": "stream",
     "text": [
      "2023-03-11 17:33:17,233 - Evaluation on 9,669 samples - precision@1: 0.6540, recall@1: 0.6540\n"
     ]
    }
   ],
   "source": [
    "k = 1\n",
    "n, prec, rec = product_classifier.test(path='/workspace/datasets/fasttext/test_data.txt', k=k)\n",
    "logger.info(f'Evaluation on {n:,} samples - precision@{k}: {prec:.4f}, recall@{k}: {rec:.4f}')"
   ]
  },
  {
   "cell_type": "markdown",
   "id": "e10896e0",
   "metadata": {},
   "source": [
    "## Data preparation\n",
    "- Remove all non-alphanumeric chars other than underscore\n",
    "- Lowercase all chars\n",
    "- Trip excess space chars"
   ]
  },
  {
   "cell_type": "code",
   "execution_count": 22,
   "id": "d2a49ee5",
   "metadata": {},
   "outputs": [],
   "source": [
    "!cat /workspace/datasets/fasttext/shuffled_labeled_products.txt |sed -e \"s/\\([.\\!?,'/()]\\)/ \\1 /g\" | tr \"[:upper:]\" \"[:lower:]\" | sed \"s/[^[:alnum:]_]/ /g\" | tr -s ' ' > /workspace/datasets/fasttext/normalized_labeled_products.txt"
   ]
  },
  {
   "cell_type": "code",
   "execution_count": 24,
   "id": "2f8f3908",
   "metadata": {},
   "outputs": [
    {
     "name": "stdout",
     "output_type": "stream",
     "text": [
      "__label__abcat0401002 Canon - PowerShot 10.0-Megapixel Digital Camera - Black\r\n",
      "__label__abcat0701001 Microsoft - Xbox 360 4GB Special Edition Kinect Family Bundle\r\n",
      "__label__abcat0905001 KitchenAid - Architect P Series 23-7/8\" Tall Tub Built-in Dishwasher - Black\r\n",
      "__label__abcat0106008 Bush - Midnight Mist Audio Tower\r\n",
      "__label__pcmcat209000050008 Viewsonic - ViewPad V7E_1WNA1US7_01 7\" 4 GB Tablet Computer - Wi-Fi - Samsung S5PV210 1 GHz - White\r\n"
     ]
    }
   ],
   "source": [
    "!head -5 /workspace/datasets/fasttext/shuffled_labeled_products.txt"
   ]
  },
  {
   "cell_type": "code",
   "execution_count": 23,
   "id": "5a6c5de0",
   "metadata": {},
   "outputs": [
    {
     "name": "stdout",
     "output_type": "stream",
     "text": [
      "__label__abcat0401002 canon powershot 10 0 megapixel digital camera black\r\n",
      "__label__abcat0701001 microsoft xbox 360 4gb special edition kinect family bundle\r\n",
      "__label__abcat0905001 kitchenaid architect p series 23 7 8 tall tub built in dishwasher black\r\n",
      "__label__abcat0106008 bush midnight mist audio tower\r\n",
      "__label__pcmcat209000050008 viewsonic viewpad v7e_1wna1us7_01 7 4 gb tablet computer wi fi samsung s5pv210 1 ghz white\r\n"
     ]
    }
   ],
   "source": [
    "!head -5 /workspace/datasets/fasttext/normalized_labeled_products.txt"
   ]
  },
  {
   "cell_type": "code",
   "execution_count": 25,
   "id": "fc5d7b09",
   "metadata": {},
   "outputs": [],
   "source": [
    "!head -10000 /workspace/datasets/fasttext/normalized_labeled_products.txt > /workspace/datasets/fasttext/training_data.txt\n",
    "!tail -10000 /workspace/datasets/fasttext/normalized_labeled_products.txt > /workspace/datasets/fasttext/test_data.txt"
   ]
  },
  {
   "cell_type": "code",
   "execution_count": 26,
   "id": "1be4e7f6",
   "metadata": {},
   "outputs": [
    {
     "name": "stderr",
     "output_type": "stream",
     "text": [
      "Read 0M words\n",
      "Number of words:  8449\n",
      "Number of labels: 1341\n",
      "Progress: 100.0% words/sec/thread:    9917 lr:  0.000000 avg.loss:  1.166470 ETA:   0h 0m 0s 65.8% words/sec/thread:    8066 lr:  0.342373 avg.loss:  1.770161 ETA:   0h 0m 7s\n"
     ]
    }
   ],
   "source": [
    "product_classifier = fasttext.train_supervised(input='/workspace/datasets/fasttext/training_data.txt', \n",
    "                                               lr=1.0, wordNgrams=2, epoch=25)"
   ]
  },
  {
   "cell_type": "code",
   "execution_count": 27,
   "id": "e90d7ed9",
   "metadata": {},
   "outputs": [
    {
     "name": "stderr",
     "output_type": "stream",
     "text": [
      "2023-03-11 17:36:43,262 - Evaluation on 9,669 samples - precision@1: 0.6521, recall@1: 0.6521\n"
     ]
    }
   ],
   "source": [
    "k = 1\n",
    "n, prec, rec = product_classifier.test(path='/workspace/datasets/fasttext/test_data.txt', k=k)\n",
    "logger.info(f'Evaluation on {n:,} samples - precision@{k}: {prec:.4f}, recall@{k}: {rec:.4f}')"
   ]
  },
  {
   "cell_type": "markdown",
   "id": "982e0a7c",
   "metadata": {},
   "source": [
    "## Filtering on category"
   ]
  },
  {
   "cell_type": "code",
   "execution_count": 53,
   "id": "d605a2a0",
   "metadata": {},
   "outputs": [],
   "source": [
    "files = glob.glob(f'/workspace/datasets/product_data/products/*.xml')\n",
    "min_products = 2"
   ]
  },
  {
   "cell_type": "code",
   "execution_count": 42,
   "id": "62ae18f0",
   "metadata": {},
   "outputs": [],
   "source": [
    "names_as_labels = False\n",
    "\n",
    "def transform_name(product_name):\n",
    "    # IMPLEMENT\n",
    "    return product_name\n",
    "\n",
    "def _label_filename(filename):\n",
    "    tree = ET.parse(filename)\n",
    "    root = tree.getroot()\n",
    "    labels = []\n",
    "    for child in root:\n",
    "        # Check to make sure category name is valid and not in music or movies\n",
    "        if (child.find('name') is not None and child.find('name').text is not None and\n",
    "            child.find('categoryPath') is not None and len(child.find('categoryPath')) > 0 and\n",
    "            child.find('categoryPath')[len(child.find('categoryPath')) - 1][0].text is not None and\n",
    "            child.find('categoryPath')[0][0].text == 'cat00000' and\n",
    "            child.find('categoryPath')[1][0].text != 'abcat0600000'):\n",
    "              # Choose last element in categoryPath as the leaf categoryId or name\n",
    "              if names_as_labels:\n",
    "                  cat = child.find('categoryPath')[len(child.find('categoryPath')) - 1][1].text.replace(' ', '_')\n",
    "              else:\n",
    "                  cat = child.find('categoryPath')[len(child.find('categoryPath')) - 1][0].text\n",
    "              # Replace newline chars with spaces so fastText doesn't complain\n",
    "              name = child.find('name').text.replace('\\n', ' ')\n",
    "              labels.append((cat, transform_name(name)))\n",
    "    return labels"
   ]
  },
  {
   "cell_type": "code",
   "execution_count": 90,
   "id": "a223bd0c",
   "metadata": {},
   "outputs": [
    {
     "name": "stderr",
     "output_type": "stream",
     "text": [
      "\n",
      "  0%|                                                                           | 0/3 [00:00<?, ?it/s]\u001b[A"
     ]
    }
   ],
   "source": [
    "all_labels = tqdm(multiprocessing.Pool().imap(_label_filename, files[:3]), total=3)"
   ]
  },
  {
   "cell_type": "code",
   "execution_count": 91,
   "id": "8bdc2875",
   "metadata": {},
   "outputs": [
    {
     "name": "stderr",
     "output_type": "stream",
     "text": [
      "\n",
      " 33%|██████████████████████▎                                            | 1/3 [00:03<00:06,  3.08s/it]\u001b[A\n",
      "100%|███████████████████████████████████████████████████████████████████| 3/3 [00:03<00:00,  1.09s/it]\u001b[A\n"
     ]
    }
   ],
   "source": [
    "all_labels = [label for label in all_labels]"
   ]
  },
  {
   "cell_type": "code",
   "execution_count": 100,
   "id": "5ae1118b",
   "metadata": {},
   "outputs": [],
   "source": [
    "all_labels = list(chain.from_iterable(all_labels))"
   ]
  },
  {
   "cell_type": "code",
   "execution_count": 101,
   "id": "2003cb45",
   "metadata": {},
   "outputs": [],
   "source": [
    "label_df = pd.DataFrame(all_labels, columns=['cat', 'name'])"
   ]
  },
  {
   "cell_type": "code",
   "execution_count": 60,
   "id": "9905e4af",
   "metadata": {},
   "outputs": [],
   "source": [
    "label_df = pd.DataFrame(all_labels, columns=['cat', 'name'])"
   ]
  },
  {
   "cell_type": "code",
   "execution_count": 61,
   "id": "dcf4d50e",
   "metadata": {},
   "outputs": [],
   "source": [
    "label_agg = label_df.groupby('cat').agg({'name': 'count'}).reset_index()"
   ]
  },
  {
   "cell_type": "code",
   "execution_count": 62,
   "id": "72fad597",
   "metadata": {},
   "outputs": [],
   "source": [
    "filtered_categories = set(label_agg.loc[label_agg['name'] > 2, 'cat'].to_list())"
   ]
  },
  {
   "cell_type": "code",
   "execution_count": 64,
   "id": "d5dfe33a",
   "metadata": {},
   "outputs": [
    {
     "data": {
      "text/html": [
       "<div>\n",
       "<style scoped>\n",
       "    .dataframe tbody tr th:only-of-type {\n",
       "        vertical-align: middle;\n",
       "    }\n",
       "\n",
       "    .dataframe tbody tr th {\n",
       "        vertical-align: top;\n",
       "    }\n",
       "\n",
       "    .dataframe thead th {\n",
       "        text-align: right;\n",
       "    }\n",
       "</style>\n",
       "<table border=\"1\" class=\"dataframe\">\n",
       "  <thead>\n",
       "    <tr style=\"text-align: right;\">\n",
       "      <th></th>\n",
       "      <th>cat</th>\n",
       "      <th>name</th>\n",
       "    </tr>\n",
       "  </thead>\n",
       "  <tbody>\n",
       "    <tr>\n",
       "      <th>7</th>\n",
       "      <td>abcat0811012</td>\n",
       "      <td>AT&amp;T - 3.6V NiCad Battery for 900MHz Phones</td>\n",
       "    </tr>\n",
       "    <tr>\n",
       "      <th>13</th>\n",
       "      <td>pcmcat165900050033</td>\n",
       "      <td>Metra - Radio Installation Dash Kit for Most 1...</td>\n",
       "    </tr>\n",
       "    <tr>\n",
       "      <th>14</th>\n",
       "      <td>pcmcat165900050033</td>\n",
       "      <td>Metra - Radio Dash Multikit for Select GM Vehi...</td>\n",
       "    </tr>\n",
       "    <tr>\n",
       "      <th>15</th>\n",
       "      <td>pcmcat165900050034</td>\n",
       "      <td>Metra - Wiring Harness for Select 1998-2008 Fo...</td>\n",
       "    </tr>\n",
       "    <tr>\n",
       "      <th>16</th>\n",
       "      <td>pcmcat165900050034</td>\n",
       "      <td>Metra - Turbo Wire Aftermarket Radio Wire Harn...</td>\n",
       "    </tr>\n",
       "    <tr>\n",
       "      <th>17</th>\n",
       "      <td>pcmcat165900050034</td>\n",
       "      <td>Metra - Wiring Harness for Most 1986-1998 Hond...</td>\n",
       "    </tr>\n",
       "    <tr>\n",
       "      <th>21</th>\n",
       "      <td>pcmcat165900050033</td>\n",
       "      <td>Best Buy - Mazda Multi In-Dash Installation Kit</td>\n",
       "    </tr>\n",
       "    <tr>\n",
       "      <th>23</th>\n",
       "      <td>abcat0811012</td>\n",
       "      <td>Energizer - 3.6V NiCad Battery for 900MHz Phones</td>\n",
       "    </tr>\n",
       "    <tr>\n",
       "      <th>24</th>\n",
       "      <td>abcat0811012</td>\n",
       "      <td>Energizer - 3.6V NiCad Battery for 900MHz Phones</td>\n",
       "    </tr>\n",
       "    <tr>\n",
       "      <th>25</th>\n",
       "      <td>abcat0811012</td>\n",
       "      <td>Energizer - 3.6V NiCad Battery for 900MHz Phones</td>\n",
       "    </tr>\n",
       "  </tbody>\n",
       "</table>\n",
       "</div>"
      ],
      "text/plain": [
       "                   cat                                               name\n",
       "7         abcat0811012        AT&T - 3.6V NiCad Battery for 900MHz Phones\n",
       "13  pcmcat165900050033  Metra - Radio Installation Dash Kit for Most 1...\n",
       "14  pcmcat165900050033  Metra - Radio Dash Multikit for Select GM Vehi...\n",
       "15  pcmcat165900050034  Metra - Wiring Harness for Select 1998-2008 Fo...\n",
       "16  pcmcat165900050034  Metra - Turbo Wire Aftermarket Radio Wire Harn...\n",
       "17  pcmcat165900050034  Metra - Wiring Harness for Most 1986-1998 Hond...\n",
       "21  pcmcat165900050033    Best Buy - Mazda Multi In-Dash Installation Kit\n",
       "23        abcat0811012   Energizer - 3.6V NiCad Battery for 900MHz Phones\n",
       "24        abcat0811012   Energizer - 3.6V NiCad Battery for 900MHz Phones\n",
       "25        abcat0811012   Energizer - 3.6V NiCad Battery for 900MHz Phones"
      ]
     },
     "execution_count": 64,
     "metadata": {},
     "output_type": "execute_result"
    }
   ],
   "source": [
    "label_df[label_df['cat'].isin(filtered_categories)]"
   ]
  },
  {
   "cell_type": "code",
   "execution_count": 104,
   "id": "0089f9a9",
   "metadata": {},
   "outputs": [
    {
     "name": "stdout",
     "output_type": "stream",
     "text": [
      "Writing results to /workspace/datasets/fasttext/pruned_labeled_products.txt\n",
      "100%|█████████████████████████████████████████| 256/256 [01:22<00:00,  3.12it/s]\n",
      "Category count: 32, Product count: 28,921\n"
     ]
    }
   ],
   "source": [
    "!python createContentTrainingData.py --output /workspace/datasets/fasttext/pruned_labeled_products.txt --min_products 500"
   ]
  },
  {
   "cell_type": "code",
   "execution_count": 111,
   "id": "840ac4da",
   "metadata": {},
   "outputs": [
    {
     "name": "stdout",
     "output_type": "stream",
     "text": [
      "/usr/bin/sh: 1: Syntax error: \"(\" unexpected\r\n"
     ]
    }
   ],
   "source": [
    "# !shuf /workspace/datasets/fasttext/pruned_labeled_products.txt --random-source=<(seq 99999) > /workspace/datasets/fasttext/shuffled_pruned_labeled_products.txt"
   ]
  },
  {
   "cell_type": "code",
   "execution_count": 112,
   "id": "d792ad4c",
   "metadata": {},
   "outputs": [],
   "source": [
    "!cat /workspace/datasets/fasttext/shuffled_pruned_labeled_products.txt |sed -e \"s/\\([.\\!?,'/()]\\)/ \\1 /g\" | tr \"[:upper:]\" \"[:lower:]\" | sed \"s/[^[:alnum:]_]/ /g\" | tr -s ' ' > /workspace/datasets/fasttext/normalized_pruned_labeled_products.txt"
   ]
  },
  {
   "cell_type": "code",
   "execution_count": 113,
   "id": "8fa9652f",
   "metadata": {},
   "outputs": [],
   "source": [
    "!head -10000 /workspace/datasets/fasttext/normalized_pruned_labeled_products.txt > /workspace/datasets/fasttext/training_data.txt\n",
    "!tail -10000 /workspace/datasets/fasttext/normalized_pruned_labeled_products.txt > /workspace/datasets/fasttext/test_data.txt"
   ]
  },
  {
   "cell_type": "code",
   "execution_count": 114,
   "id": "d370ec6d",
   "metadata": {},
   "outputs": [
    {
     "name": "stderr",
     "output_type": "stream",
     "text": [
      "Read 0M words\n",
      "Number of words:  5373\n",
      "Number of labels: 29\n",
      "Progress: 100.0% words/sec/thread:  168711 lr:  0.000000 avg.loss:  0.042553 ETA:   0h 0m 0s\n"
     ]
    }
   ],
   "source": [
    "product_classifier = fasttext.train_supervised(input='/workspace/datasets/fasttext/training_data.txt', \n",
    "                                               lr=1.0, epoch=25)"
   ]
  },
  {
   "cell_type": "code",
   "execution_count": 115,
   "id": "ed37d4dc",
   "metadata": {},
   "outputs": [
    {
     "name": "stderr",
     "output_type": "stream",
     "text": [
      "2023-03-11 18:30:54,304 - Evaluation on 8,473 samples - precision@1: 0.9629, recall@1: 0.9629\n"
     ]
    }
   ],
   "source": [
    "k = 1\n",
    "n, prec, rec = product_classifier.test(path='/workspace/datasets/fasttext/test_data.txt', k=k)\n",
    "logger.info(f'Evaluation on {n:,} samples - precision@{k}: {prec:.4f}, recall@{k}: {rec:.4f}')"
   ]
  },
  {
   "cell_type": "code",
   "execution_count": 116,
   "id": "018119bc",
   "metadata": {},
   "outputs": [
    {
     "name": "stderr",
     "output_type": "stream",
     "text": [
      "Read 0M words\n",
      "Number of words:  5373\n",
      "Number of labels: 29\n",
      "Progress: 100.0% words/sec/thread:  146558 lr:  0.000000 avg.loss:  0.037745 ETA:   0h 0m 0s\n"
     ]
    }
   ],
   "source": [
    "product_classifier = fasttext.train_supervised(input='/workspace/datasets/fasttext/training_data.txt', \n",
    "                                               lr=1.0, epoch=25, wordNgrams=2)"
   ]
  },
  {
   "cell_type": "code",
   "execution_count": 117,
   "id": "cd736ffb",
   "metadata": {},
   "outputs": [
    {
     "name": "stderr",
     "output_type": "stream",
     "text": [
      "2023-03-11 18:31:14,246 - Evaluation on 8,473 samples - precision@1: 0.9645, recall@1: 0.9645\n"
     ]
    }
   ],
   "source": [
    "k = 1\n",
    "n, prec, rec = product_classifier.test(path='/workspace/datasets/fasttext/test_data.txt', k=k)\n",
    "logger.info(f'Evaluation on {n:,} samples - precision@{k}: {prec:.4f}, recall@{k}: {rec:.4f}')"
   ]
  },
  {
   "cell_type": "markdown",
   "id": "c561ad7c",
   "metadata": {},
   "source": [
    "# Level 2: Derive Synonyms from Content"
   ]
  },
  {
   "cell_type": "markdown",
   "id": "46c94ed3",
   "metadata": {},
   "source": [
    "## Data preparation"
   ]
  },
  {
   "cell_type": "code",
   "execution_count": 119,
   "id": "4b6a84cf",
   "metadata": {},
   "outputs": [
    {
     "name": "stdout",
     "output_type": "stream",
     "text": [
      "Writing results to /workspace/datasets/fasttext/products.txt\n",
      "100%|█████████████████████████████████████████| 256/256 [01:16<00:00,  3.35it/s]\n",
      "Category count: 1803, Product count: 115,503\n"
     ]
    }
   ],
   "source": [
    "!python createContentTrainingData.py --output /workspace/datasets/fasttext/products.txt --label name"
   ]
  },
  {
   "cell_type": "code",
   "execution_count": 120,
   "id": "7f06469b",
   "metadata": {},
   "outputs": [],
   "source": [
    "!cat /workspace/datasets/fasttext/products.txt |  cut -c 10- | sed -e \"s/\\([.\\!?,'/()]\\)/ \\1 /g\" | tr \"[:upper:]\" \"[:lower:]\" | sed \"s/[^[:alnum:]]/ /g\" | tr -s ' ' > /workspace/datasets/fasttext/normalized_products.txt"
   ]
  },
  {
   "cell_type": "code",
   "execution_count": 121,
   "id": "7fc9aff7",
   "metadata": {},
   "outputs": [
    {
     "name": "stderr",
     "output_type": "stream",
     "text": [
      "Read 1M words\n",
      "Number of words:  9205\n",
      "Number of labels: 0\n",
      "Progress: 100.0% words/sec/thread:   46712 lr:  0.000000 avg.loss:  1.220938 ETA:   0h 0m 0s 57.6% words/sec/thread:   37299 lr:  0.021222 avg.loss:  1.263421 ETA:   0h 0m 5s\n"
     ]
    }
   ],
   "source": [
    "title_model = fasttext.train_unsupervised(input='/workspace/datasets/fasttext/normalized_products.txt',\n",
    "                                          model='skipgram')"
   ]
  },
  {
   "cell_type": "code",
   "execution_count": 122,
   "id": "ea7d3ed4",
   "metadata": {},
   "outputs": [
    {
     "data": {
      "text/plain": [
       "[(0.8836662769317627, 'deskjet'),\n",
       " (0.8633587956428528, 'officejet'),\n",
       " (0.8344438672065735, 'b1h'),\n",
       " (0.8252926468849182, 'c5280'),\n",
       " (0.8137577772140503, 'laserjet'),\n",
       " (0.8085622191429138, 'pixma'),\n",
       " (0.8048376441001892, 'lexmark'),\n",
       " (0.8021136522293091, 'mfc'),\n",
       " (0.8000170588493347, 'printers'),\n",
       " (0.7972469329833984, 'mvm')]"
      ]
     },
     "execution_count": 122,
     "metadata": {},
     "output_type": "execute_result"
    }
   ],
   "source": [
    "title_model.get_nearest_neighbors('inkjet')"
   ]
  },
  {
   "cell_type": "code",
   "execution_count": 123,
   "id": "2e4b9c04",
   "metadata": {},
   "outputs": [
    {
     "data": {
      "text/plain": [
       "[(0.9316118359565735, 'netbooks'),\n",
       " (0.9038827419281006, 'jetbook'),\n",
       " (0.8332692980766296, 'nextbook'),\n",
       " (0.7719100713729858, 'atom'),\n",
       " (0.7648991942405701, 'eee'),\n",
       " (0.7603505253791809, '1005hab'),\n",
       " (0.7213680148124695, 'slip'),\n",
       " (0.7157060503959656, 'n270'),\n",
       " (0.6964132189750671, 'np'),\n",
       " (0.6922696828842163, 'zenbook')]"
      ]
     },
     "execution_count": 123,
     "metadata": {},
     "output_type": "execute_result"
    }
   ],
   "source": [
    "title_model.get_nearest_neighbors('netbook')"
   ]
  },
  {
   "cell_type": "code",
   "execution_count": null,
   "id": "c6ed35df",
   "metadata": {},
   "outputs": [],
   "source": []
  }
 ],
 "metadata": {
  "kernelspec": {
   "display_name": "Python 3 (ipykernel)",
   "language": "python",
   "name": "python3"
  },
  "language_info": {
   "codemirror_mode": {
    "name": "ipython",
    "version": 3
   },
   "file_extension": ".py",
   "mimetype": "text/x-python",
   "name": "python",
   "nbconvert_exporter": "python",
   "pygments_lexer": "ipython3",
   "version": "3.9.7"
  }
 },
 "nbformat": 4,
 "nbformat_minor": 5
}
