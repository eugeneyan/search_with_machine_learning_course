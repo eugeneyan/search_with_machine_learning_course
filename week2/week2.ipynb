{
 "cells": [
  {
   "cell_type": "code",
   "execution_count": 3,
   "id": "ca7f5022",
   "metadata": {},
   "outputs": [],
   "source": [
    "import pandas as pd\n",
    "import fasttext\n",
    "from logger import logger\n",
    "\n",
    "import multiprocessing\n",
    "import glob\n",
    "from tqdm import tqdm\n",
    "import xml.etree.ElementTree as ET\n",
    "from itertools import chain"
   ]
  },
  {
   "cell_type": "code",
   "execution_count": 4,
   "id": "5572f9a9",
   "metadata": {},
   "outputs": [
    {
     "name": "stderr",
     "output_type": "stream",
     "text": [
      "2023-03-11 19:07:19,981 - test\n"
     ]
    }
   ],
   "source": [
    "logger.info('test')"
   ]
  },
  {
   "cell_type": "markdown",
   "id": "0b904bf6",
   "metadata": {},
   "source": [
    "# Level 1: Classifying Product Names to Categories"
   ]
  },
  {
   "cell_type": "markdown",
   "id": "3d4d7575",
   "metadata": {},
   "source": [
    "## Data preparation"
   ]
  },
  {
   "cell_type": "code",
   "execution_count": null,
   "id": "c3b9d9e7",
   "metadata": {},
   "outputs": [],
   "source": [
    "# !python createContentTrainingData.py --output /workspace/datasets/fasttext/labeled_products.txt"
   ]
  },
  {
   "cell_type": "code",
   "execution_count": null,
   "id": "4941691b",
   "metadata": {},
   "outputs": [],
   "source": [
    "# !head -1 /workspace/datasets/fasttext/labeled_products.txt"
   ]
  },
  {
   "cell_type": "code",
   "execution_count": null,
   "id": "951b0d2f",
   "metadata": {},
   "outputs": [],
   "source": [
    "# !tail -1 /workspace/datasets/fasttext/labeled_products.txt"
   ]
  },
  {
   "cell_type": "code",
   "execution_count": null,
   "id": "0be7c519",
   "metadata": {},
   "outputs": [],
   "source": [
    "# Runs fine in command line\n",
    "## !shuf /workspace/datasets/fasttext/labeled_products.txt --random-source=<(seq 99999) > /workspace/datasets/fasttext/shuffled_labeled_products.txt"
   ]
  },
  {
   "cell_type": "code",
   "execution_count": null,
   "id": "090f7f9f",
   "metadata": {},
   "outputs": [],
   "source": [
    "# !head -10000 /workspace/datasets/fasttext/shuffled_labeled_products.txt > /workspace/datasets/fasttext/training_data.txt\n",
    "# !tail -10000 /workspace/datasets/fasttext/shuffled_labeled_products.txt > /workspace/datasets/fasttext/test_data.txt"
   ]
  },
  {
   "cell_type": "code",
   "execution_count": null,
   "id": "ec2e88d5",
   "metadata": {},
   "outputs": [],
   "source": [
    "# !wc /workspace/datasets/fasttext/training_data.txt"
   ]
  },
  {
   "cell_type": "code",
   "execution_count": null,
   "id": "62fbda43",
   "metadata": {},
   "outputs": [],
   "source": [
    "# !wc /workspace/datasets/fasttext/test_data.txt"
   ]
  },
  {
   "cell_type": "markdown",
   "id": "80e5cc9c",
   "metadata": {},
   "source": [
    "## Training default model"
   ]
  },
  {
   "cell_type": "code",
   "execution_count": 4,
   "id": "d9396dec",
   "metadata": {},
   "outputs": [
    {
     "name": "stderr",
     "output_type": "stream",
     "text": [
      "Read 0M words\n",
      "Number of words:  10754\n",
      "Number of labels: 1341\n",
      "Progress: 100.0% words/sec/thread:    7868 lr:  0.000000 avg.loss: 13.822425 ETA:   0h 0m 0s\n"
     ]
    }
   ],
   "source": [
    "product_classifier = fasttext.train_supervised(input='/workspace/datasets/fasttext/training_data.txt')"
   ]
  },
  {
   "cell_type": "code",
   "execution_count": 5,
   "id": "6bded88c",
   "metadata": {},
   "outputs": [
    {
     "data": {
      "text/plain": [
       "(('__label__abcat0101001',), array([0.56883866]))"
      ]
     },
     "execution_count": 5,
     "metadata": {},
     "output_type": "execute_result"
    }
   ],
   "source": [
    "product_classifier.predict('Sharp - 46\" 1080p Flat-Panel LCD HDTV')"
   ]
  },
  {
   "cell_type": "code",
   "execution_count": 6,
   "id": "5ab3abe7",
   "metadata": {},
   "outputs": [
    {
     "data": {
      "text/plain": [
       "(('__label__pcmcat180400050006',), array([0.32290113]))"
      ]
     },
     "execution_count": 6,
     "metadata": {},
     "output_type": "execute_result"
    }
   ],
   "source": [
    "product_classifier.predict('Nikon D3000 10.2MP Digital SLR with Extra 55-200mm Lens, Tripod and Bag')"
   ]
  },
  {
   "cell_type": "code",
   "execution_count": 7,
   "id": "5a42d810",
   "metadata": {},
   "outputs": [
    {
     "data": {
      "text/plain": [
       "(('__label__pcmcat247400050000',), array([0.09211702]))"
      ]
     },
     "execution_count": 7,
     "metadata": {},
     "output_type": "execute_result"
    }
   ],
   "source": [
    "product_classifier.predict('Sony - VAIO Laptop with Intel® Centrino® Processor Technology - Sangria Red')"
   ]
  },
  {
   "cell_type": "markdown",
   "id": "20b499cb",
   "metadata": {},
   "source": [
    "## Check labels"
   ]
  },
  {
   "cell_type": "code",
   "execution_count": 8,
   "id": "f79634d8",
   "metadata": {},
   "outputs": [],
   "source": [
    "import xmltodict"
   ]
  },
  {
   "cell_type": "code",
   "execution_count": 9,
   "id": "fad1e9b9",
   "metadata": {},
   "outputs": [],
   "source": [
    "# Parse xml into dictionary\n",
    "with open('/workspace/datasets/product_data/categories/categories_0001_abcat0010000_to_pcmcat99300050000.xml') as fd:\n",
    "    category = xmltodict.parse(fd.read())"
   ]
  },
  {
   "cell_type": "code",
   "execution_count": 10,
   "id": "b579f3b7",
   "metadata": {},
   "outputs": [],
   "source": [
    "cat_df = pd.DataFrame(category['categories']['category'])"
   ]
  },
  {
   "cell_type": "code",
   "execution_count": 11,
   "id": "800f3f60",
   "metadata": {},
   "outputs": [
    {
     "data": {
      "text/html": [
       "<div>\n",
       "<style scoped>\n",
       "    .dataframe tbody tr th:only-of-type {\n",
       "        vertical-align: middle;\n",
       "    }\n",
       "\n",
       "    .dataframe tbody tr th {\n",
       "        vertical-align: top;\n",
       "    }\n",
       "\n",
       "    .dataframe thead th {\n",
       "        text-align: right;\n",
       "    }\n",
       "</style>\n",
       "<table border=\"1\" class=\"dataframe\">\n",
       "  <thead>\n",
       "    <tr style=\"text-align: right;\">\n",
       "      <th></th>\n",
       "      <th>id</th>\n",
       "      <th>name</th>\n",
       "      <th>path</th>\n",
       "      <th>subCategories</th>\n",
       "    </tr>\n",
       "  </thead>\n",
       "  <tbody>\n",
       "    <tr>\n",
       "      <th>28</th>\n",
       "      <td>abcat0101001</td>\n",
       "      <td>All Flat-Panel TVs</td>\n",
       "      <td>{'category': [{'id': 'cat00000', 'name': 'Best...</td>\n",
       "      <td>{'category': [{'id': 'pcmcat138100050024', 'na...</td>\n",
       "    </tr>\n",
       "  </tbody>\n",
       "</table>\n",
       "</div>"
      ],
      "text/plain": [
       "              id                name  \\\n",
       "28  abcat0101001  All Flat-Panel TVs   \n",
       "\n",
       "                                                 path  \\\n",
       "28  {'category': [{'id': 'cat00000', 'name': 'Best...   \n",
       "\n",
       "                                        subCategories  \n",
       "28  {'category': [{'id': 'pcmcat138100050024', 'na...  "
      ]
     },
     "execution_count": 11,
     "metadata": {},
     "output_type": "execute_result"
    }
   ],
   "source": [
    "cat_df[cat_df['id'] == 'abcat0101001']"
   ]
  },
  {
   "cell_type": "code",
   "execution_count": 12,
   "id": "3dc63557",
   "metadata": {},
   "outputs": [
    {
     "data": {
      "text/html": [
       "<div>\n",
       "<style scoped>\n",
       "    .dataframe tbody tr th:only-of-type {\n",
       "        vertical-align: middle;\n",
       "    }\n",
       "\n",
       "    .dataframe tbody tr th {\n",
       "        vertical-align: top;\n",
       "    }\n",
       "\n",
       "    .dataframe thead th {\n",
       "        text-align: right;\n",
       "    }\n",
       "</style>\n",
       "<table border=\"1\" class=\"dataframe\">\n",
       "  <thead>\n",
       "    <tr style=\"text-align: right;\">\n",
       "      <th></th>\n",
       "      <th>id</th>\n",
       "      <th>name</th>\n",
       "      <th>path</th>\n",
       "      <th>subCategories</th>\n",
       "    </tr>\n",
       "  </thead>\n",
       "  <tbody>\n",
       "    <tr>\n",
       "      <th>2551</th>\n",
       "      <td>pcmcat180400050006</td>\n",
       "      <td>DSLR Package Deals</td>\n",
       "      <td>{'category': [{'id': 'cat00000', 'name': 'Best...</td>\n",
       "      <td>None</td>\n",
       "    </tr>\n",
       "  </tbody>\n",
       "</table>\n",
       "</div>"
      ],
      "text/plain": [
       "                      id                name  \\\n",
       "2551  pcmcat180400050006  DSLR Package Deals   \n",
       "\n",
       "                                                   path subCategories  \n",
       "2551  {'category': [{'id': 'cat00000', 'name': 'Best...          None  "
      ]
     },
     "execution_count": 12,
     "metadata": {},
     "output_type": "execute_result"
    }
   ],
   "source": [
    "cat_df[cat_df['id'] == 'pcmcat180400050006']"
   ]
  },
  {
   "cell_type": "code",
   "execution_count": 13,
   "id": "c998f9e5",
   "metadata": {},
   "outputs": [
    {
     "data": {
      "text/html": [
       "<div>\n",
       "<style scoped>\n",
       "    .dataframe tbody tr th:only-of-type {\n",
       "        vertical-align: middle;\n",
       "    }\n",
       "\n",
       "    .dataframe tbody tr th {\n",
       "        vertical-align: top;\n",
       "    }\n",
       "\n",
       "    .dataframe thead th {\n",
       "        text-align: right;\n",
       "    }\n",
       "</style>\n",
       "<table border=\"1\" class=\"dataframe\">\n",
       "  <thead>\n",
       "    <tr style=\"text-align: right;\">\n",
       "      <th></th>\n",
       "      <th>id</th>\n",
       "      <th>name</th>\n",
       "      <th>path</th>\n",
       "      <th>subCategories</th>\n",
       "    </tr>\n",
       "  </thead>\n",
       "  <tbody>\n",
       "    <tr>\n",
       "      <th>3955</th>\n",
       "      <td>pcmcat247400050000</td>\n",
       "      <td>PC Laptops</td>\n",
       "      <td>{'category': [{'id': 'cat00000', 'name': 'Best...</td>\n",
       "      <td>None</td>\n",
       "    </tr>\n",
       "  </tbody>\n",
       "</table>\n",
       "</div>"
      ],
      "text/plain": [
       "                      id        name  \\\n",
       "3955  pcmcat247400050000  PC Laptops   \n",
       "\n",
       "                                                   path subCategories  \n",
       "3955  {'category': [{'id': 'cat00000', 'name': 'Best...          None  "
      ]
     },
     "execution_count": 13,
     "metadata": {},
     "output_type": "execute_result"
    }
   ],
   "source": [
    "cat_df[cat_df['id'] == 'pcmcat247400050000']"
   ]
  },
  {
   "cell_type": "markdown",
   "id": "ae964e73",
   "metadata": {},
   "source": [
    "## Evaluate default model"
   ]
  },
  {
   "cell_type": "code",
   "execution_count": 16,
   "id": "9ff24177",
   "metadata": {},
   "outputs": [
    {
     "name": "stderr",
     "output_type": "stream",
     "text": [
      "2023-03-11 17:31:38,923 - Evaluation on 9,669 samples - precision@1: 0.1667, recall@1: 0.1667\n"
     ]
    }
   ],
   "source": [
    "k = 1\n",
    "n, prec, rec = product_classifier.test(path='/workspace/datasets/fasttext/test_data.txt', k=k)\n",
    "logger.info(f'Evaluation on {n:,} samples - precision@{k}: {prec:.4f}, recall@{k}: {rec:.4f}')"
   ]
  },
  {
   "cell_type": "code",
   "execution_count": 17,
   "id": "80ce2066",
   "metadata": {},
   "outputs": [
    {
     "name": "stderr",
     "output_type": "stream",
     "text": [
      "2023-03-11 17:31:50,665 - Evaluation on 9,669 samples - precision@5: 0.0540, recall@5: 0.2701\n"
     ]
    }
   ],
   "source": [
    "k = 5\n",
    "n, prec, rec = product_classifier.test(path='/workspace/datasets/fasttext/test_data.txt', k=k)\n",
    "logger.info(f'Evaluation on {n:,} samples - precision@{k}: {prec:.4f}, recall@{k}: {rec:.4f}')"
   ]
  },
  {
   "cell_type": "code",
   "execution_count": 19,
   "id": "17010089",
   "metadata": {},
   "outputs": [
    {
     "name": "stderr",
     "output_type": "stream",
     "text": [
      "2023-03-11 17:32:07,994 - Evaluation on 9,669 samples - precision@10: 0.0333, recall@10: 0.3327\n"
     ]
    }
   ],
   "source": [
    "k = 10\n",
    "n, prec, rec = product_classifier.test(path='/workspace/datasets/fasttext/test_data.txt', k=k)\n",
    "logger.info(f'Evaluation on {n:,} samples - precision@{k}: {prec:.4f}, recall@{k}: {rec:.4f}')"
   ]
  },
  {
   "cell_type": "markdown",
   "id": "1795523a",
   "metadata": {},
   "source": [
    "## Update params"
   ]
  },
  {
   "cell_type": "code",
   "execution_count": 20,
   "id": "691067b0",
   "metadata": {},
   "outputs": [
    {
     "name": "stderr",
     "output_type": "stream",
     "text": [
      "Read 0M words\n",
      "Number of words:  10754\n",
      "Number of labels: 1341\n",
      "Progress: 100.0% words/sec/thread:   15804 lr:  0.000000 avg.loss:  1.249754 ETA:   0h 0m 0s\n"
     ]
    }
   ],
   "source": [
    "product_classifier = fasttext.train_supervised(input='/workspace/datasets/fasttext/training_data.txt', \n",
    "                                               lr=1.0, wordNgrams=2, epoch=25)"
   ]
  },
  {
   "cell_type": "code",
   "execution_count": 21,
   "id": "843e0a8f",
   "metadata": {},
   "outputs": [
    {
     "name": "stderr",
     "output_type": "stream",
     "text": [
      "2023-03-11 17:33:17,233 - Evaluation on 9,669 samples - precision@1: 0.6540, recall@1: 0.6540\n"
     ]
    }
   ],
   "source": [
    "k = 1\n",
    "n, prec, rec = product_classifier.test(path='/workspace/datasets/fasttext/test_data.txt', k=k)\n",
    "logger.info(f'Evaluation on {n:,} samples - precision@{k}: {prec:.4f}, recall@{k}: {rec:.4f}')"
   ]
  },
  {
   "cell_type": "markdown",
   "id": "e10896e0",
   "metadata": {},
   "source": [
    "## Data preparation\n",
    "- Remove all non-alphanumeric chars other than underscore\n",
    "- Lowercase all chars\n",
    "- Trip excess space chars"
   ]
  },
  {
   "cell_type": "code",
   "execution_count": 22,
   "id": "d2a49ee5",
   "metadata": {},
   "outputs": [],
   "source": [
    "!cat /workspace/datasets/fasttext/shuffled_labeled_products.txt |sed -e \"s/\\([.\\!?,'/()]\\)/ \\1 /g\" | tr \"[:upper:]\" \"[:lower:]\" | sed \"s/[^[:alnum:]_]/ /g\" | tr -s ' ' > /workspace/datasets/fasttext/normalized_labeled_products.txt"
   ]
  },
  {
   "cell_type": "code",
   "execution_count": 24,
   "id": "2f8f3908",
   "metadata": {},
   "outputs": [
    {
     "name": "stdout",
     "output_type": "stream",
     "text": [
      "__label__abcat0401002 Canon - PowerShot 10.0-Megapixel Digital Camera - Black\r\n",
      "__label__abcat0701001 Microsoft - Xbox 360 4GB Special Edition Kinect Family Bundle\r\n",
      "__label__abcat0905001 KitchenAid - Architect P Series 23-7/8\" Tall Tub Built-in Dishwasher - Black\r\n",
      "__label__abcat0106008 Bush - Midnight Mist Audio Tower\r\n",
      "__label__pcmcat209000050008 Viewsonic - ViewPad V7E_1WNA1US7_01 7\" 4 GB Tablet Computer - Wi-Fi - Samsung S5PV210 1 GHz - White\r\n"
     ]
    }
   ],
   "source": [
    "!head -5 /workspace/datasets/fasttext/shuffled_labeled_products.txt"
   ]
  },
  {
   "cell_type": "code",
   "execution_count": 23,
   "id": "5a6c5de0",
   "metadata": {},
   "outputs": [
    {
     "name": "stdout",
     "output_type": "stream",
     "text": [
      "__label__abcat0401002 canon powershot 10 0 megapixel digital camera black\r\n",
      "__label__abcat0701001 microsoft xbox 360 4gb special edition kinect family bundle\r\n",
      "__label__abcat0905001 kitchenaid architect p series 23 7 8 tall tub built in dishwasher black\r\n",
      "__label__abcat0106008 bush midnight mist audio tower\r\n",
      "__label__pcmcat209000050008 viewsonic viewpad v7e_1wna1us7_01 7 4 gb tablet computer wi fi samsung s5pv210 1 ghz white\r\n"
     ]
    }
   ],
   "source": [
    "!head -5 /workspace/datasets/fasttext/normalized_labeled_products.txt"
   ]
  },
  {
   "cell_type": "code",
   "execution_count": 25,
   "id": "fc5d7b09",
   "metadata": {},
   "outputs": [],
   "source": [
    "!head -10000 /workspace/datasets/fasttext/normalized_labeled_products.txt > /workspace/datasets/fasttext/training_data.txt\n",
    "!tail -10000 /workspace/datasets/fasttext/normalized_labeled_products.txt > /workspace/datasets/fasttext/test_data.txt"
   ]
  },
  {
   "cell_type": "code",
   "execution_count": 26,
   "id": "1be4e7f6",
   "metadata": {},
   "outputs": [
    {
     "name": "stderr",
     "output_type": "stream",
     "text": [
      "Read 0M words\n",
      "Number of words:  8449\n",
      "Number of labels: 1341\n",
      "Progress: 100.0% words/sec/thread:    9917 lr:  0.000000 avg.loss:  1.166470 ETA:   0h 0m 0s 65.8% words/sec/thread:    8066 lr:  0.342373 avg.loss:  1.770161 ETA:   0h 0m 7s\n"
     ]
    }
   ],
   "source": [
    "product_classifier = fasttext.train_supervised(input='/workspace/datasets/fasttext/training_data.txt', \n",
    "                                               lr=1.0, wordNgrams=2, epoch=25)"
   ]
  },
  {
   "cell_type": "code",
   "execution_count": 27,
   "id": "e90d7ed9",
   "metadata": {},
   "outputs": [
    {
     "name": "stderr",
     "output_type": "stream",
     "text": [
      "2023-03-11 17:36:43,262 - Evaluation on 9,669 samples - precision@1: 0.6521, recall@1: 0.6521\n"
     ]
    }
   ],
   "source": [
    "k = 1\n",
    "n, prec, rec = product_classifier.test(path='/workspace/datasets/fasttext/test_data.txt', k=k)\n",
    "logger.info(f'Evaluation on {n:,} samples - precision@{k}: {prec:.4f}, recall@{k}: {rec:.4f}')"
   ]
  },
  {
   "cell_type": "markdown",
   "id": "982e0a7c",
   "metadata": {},
   "source": [
    "## Filtering on category"
   ]
  },
  {
   "cell_type": "code",
   "execution_count": 53,
   "id": "d605a2a0",
   "metadata": {},
   "outputs": [],
   "source": [
    "files = glob.glob(f'/workspace/datasets/product_data/products/*.xml')\n",
    "min_products = 2"
   ]
  },
  {
   "cell_type": "code",
   "execution_count": 42,
   "id": "62ae18f0",
   "metadata": {},
   "outputs": [],
   "source": [
    "names_as_labels = False\n",
    "\n",
    "def transform_name(product_name):\n",
    "    # IMPLEMENT\n",
    "    return product_name\n",
    "\n",
    "def _label_filename(filename):\n",
    "    tree = ET.parse(filename)\n",
    "    root = tree.getroot()\n",
    "    labels = []\n",
    "    for child in root:\n",
    "        # Check to make sure category name is valid and not in music or movies\n",
    "        if (child.find('name') is not None and child.find('name').text is not None and\n",
    "            child.find('categoryPath') is not None and len(child.find('categoryPath')) > 0 and\n",
    "            child.find('categoryPath')[len(child.find('categoryPath')) - 1][0].text is not None and\n",
    "            child.find('categoryPath')[0][0].text == 'cat00000' and\n",
    "            child.find('categoryPath')[1][0].text != 'abcat0600000'):\n",
    "              # Choose last element in categoryPath as the leaf categoryId or name\n",
    "              if names_as_labels:\n",
    "                  cat = child.find('categoryPath')[len(child.find('categoryPath')) - 1][1].text.replace(' ', '_')\n",
    "              else:\n",
    "                  cat = child.find('categoryPath')[len(child.find('categoryPath')) - 1][0].text\n",
    "              # Replace newline chars with spaces so fastText doesn't complain\n",
    "              name = child.find('name').text.replace('\\n', ' ')\n",
    "              labels.append((cat, transform_name(name)))\n",
    "    return labels"
   ]
  },
  {
   "cell_type": "code",
   "execution_count": 90,
   "id": "a223bd0c",
   "metadata": {},
   "outputs": [
    {
     "name": "stderr",
     "output_type": "stream",
     "text": [
      "\n",
      "  0%|                                                                           | 0/3 [00:00<?, ?it/s]\u001b[A"
     ]
    }
   ],
   "source": [
    "all_labels = tqdm(multiprocessing.Pool().imap(_label_filename, files[:3]), total=3)"
   ]
  },
  {
   "cell_type": "code",
   "execution_count": 91,
   "id": "8bdc2875",
   "metadata": {},
   "outputs": [
    {
     "name": "stderr",
     "output_type": "stream",
     "text": [
      "\n",
      " 33%|██████████████████████▎                                            | 1/3 [00:03<00:06,  3.08s/it]\u001b[A\n",
      "100%|███████████████████████████████████████████████████████████████████| 3/3 [00:03<00:00,  1.09s/it]\u001b[A\n"
     ]
    }
   ],
   "source": [
    "all_labels = [label for label in all_labels]"
   ]
  },
  {
   "cell_type": "code",
   "execution_count": 100,
   "id": "5ae1118b",
   "metadata": {},
   "outputs": [],
   "source": [
    "all_labels = list(chain.from_iterable(all_labels))"
   ]
  },
  {
   "cell_type": "code",
   "execution_count": 101,
   "id": "2003cb45",
   "metadata": {},
   "outputs": [],
   "source": [
    "label_df = pd.DataFrame(all_labels, columns=['cat', 'name'])"
   ]
  },
  {
   "cell_type": "code",
   "execution_count": 60,
   "id": "9905e4af",
   "metadata": {},
   "outputs": [],
   "source": [
    "label_df = pd.DataFrame(all_labels, columns=['cat', 'name'])"
   ]
  },
  {
   "cell_type": "code",
   "execution_count": 61,
   "id": "dcf4d50e",
   "metadata": {},
   "outputs": [],
   "source": [
    "label_agg = label_df.groupby('cat').agg({'name': 'count'}).reset_index()"
   ]
  },
  {
   "cell_type": "code",
   "execution_count": 62,
   "id": "72fad597",
   "metadata": {},
   "outputs": [],
   "source": [
    "filtered_categories = set(label_agg.loc[label_agg['name'] > 2, 'cat'].to_list())"
   ]
  },
  {
   "cell_type": "code",
   "execution_count": 64,
   "id": "d5dfe33a",
   "metadata": {},
   "outputs": [
    {
     "data": {
      "text/html": [
       "<div>\n",
       "<style scoped>\n",
       "    .dataframe tbody tr th:only-of-type {\n",
       "        vertical-align: middle;\n",
       "    }\n",
       "\n",
       "    .dataframe tbody tr th {\n",
       "        vertical-align: top;\n",
       "    }\n",
       "\n",
       "    .dataframe thead th {\n",
       "        text-align: right;\n",
       "    }\n",
       "</style>\n",
       "<table border=\"1\" class=\"dataframe\">\n",
       "  <thead>\n",
       "    <tr style=\"text-align: right;\">\n",
       "      <th></th>\n",
       "      <th>cat</th>\n",
       "      <th>name</th>\n",
       "    </tr>\n",
       "  </thead>\n",
       "  <tbody>\n",
       "    <tr>\n",
       "      <th>7</th>\n",
       "      <td>abcat0811012</td>\n",
       "      <td>AT&amp;T - 3.6V NiCad Battery for 900MHz Phones</td>\n",
       "    </tr>\n",
       "    <tr>\n",
       "      <th>13</th>\n",
       "      <td>pcmcat165900050033</td>\n",
       "      <td>Metra - Radio Installation Dash Kit for Most 1...</td>\n",
       "    </tr>\n",
       "    <tr>\n",
       "      <th>14</th>\n",
       "      <td>pcmcat165900050033</td>\n",
       "      <td>Metra - Radio Dash Multikit for Select GM Vehi...</td>\n",
       "    </tr>\n",
       "    <tr>\n",
       "      <th>15</th>\n",
       "      <td>pcmcat165900050034</td>\n",
       "      <td>Metra - Wiring Harness for Select 1998-2008 Fo...</td>\n",
       "    </tr>\n",
       "    <tr>\n",
       "      <th>16</th>\n",
       "      <td>pcmcat165900050034</td>\n",
       "      <td>Metra - Turbo Wire Aftermarket Radio Wire Harn...</td>\n",
       "    </tr>\n",
       "    <tr>\n",
       "      <th>17</th>\n",
       "      <td>pcmcat165900050034</td>\n",
       "      <td>Metra - Wiring Harness for Most 1986-1998 Hond...</td>\n",
       "    </tr>\n",
       "    <tr>\n",
       "      <th>21</th>\n",
       "      <td>pcmcat165900050033</td>\n",
       "      <td>Best Buy - Mazda Multi In-Dash Installation Kit</td>\n",
       "    </tr>\n",
       "    <tr>\n",
       "      <th>23</th>\n",
       "      <td>abcat0811012</td>\n",
       "      <td>Energizer - 3.6V NiCad Battery for 900MHz Phones</td>\n",
       "    </tr>\n",
       "    <tr>\n",
       "      <th>24</th>\n",
       "      <td>abcat0811012</td>\n",
       "      <td>Energizer - 3.6V NiCad Battery for 900MHz Phones</td>\n",
       "    </tr>\n",
       "    <tr>\n",
       "      <th>25</th>\n",
       "      <td>abcat0811012</td>\n",
       "      <td>Energizer - 3.6V NiCad Battery for 900MHz Phones</td>\n",
       "    </tr>\n",
       "  </tbody>\n",
       "</table>\n",
       "</div>"
      ],
      "text/plain": [
       "                   cat                                               name\n",
       "7         abcat0811012        AT&T - 3.6V NiCad Battery for 900MHz Phones\n",
       "13  pcmcat165900050033  Metra - Radio Installation Dash Kit for Most 1...\n",
       "14  pcmcat165900050033  Metra - Radio Dash Multikit for Select GM Vehi...\n",
       "15  pcmcat165900050034  Metra - Wiring Harness for Select 1998-2008 Fo...\n",
       "16  pcmcat165900050034  Metra - Turbo Wire Aftermarket Radio Wire Harn...\n",
       "17  pcmcat165900050034  Metra - Wiring Harness for Most 1986-1998 Hond...\n",
       "21  pcmcat165900050033    Best Buy - Mazda Multi In-Dash Installation Kit\n",
       "23        abcat0811012   Energizer - 3.6V NiCad Battery for 900MHz Phones\n",
       "24        abcat0811012   Energizer - 3.6V NiCad Battery for 900MHz Phones\n",
       "25        abcat0811012   Energizer - 3.6V NiCad Battery for 900MHz Phones"
      ]
     },
     "execution_count": 64,
     "metadata": {},
     "output_type": "execute_result"
    }
   ],
   "source": [
    "label_df[label_df['cat'].isin(filtered_categories)]"
   ]
  },
  {
   "cell_type": "code",
   "execution_count": 104,
   "id": "0089f9a9",
   "metadata": {},
   "outputs": [
    {
     "name": "stdout",
     "output_type": "stream",
     "text": [
      "Writing results to /workspace/datasets/fasttext/pruned_labeled_products.txt\n",
      "100%|█████████████████████████████████████████| 256/256 [01:22<00:00,  3.12it/s]\n",
      "Category count: 32, Product count: 28,921\n"
     ]
    }
   ],
   "source": [
    "!python createContentTrainingData.py --output /workspace/datasets/fasttext/pruned_labeled_products.txt --min_products 500"
   ]
  },
  {
   "cell_type": "code",
   "execution_count": 111,
   "id": "840ac4da",
   "metadata": {},
   "outputs": [
    {
     "name": "stdout",
     "output_type": "stream",
     "text": [
      "/usr/bin/sh: 1: Syntax error: \"(\" unexpected\r\n"
     ]
    }
   ],
   "source": [
    "# !shuf /workspace/datasets/fasttext/pruned_labeled_products.txt --random-source=<(seq 99999) > /workspace/datasets/fasttext/shuffled_pruned_labeled_products.txt"
   ]
  },
  {
   "cell_type": "code",
   "execution_count": 112,
   "id": "d792ad4c",
   "metadata": {},
   "outputs": [],
   "source": [
    "!cat /workspace/datasets/fasttext/shuffled_pruned_labeled_products.txt |sed -e \"s/\\([.\\!?,'/()]\\)/ \\1 /g\" | tr \"[:upper:]\" \"[:lower:]\" | sed \"s/[^[:alnum:]_]/ /g\" | tr -s ' ' > /workspace/datasets/fasttext/normalized_pruned_labeled_products.txt"
   ]
  },
  {
   "cell_type": "code",
   "execution_count": 113,
   "id": "8fa9652f",
   "metadata": {},
   "outputs": [],
   "source": [
    "!head -10000 /workspace/datasets/fasttext/normalized_pruned_labeled_products.txt > /workspace/datasets/fasttext/training_data.txt\n",
    "!tail -10000 /workspace/datasets/fasttext/normalized_pruned_labeled_products.txt > /workspace/datasets/fasttext/test_data.txt"
   ]
  },
  {
   "cell_type": "code",
   "execution_count": 114,
   "id": "d370ec6d",
   "metadata": {},
   "outputs": [
    {
     "name": "stderr",
     "output_type": "stream",
     "text": [
      "Read 0M words\n",
      "Number of words:  5373\n",
      "Number of labels: 29\n",
      "Progress: 100.0% words/sec/thread:  168711 lr:  0.000000 avg.loss:  0.042553 ETA:   0h 0m 0s\n"
     ]
    }
   ],
   "source": [
    "product_classifier = fasttext.train_supervised(input='/workspace/datasets/fasttext/training_data.txt', \n",
    "                                               lr=1.0, epoch=25)"
   ]
  },
  {
   "cell_type": "code",
   "execution_count": 115,
   "id": "ed37d4dc",
   "metadata": {},
   "outputs": [
    {
     "name": "stderr",
     "output_type": "stream",
     "text": [
      "2023-03-11 18:30:54,304 - Evaluation on 8,473 samples - precision@1: 0.9629, recall@1: 0.9629\n"
     ]
    }
   ],
   "source": [
    "k = 1\n",
    "n, prec, rec = product_classifier.test(path='/workspace/datasets/fasttext/test_data.txt', k=k)\n",
    "logger.info(f'Evaluation on {n:,} samples - precision@{k}: {prec:.4f}, recall@{k}: {rec:.4f}')"
   ]
  },
  {
   "cell_type": "code",
   "execution_count": 116,
   "id": "018119bc",
   "metadata": {},
   "outputs": [
    {
     "name": "stderr",
     "output_type": "stream",
     "text": [
      "Read 0M words\n",
      "Number of words:  5373\n",
      "Number of labels: 29\n",
      "Progress: 100.0% words/sec/thread:  146558 lr:  0.000000 avg.loss:  0.037745 ETA:   0h 0m 0s\n"
     ]
    }
   ],
   "source": [
    "product_classifier = fasttext.train_supervised(input='/workspace/datasets/fasttext/training_data.txt', \n",
    "                                               lr=1.0, epoch=25, wordNgrams=2)"
   ]
  },
  {
   "cell_type": "code",
   "execution_count": 117,
   "id": "cd736ffb",
   "metadata": {},
   "outputs": [
    {
     "name": "stderr",
     "output_type": "stream",
     "text": [
      "2023-03-11 18:31:14,246 - Evaluation on 8,473 samples - precision@1: 0.9645, recall@1: 0.9645\n"
     ]
    }
   ],
   "source": [
    "k = 1\n",
    "n, prec, rec = product_classifier.test(path='/workspace/datasets/fasttext/test_data.txt', k=k)\n",
    "logger.info(f'Evaluation on {n:,} samples - precision@{k}: {prec:.4f}, recall@{k}: {rec:.4f}')"
   ]
  },
  {
   "cell_type": "markdown",
   "id": "c561ad7c",
   "metadata": {},
   "source": [
    "# Level 2: Derive Synonyms from Content"
   ]
  },
  {
   "cell_type": "markdown",
   "id": "46c94ed3",
   "metadata": {},
   "source": [
    "## Data preparation"
   ]
  },
  {
   "cell_type": "code",
   "execution_count": 119,
   "id": "4b6a84cf",
   "metadata": {},
   "outputs": [
    {
     "name": "stdout",
     "output_type": "stream",
     "text": [
      "Writing results to /workspace/datasets/fasttext/products.txt\n",
      "100%|█████████████████████████████████████████| 256/256 [01:16<00:00,  3.35it/s]\n",
      "Category count: 1803, Product count: 115,503\n"
     ]
    }
   ],
   "source": [
    "!python createContentTrainingData.py --output /workspace/datasets/fasttext/products.txt --label name"
   ]
  },
  {
   "cell_type": "code",
   "execution_count": 120,
   "id": "7f06469b",
   "metadata": {},
   "outputs": [],
   "source": [
    "!cat /workspace/datasets/fasttext/products.txt |  cut -c 10- | sed -e \"s/\\([.\\!?,'/()]\\)/ \\1 /g\" | tr \"[:upper:]\" \"[:lower:]\" | sed \"s/[^[:alnum:]]/ /g\" | tr -s ' ' > /workspace/datasets/fasttext/normalized_products.txt"
   ]
  },
  {
   "cell_type": "code",
   "execution_count": 121,
   "id": "7fc9aff7",
   "metadata": {},
   "outputs": [
    {
     "name": "stderr",
     "output_type": "stream",
     "text": [
      "Read 1M words\n",
      "Number of words:  9205\n",
      "Number of labels: 0\n",
      "Progress: 100.0% words/sec/thread:   46712 lr:  0.000000 avg.loss:  1.220938 ETA:   0h 0m 0s 57.6% words/sec/thread:   37299 lr:  0.021222 avg.loss:  1.263421 ETA:   0h 0m 5s\n"
     ]
    }
   ],
   "source": [
    "title_model = fasttext.train_unsupervised(input='/workspace/datasets/fasttext/normalized_products.txt',\n",
    "                                          model='skipgram')"
   ]
  },
  {
   "cell_type": "code",
   "execution_count": 122,
   "id": "ea7d3ed4",
   "metadata": {},
   "outputs": [
    {
     "data": {
      "text/plain": [
       "[(0.8836662769317627, 'deskjet'),\n",
       " (0.8633587956428528, 'officejet'),\n",
       " (0.8344438672065735, 'b1h'),\n",
       " (0.8252926468849182, 'c5280'),\n",
       " (0.8137577772140503, 'laserjet'),\n",
       " (0.8085622191429138, 'pixma'),\n",
       " (0.8048376441001892, 'lexmark'),\n",
       " (0.8021136522293091, 'mfc'),\n",
       " (0.8000170588493347, 'printers'),\n",
       " (0.7972469329833984, 'mvm')]"
      ]
     },
     "execution_count": 122,
     "metadata": {},
     "output_type": "execute_result"
    }
   ],
   "source": [
    "title_model.get_nearest_neighbors('inkjet')"
   ]
  },
  {
   "cell_type": "code",
   "execution_count": 123,
   "id": "2e4b9c04",
   "metadata": {},
   "outputs": [
    {
     "data": {
      "text/plain": [
       "[(0.9316118359565735, 'netbooks'),\n",
       " (0.9038827419281006, 'jetbook'),\n",
       " (0.8332692980766296, 'nextbook'),\n",
       " (0.7719100713729858, 'atom'),\n",
       " (0.7648991942405701, 'eee'),\n",
       " (0.7603505253791809, '1005hab'),\n",
       " (0.7213680148124695, 'slip'),\n",
       " (0.7157060503959656, 'n270'),\n",
       " (0.6964132189750671, 'np'),\n",
       " (0.6922696828842163, 'zenbook')]"
      ]
     },
     "execution_count": 123,
     "metadata": {},
     "output_type": "execute_result"
    }
   ],
   "source": [
    "title_model.get_nearest_neighbors('netbook')"
   ]
  },
  {
   "cell_type": "code",
   "execution_count": 5,
   "id": "c6ed35df",
   "metadata": {},
   "outputs": [
    {
     "name": "stderr",
     "output_type": "stream",
     "text": [
      "Read 1M words\n",
      "Number of words:  1556\n",
      "Number of labels: 0\n",
      "Progress: 100.0% words/sec/thread:   43684 lr:  0.000000 avg.loss:  1.295575 ETA:   0h 0m 0s\n"
     ]
    }
   ],
   "source": [
    "title_model = fasttext.train_unsupervised(input='/workspace/datasets/fasttext/normalized_products.txt',\n",
    "                                          model='skipgram', minCount=100)"
   ]
  },
  {
   "cell_type": "code",
   "execution_count": 6,
   "id": "75ee016b",
   "metadata": {},
   "outputs": [
    {
     "data": {
      "text/plain": [
       "[(0.8110601305961609, 'printers'),\n",
       " (0.7996888160705566, 'printer'),\n",
       " (0.7449747920036316, 'laserjet'),\n",
       " (0.7298192977905273, 'copier'),\n",
       " (0.7144044041633606, 'lexmark'),\n",
       " (0.7010620832443237, 'packard'),\n",
       " (0.6940978765487671, 'photosmart'),\n",
       " (0.677263081073761, 'brother'),\n",
       " (0.675620973110199, 'ink'),\n",
       " (0.6616724729537964, 'hewlett')]"
      ]
     },
     "execution_count": 6,
     "metadata": {},
     "output_type": "execute_result"
    }
   ],
   "source": [
    "title_model.get_nearest_neighbors('inkjet')"
   ]
  },
  {
   "cell_type": "code",
   "execution_count": 7,
   "id": "347e53d8",
   "metadata": {},
   "outputs": [
    {
     "data": {
      "text/plain": [
       "[(0.9127790927886963, 'netbooks'),\n",
       " (0.7936349511146545, 'atom'),\n",
       " (0.7041299939155579, 'eee'),\n",
       " (0.6468859910964966, 'slip'),\n",
       " (0.6237702369689941, 'laptop'),\n",
       " (0.5247266292572021, 'laptops'),\n",
       " (0.5208449959754944, 'team'),\n",
       " (0.518611490726471, 'briefcase'),\n",
       " (0.5173459053039551, 'mouse'),\n",
       " (0.5157207250595093, 'inspiron')]"
      ]
     },
     "execution_count": 7,
     "metadata": {},
     "output_type": "execute_result"
    }
   ],
   "source": [
    "title_model.get_nearest_neighbors('netbook')"
   ]
  },
  {
   "cell_type": "code",
   "execution_count": 17,
   "id": "228e7957",
   "metadata": {
    "scrolled": false
   },
   "outputs": [
    {
     "name": "stderr",
     "output_type": "stream",
     "text": [
      "2023-03-11 19:12:30,722 - Nearest neighbors for: headphones\n",
      "2023-03-11 19:12:30,723 - (0.8840067386627197, 'ear')\n",
      "2023-03-11 19:12:30,723 - (0.8646281957626343, 'earbud')\n",
      "2023-03-11 19:12:30,724 - (0.7090734243392944, 'bud')\n",
      "2023-03-11 19:12:30,726 - (0.6759501099586487, 'noise')\n",
      "2023-03-11 19:12:30,726 - (0.6747713685035706, 'sennheiser')\n",
      "2023-03-11 19:12:30,727 - (0.649059534072876, 'over')\n",
      "2023-03-11 19:12:30,727 - (0.6453553438186646, 'microphones')\n",
      "2023-03-11 19:12:30,728 - (0.6345415115356445, 'gumy')\n",
      "2023-03-11 19:12:30,728 - (0.6153662800788879, 'skullcandy')\n",
      "2023-03-11 19:12:30,729 - (0.6142438650131226, 'earbuds')\n",
      "2023-03-11 19:12:30,730 - Nearest neighbors for: laptop\n",
      "2023-03-11 19:12:30,730 - (0.8026874661445618, 'laptops')\n",
      "2023-03-11 19:12:30,731 - (0.746196985244751, 'notebook')\n",
      "2023-03-11 19:12:30,731 - (0.6591004729270935, 'notebooks')\n",
      "2023-03-11 19:12:30,732 - (0.623769998550415, 'netbook')\n",
      "2023-03-11 19:12:30,732 - (0.6076312065124512, 'macbook')\n",
      "2023-03-11 19:12:30,733 - (0.5923843383789062, 'briefcase')\n",
      "2023-03-11 19:12:30,733 - (0.560066282749176, 'netbooks')\n",
      "2023-03-11 19:12:30,734 - (0.5405807495117188, 'slip')\n",
      "2023-03-11 19:12:30,734 - (0.5286868214607239, 'mail')\n",
      "2023-03-11 19:12:30,735 - (0.5159195065498352, 'mouse')\n",
      "2023-03-11 19:12:30,735 - Nearest neighbors for: freezer\n",
      "2023-03-11 19:12:30,736 - (0.9135377407073975, 'freezers')\n",
      "2023-03-11 19:12:30,737 - (0.7835357785224915, 'refrigerator')\n",
      "2023-03-11 19:12:30,738 - (0.7800273299217224, 'frost')\n",
      "2023-03-11 19:12:30,741 - (0.7783714532852173, 'refrigerators')\n",
      "2023-03-11 19:12:30,742 - (0.7400931119918823, 'bottom')\n",
      "2023-03-11 19:12:30,743 - (0.7120528221130371, 'side')\n",
      "2023-03-11 19:12:30,743 - (0.6948789358139038, 'counter')\n",
      "2023-03-11 19:12:30,743 - (0.6947041153907776, 'ft')\n",
      "2023-03-11 19:12:30,744 - (0.693922758102417, 'cu')\n",
      "2023-03-11 19:12:30,744 - (0.6595866680145264, 'monochromatic')\n",
      "2023-03-11 19:12:30,745 - Nearest neighbors for: nintendo\n",
      "2023-03-11 19:12:30,746 - (0.8641888499259949, 'wii')\n",
      "2023-03-11 19:12:30,746 - (0.862643301486969, 'ds')\n",
      "2023-03-11 19:12:30,747 - (0.7760639190673828, '3ds')\n",
      "2023-03-11 19:12:30,747 - (0.69927978515625, 'psp')\n",
      "2023-03-11 19:12:30,748 - (0.684661865234375, 'gamecube')\n",
      "2023-03-11 19:12:30,748 - (0.6829535365104675, 'mario')\n",
      "2023-03-11 19:12:30,748 - (0.6809229850769043, 'dsi')\n",
      "2023-03-11 19:12:30,749 - (0.673521101474762, 'playstation')\n",
      "2023-03-11 19:12:30,750 - (0.6732454299926758, 'boy')\n",
      "2023-03-11 19:12:30,750 - (0.6623314619064331, 'ps2')\n",
      "2023-03-11 19:12:30,751 - Nearest neighbors for: whirlpool\n",
      "2023-03-11 19:12:30,751 - (0.8415570855140686, 'maytag')\n",
      "2023-03-11 19:12:30,752 - (0.7992282509803772, 'frigidaire')\n",
      "2023-03-11 19:12:30,752 - (0.7876859903335571, 'biscuit')\n",
      "2023-03-11 19:12:30,753 - (0.7129015922546387, 'ge')\n",
      "2023-03-11 19:12:30,754 - (0.7053651213645935, 'bisque')\n",
      "2023-03-11 19:12:30,754 - (0.7014099955558777, 'electrolux')\n",
      "2023-03-11 19:12:30,755 - (0.6986908316612244, 'profile')\n",
      "2023-03-11 19:12:30,755 - (0.693130612373352, 'bosch')\n",
      "2023-03-11 19:12:30,756 - (0.6819530129432678, 'kitchenaid')\n",
      "2023-03-11 19:12:30,757 - (0.643305242061615, 'architect')\n",
      "2023-03-11 19:12:30,758 - Nearest neighbors for: kodak\n",
      "2023-03-11 19:12:30,758 - (0.812397301197052, 'easyshare')\n",
      "2023-03-11 19:12:30,759 - (0.6654841899871826, 'share')\n",
      "2023-03-11 19:12:30,759 - (0.6201555728912354, 'canon')\n",
      "2023-03-11 19:12:30,760 - (0.6007665395736694, 'fujifilm')\n",
      "2023-03-11 19:12:30,761 - (0.5964944362640381, 'photosmart')\n",
      "2023-03-11 19:12:30,761 - (0.5877746343612671, 'coolpix')\n",
      "2023-03-11 19:12:30,762 - (0.5711696743965149, 'packard')\n",
      "2023-03-11 19:12:30,763 - (0.566426157951355, 'powershot')\n",
      "2023-03-11 19:12:30,763 - (0.5661646127700806, 'hewlett')\n",
      "2023-03-11 19:12:30,764 - (0.5502490401268005, 'olympus')\n",
      "2023-03-11 19:12:30,764 - Nearest neighbors for: ps2\n",
      "2023-03-11 19:12:30,765 - (0.7860081195831299, 'playstation')\n",
      "2023-03-11 19:12:30,766 - (0.736515462398529, '360')\n",
      "2023-03-11 19:12:30,766 - (0.7329643964767456, 'xbox')\n",
      "2023-03-11 19:12:30,767 - (0.7282617688179016, 'psp')\n",
      "2023-03-11 19:12:30,767 - (0.7243496179580688, 'ps3')\n",
      "2023-03-11 19:12:30,768 - (0.6738565564155579, 'gamecube')\n",
      "2023-03-11 19:12:30,769 - (0.6736697554588318, 'greatest')\n",
      "2023-03-11 19:12:30,769 - (0.6715794205665588, 'guides')\n",
      "2023-03-11 19:12:30,770 - (0.6713573336601257, 'vs')\n",
      "2023-03-11 19:12:30,771 - (0.6704014539718628, 'nba')\n",
      "2023-03-11 19:12:30,779 - Nearest neighbors for: razer\n",
      "2023-03-11 19:12:30,780 - (0.6765069961547852, 'gaming')\n",
      "2023-03-11 19:12:30,781 - (0.5886498689651489, 'mice')\n",
      "2023-03-11 19:12:30,782 - (0.5566843748092651, 'b')\n",
      "2023-03-11 19:12:30,782 - (0.5531960725784302, 'collector')\n",
      "2023-03-11 19:12:30,783 - (0.5427398085594177, 'logitech')\n",
      "2023-03-11 19:12:30,783 - (0.5365556478500366, 'headsets')\n",
      "2023-03-11 19:12:30,784 - (0.5355088710784912, 'mouse')\n",
      "2023-03-11 19:12:30,785 - (0.5346196293830872, 'controllers')\n",
      "2023-03-11 19:12:30,785 - (0.5322176218032837, 'bears')\n",
      "2023-03-11 19:12:30,786 - (0.515729546546936, 'controller')\n",
      "2023-03-11 19:12:30,787 - Nearest neighbors for: stratocaster\n",
      "2023-03-11 19:12:30,787 - (0.7219747304916382, 'roaster')\n",
      "2023-03-11 19:12:30,788 - (0.7046803832054138, 'toaster')\n",
      "2023-03-11 19:12:30,788 - (0.6793376207351685, 'toasters')\n",
      "2023-03-11 19:12:30,789 - (0.677671492099762, 'slow')\n",
      "2023-03-11 19:12:30,790 - (0.6525212526321411, 'crock')\n",
      "2023-03-11 19:12:30,790 - (0.639604389667511, 'pizza')\n",
      "2023-03-11 19:12:30,791 - (0.6339907646179199, 'straps')\n",
      "2023-03-11 19:12:30,791 - (0.6097658276557922, 'popcorn')\n",
      "2023-03-11 19:12:30,792 - (0.6048307418823242, 'cooker')\n",
      "2023-03-11 19:12:30,792 - (0.6039547920227051, 'pots')\n",
      "2023-03-11 19:12:30,793 - Nearest neighbors for: holiday\n",
      "2023-03-11 19:12:30,793 - (0.6755728721618652, 'tailgate')\n",
      "2023-03-11 19:12:30,797 - (0.6698418259620667, 'florida')\n",
      "2023-03-11 19:12:30,798 - (0.6552072167396545, 'virginia')\n",
      "2023-03-11 19:12:30,798 - (0.654342532157898, 'michigan')\n",
      "2023-03-11 19:12:30,799 - (0.6541351675987244, 'carolina')\n",
      "2023-03-11 19:12:30,800 - (0.6495124697685242, 'miami')\n",
      "2023-03-11 19:12:30,800 - (0.6459834575653076, 'day')\n",
      "2023-03-11 19:12:30,800 - (0.6402449607849121, 'birthday')\n",
      "2023-03-11 19:12:30,801 - (0.6327406764030457, 'iowa')\n",
      "2023-03-11 19:12:30,802 - (0.6285082697868347, 'utah')\n",
      "2023-03-11 19:12:30,803 - Nearest neighbors for: plasma\n",
      "2023-03-11 19:12:30,803 - (0.7941771745681763, '600hz')\n",
      "2023-03-11 19:12:30,804 - (0.7232430577278137, 'televisions')\n",
      "2023-03-11 19:12:30,804 - (0.6987985968589783, 'tvs')\n",
      "2023-03-11 19:12:30,806 - (0.6829091906547546, '240hz')\n",
      "2023-03-11 19:12:30,807 - (0.6755582094192505, 'panel')\n",
      "2023-03-11 19:12:30,807 - (0.6661264896392822, 'flat')\n",
      "2023-03-11 19:12:30,808 - (0.646522045135498, '42')\n",
      "2023-03-11 19:12:30,808 - (0.6256916522979736, '120hz')\n",
      "2023-03-11 19:12:30,809 - (0.6156459450721741, '46')\n",
      "2023-03-11 19:12:30,809 - (0.6071056127548218, 'hdtv')\n",
      "2023-03-11 19:12:30,810 - Nearest neighbors for: leather\n",
      "2023-03-11 19:12:30,811 - (0.6945129632949829, 'recliner')\n",
      "2023-03-11 19:12:30,811 - (0.6715585589408875, 'seating')\n",
      "2023-03-11 19:12:30,812 - (0.6562313437461853, 'berkline')\n",
      "2023-03-11 19:12:30,813 - (0.645698606967926, 'curved')\n",
      "2023-03-11 19:12:30,813 - (0.6018388867378235, 'theaterseatstore')\n",
      "2023-03-11 19:12:30,814 - (0.5674707293510437, 'seat')\n",
      "2023-03-11 19:12:30,814 - (0.5611633658409119, 'executive')\n",
      "2023-03-11 19:12:30,815 - (0.5483434796333313, 'folio')\n",
      "2023-03-11 19:12:30,815 - (0.535864531993866, 'straight')\n",
      "2023-03-11 19:12:30,816 - (0.5352071523666382, 'pouch')\n"
     ]
    }
   ],
   "source": [
    "tokens = ['headphones', 'laptop', 'freezer', 'nintendo', 'whirlpool', 'kodak', 'ps2',\n",
    "          'razer', 'stratocaster', 'holiday', 'plasma', 'leather']\n",
    "\n",
    "for token in tokens:\n",
    "    nn = title_model.get_nearest_neighbors(token)\n",
    "    logger.info(f'Nearest neighbors for: {token}')\n",
    "    [logger.info(n) for n in nn]"
   ]
  },
  {
   "cell_type": "code",
   "execution_count": 18,
   "id": "6f207caa",
   "metadata": {},
   "outputs": [
    {
     "name": "stderr",
     "output_type": "stream",
     "text": [
      "Read 1M words\n",
      "Number of words:  1556\n",
      "Number of labels: 0\n",
      "Progress: 100.0% words/sec/thread:   81133 lr:  0.000000 avg.loss:  1.225277 ETA:   0h 0m 0s words/sec/thread:   68192 lr:  0.025533 avg.loss:  1.259784 ETA:   0h 0m17s\n"
     ]
    }
   ],
   "source": [
    "title_model = fasttext.train_unsupervised(input='/workspace/datasets/fasttext/normalized_products.txt',\n",
    "                                          model='skipgram', minCount=100, epoch=25)"
   ]
  },
  {
   "cell_type": "code",
   "execution_count": 21,
   "id": "0b775243",
   "metadata": {},
   "outputs": [
    {
     "data": {
      "text/plain": [
       "[(0.8484390377998352, '4s'),\n",
       " (0.7798793315887451, 'apple'),\n",
       " (0.7289857864379883, 'ipod')]"
      ]
     },
     "execution_count": 21,
     "metadata": {},
     "output_type": "execute_result"
    }
   ],
   "source": [
    "results = title_model.get_nearest_neighbors('iphone')\n",
    "[result for result in results if result[0] >0.70]"
   ]
  },
  {
   "cell_type": "code",
   "execution_count": null,
   "id": "edc8278b",
   "metadata": {},
   "outputs": [],
   "source": []
  }
 ],
 "metadata": {
  "kernelspec": {
   "display_name": "Python 3 (ipykernel)",
   "language": "python",
   "name": "python3"
  },
  "language_info": {
   "codemirror_mode": {
    "name": "ipython",
    "version": 3
   },
   "file_extension": ".py",
   "mimetype": "text/x-python",
   "name": "python",
   "nbconvert_exporter": "python",
   "pygments_lexer": "ipython3",
   "version": "3.9.7"
  }
 },
 "nbformat": 4,
 "nbformat_minor": 5
}
