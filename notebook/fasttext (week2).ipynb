{
 "cells": [
  {
   "cell_type": "code",
   "execution_count": 1,
   "id": "e9a5d7dc",
   "metadata": {},
   "outputs": [],
   "source": [
    "import pandas as pd\n",
    "import fasttext"
   ]
  },
  {
   "cell_type": "markdown",
   "id": "e3f8c6a1",
   "metadata": {},
   "source": [
    "## Download data"
   ]
  },
  {
   "cell_type": "code",
   "execution_count": 1,
   "id": "75e8a0db",
   "metadata": {},
   "outputs": [
    {
     "name": "stdout",
     "output_type": "stream",
     "text": [
      "--2023-03-11 16:15:35--  https://dl.fbaipublicfiles.com/fasttext/data/cooking.stackexchange.tar.gz\n",
      "Resolving dl.fbaipublicfiles.com (dl.fbaipublicfiles.com)... 104.22.74.142, 104.22.75.142, 172.67.9.4, ...\n",
      "Connecting to dl.fbaipublicfiles.com (dl.fbaipublicfiles.com)|104.22.74.142|:443... connected.\n",
      "HTTP request sent, awaiting response... 200 OK\n",
      "Length: 457609 (447K) [application/x-tar]\n",
      "Saving to: ‘cooking.stackexchange.tar.gz’\n",
      "\n",
      "cooking.stackexchan 100%[===================>] 446.88K  --.-KB/s    in 0.04s   \n",
      "\n",
      "2023-03-11 16:15:35 (10.8 MB/s) - ‘cooking.stackexchange.tar.gz’ saved [457609/457609]\n",
      "\n",
      "cooking.stackexchange.id\n",
      "cooking.stackexchange.txt\n",
      "readme.txt\n",
      "__label__sauce __label__cheese How much does potato starch affect a cheese sauce recipe?\n",
      "__label__food-safety __label__acidity Dangerous pathogens capable of growing in acidic environments\n",
      "__label__cast-iron __label__stove How do I cover up the white spots on my cast iron stove?\n",
      "__label__restaurant Michelin Three Star Restaurant; but if the chef is not there\n",
      "__label__knife-skills __label__dicing Without knife skills, how can I quickly and accurately dice vegetables?\n",
      "__label__storage-method __label__equipment __label__bread What's the purpose of a bread box?\n",
      "__label__baking __label__food-safety __label__substitutions __label__peanuts how to seperate peanut oil from roasted peanuts at home?\n",
      "__label__chocolate American equivalent for British chocolate terms\n",
      "__label__baking __label__oven __label__convection Fan bake vs bake\n",
      "__label__sauce __label__storage-lifetime __label__acidity __label__mayonnaise Regulation and balancing of readymade packed mayonnaise and other sauces\n"
     ]
    }
   ],
   "source": [
    "!wget https://dl.fbaipublicfiles.com/fasttext/data/cooking.stackexchange.tar.gz\n",
    "!tar -xvzf cooking.stackexchange.tar.gz\n",
    "!head cooking.stackexchange.txt"
   ]
  },
  {
   "cell_type": "markdown",
   "id": "3a05996c",
   "metadata": {},
   "source": [
    "## Split into train and eval"
   ]
  },
  {
   "cell_type": "code",
   "execution_count": 17,
   "id": "d4e71adb",
   "metadata": {},
   "outputs": [],
   "source": [
    "!head -12404 cooking.stackexchange.txt > cooking.train\n",
    "!tail -3000 cooking.stackexchange.txt > cooking.test"
   ]
  },
  {
   "cell_type": "markdown",
   "id": "c91fe38a",
   "metadata": {},
   "source": [
    "## Train a classifier"
   ]
  },
  {
   "cell_type": "code",
   "execution_count": 18,
   "id": "026009ca",
   "metadata": {},
   "outputs": [
    {
     "name": "stderr",
     "output_type": "stream",
     "text": [
      "Read 0M words\n",
      "Number of words:  14543\n",
      "Number of labels: 735\n",
      "Progress: 100.0% words/sec/thread:    9470 lr:  0.000000 avg.loss: 10.173771 ETA:   0h 0m 0s\n"
     ]
    }
   ],
   "source": [
    "model = fasttext.train_supervised(input='cooking.train')"
   ]
  },
  {
   "cell_type": "markdown",
   "id": "1f4618de",
   "metadata": {},
   "source": [
    "## Evaluate"
   ]
  },
  {
   "cell_type": "code",
   "execution_count": 19,
   "id": "f5115f50",
   "metadata": {},
   "outputs": [
    {
     "data": {
      "text/plain": [
       "(3000, 0.15666666666666668, 0.0677526308202393)"
      ]
     },
     "execution_count": 19,
     "metadata": {},
     "output_type": "execute_result"
    }
   ],
   "source": [
    "model.test('cooking.test')\n",
    "\n",
    "# N (n samples) = 3,000\n",
    "# precision@1 = 0.157\n",
    "# recall@1 = 0.067"
   ]
  },
  {
   "cell_type": "code",
   "execution_count": 20,
   "id": "b9ef40f0",
   "metadata": {},
   "outputs": [
    {
     "data": {
      "text/plain": [
       "(3000, 0.06866666666666667, 0.1484791696698861)"
      ]
     },
     "execution_count": 20,
     "metadata": {},
     "output_type": "execute_result"
    }
   ],
   "source": [
    "# Predict five samples\n",
    "model.test('cooking.test', k=5)\n",
    "\n",
    "# N (n samples) = 3,000\n",
    "# precision@5 = 0.069\n",
    "# recall@5 = 0.148"
   ]
  },
  {
   "cell_type": "markdown",
   "id": "00e03fd1",
   "metadata": {},
   "source": [
    "## Data preparation"
   ]
  },
  {
   "cell_type": "code",
   "execution_count": 24,
   "id": "64bce5d1",
   "metadata": {},
   "outputs": [
    {
     "name": "stdout",
     "output_type": "stream",
     "text": [
      "__label__sauce __label__cheese How much does potato starch affect a cheese sauce recipe?\r\n",
      "__label__food-safety __label__acidity Dangerous pathogens capable of growing in acidic environments\r\n",
      "__label__cast-iron __label__stove How do I cover up the white spots on my cast iron stove?\r\n",
      "__label__restaurant Michelin Three Star Restaurant; but if the chef is not there\r\n",
      "__label__knife-skills __label__dicing Without knife skills, how can I quickly and accurately dice vegetables?\r\n"
     ]
    }
   ],
   "source": [
    "# Text is not all in lowercase and there's punctuation\n",
    "!head cooking.train -n 5"
   ]
  },
  {
   "cell_type": "code",
   "execution_count": 25,
   "id": "276766b3",
   "metadata": {},
   "outputs": [],
   "source": [
    "# Lowercase and split punctuations as their own tokens\n",
    "!cat cooking.stackexchange.txt | sed -e \"s/\\([.\\!?,'/()]\\)/ \\1 /g\" | tr \"[:upper:]\" \"[:lower:]\" > cooking.preprocessed.txt\n",
    "!head -12404 cooking.preprocessed.txt > cooking.train\n",
    "!tail -3000 cooking.preprocessed.txt > cooking.test"
   ]
  },
  {
   "cell_type": "code",
   "execution_count": 26,
   "id": "20253b12",
   "metadata": {},
   "outputs": [
    {
     "name": "stdout",
     "output_type": "stream",
     "text": [
      "__label__sauce __label__cheese how much does potato starch affect a cheese sauce recipe ? \r\n",
      "__label__food-safety __label__acidity dangerous pathogens capable of growing in acidic environments\r\n",
      "__label__cast-iron __label__stove how do i cover up the white spots on my cast iron stove ? \r\n",
      "__label__restaurant michelin three star restaurant; but if the chef is not there\r\n",
      "__label__knife-skills __label__dicing without knife skills ,  how can i quickly and accurately dice vegetables ? \r\n"
     ]
    }
   ],
   "source": [
    "!head cooking.train -n 5"
   ]
  },
  {
   "cell_type": "markdown",
   "id": "8e0dc745",
   "metadata": {},
   "source": [
    "## Train and evaluate again"
   ]
  },
  {
   "cell_type": "code",
   "execution_count": 27,
   "id": "71a68d8e",
   "metadata": {},
   "outputs": [
    {
     "name": "stderr",
     "output_type": "stream",
     "text": [
      "Read 0M words\n",
      "Number of words:  8952\n",
      "Number of labels: 735\n",
      "Progress: 100.0% words/sec/thread:   10109 lr:  0.000000 avg.loss: 10.265862 ETA:   0h 0m 0s 49.9% words/sec/thread:   10513 lr:  0.050106 avg.loss: 11.161880 ETA:   0h 0m 2s\n"
     ]
    }
   ],
   "source": [
    "model = fasttext.train_supervised(input='cooking.train')"
   ]
  },
  {
   "cell_type": "code",
   "execution_count": 28,
   "id": "e97f1fb8",
   "metadata": {},
   "outputs": [
    {
     "data": {
      "text/plain": [
       "(3000, 0.17633333333333334, 0.07625774830618423)"
      ]
     },
     "execution_count": 28,
     "metadata": {},
     "output_type": "execute_result"
    }
   ],
   "source": [
    "model.test('cooking.test')\n",
    "\n",
    "# Some improvement\n",
    "# N (n samples) = 3,000\n",
    "# precision@1 = 0.176\n",
    "# recall@1 = 0.076"
   ]
  },
  {
   "cell_type": "code",
   "execution_count": 29,
   "id": "4d0bc31d",
   "metadata": {},
   "outputs": [
    {
     "name": "stderr",
     "output_type": "stream",
     "text": [
      "Read 0M words\n",
      "Number of words:  8952\n",
      "Number of labels: 735\n",
      "Progress: 100.0% words/sec/thread:   14934 lr:  0.000000 avg.loss:  7.219388 ETA:   0h 0m 0s 24.2% words/sec/thread:   11072 lr:  0.075794 avg.loss:  9.759532 ETA:   0h 0m18s 74.1% words/sec/thread:   12377 lr:  0.025857 avg.loss:  7.764671 ETA:   0h 0m 5s\n"
     ]
    }
   ],
   "source": [
    "model = fasttext.train_supervised(input='cooking.train', epoch=25)"
   ]
  },
  {
   "cell_type": "code",
   "execution_count": 30,
   "id": "8b2ec3aa",
   "metadata": {},
   "outputs": [
    {
     "data": {
      "text/plain": [
       "(3000, 0.5193333333333333, 0.22459276344241028)"
      ]
     },
     "execution_count": 30,
     "metadata": {},
     "output_type": "execute_result"
    }
   ],
   "source": [
    "model.test('cooking.test')\n",
    "\n",
    "# Some improvement\n",
    "# N (n samples) = 3,000\n",
    "# precision@1 = 0.52\n",
    "# recall@1 = 0.22"
   ]
  },
  {
   "cell_type": "code",
   "execution_count": 31,
   "id": "3c73bc6c",
   "metadata": {},
   "outputs": [
    {
     "name": "stderr",
     "output_type": "stream",
     "text": [
      "Read 0M words\n",
      "Number of words:  8952\n",
      "Number of labels: 735\n",
      "Progress: 100.0% words/sec/thread:   28544 lr:  0.000000 avg.loss:  3.243346 ETA:   0h 0m 0s\n"
     ]
    }
   ],
   "source": [
    "model = fasttext.train_supervised(input='cooking.train', epoch=100)"
   ]
  },
  {
   "cell_type": "code",
   "execution_count": 32,
   "id": "af629f36",
   "metadata": {},
   "outputs": [
    {
     "data": {
      "text/plain": [
       "(3000, 0.5476666666666666, 0.23684589880351736)"
      ]
     },
     "execution_count": 32,
     "metadata": {},
     "output_type": "execute_result"
    }
   ],
   "source": [
    "model.test('cooking.test')\n",
    "\n",
    "# Some improvement\n",
    "# N (n samples) = 3,000\n",
    "# precision@1 = 0.547\n",
    "# recall@1 = 0.23"
   ]
  },
  {
   "cell_type": "code",
   "execution_count": 33,
   "id": "fd520c0b",
   "metadata": {},
   "outputs": [
    {
     "name": "stderr",
     "output_type": "stream",
     "text": [
      "Read 0M words\n",
      "Number of words:  8952\n",
      "Number of labels: 735\n",
      "Progress: 100.0% words/sec/thread:   20789 lr:  0.000000 avg.loss:  4.640056 ETA:   0h 0m 0s\n"
     ]
    }
   ],
   "source": [
    "model = fasttext.train_supervised(input='cooking.train', lr=1.0, epoch=25)"
   ]
  },
  {
   "cell_type": "code",
   "execution_count": 34,
   "id": "ae751b3b",
   "metadata": {},
   "outputs": [
    {
     "data": {
      "text/plain": [
       "(3000, 0.5806666666666667, 0.25111719763586565)"
      ]
     },
     "execution_count": 34,
     "metadata": {},
     "output_type": "execute_result"
    }
   ],
   "source": [
    "model.test('cooking.test')\n",
    "\n",
    "# Some improvement\n",
    "# N (n samples) = 3,000\n",
    "# precision@1 = 0.58\n",
    "# recall@1 = 0.25"
   ]
  },
  {
   "cell_type": "code",
   "execution_count": 35,
   "id": "353e8377",
   "metadata": {},
   "outputs": [
    {
     "name": "stderr",
     "output_type": "stream",
     "text": [
      "Read 0M words\n",
      "Number of words:  8952\n",
      "Number of labels: 735\n",
      "Progress: 100.0% words/sec/thread:   22235 lr:  0.000000 avg.loss: 10.787449 ETA:   0h 0m 0s\n"
     ]
    }
   ],
   "source": [
    "model = fasttext.train_supervised(input='cooking.train', lr=0.01, epoch=25)"
   ]
  },
  {
   "cell_type": "code",
   "execution_count": 36,
   "id": "d29124a7",
   "metadata": {},
   "outputs": [
    {
     "data": {
      "text/plain": [
       "(3000, 0.096, 0.04151650569410408)"
      ]
     },
     "execution_count": 36,
     "metadata": {},
     "output_type": "execute_result"
    }
   ],
   "source": [
    "model.test('cooking.test')\n",
    "\n",
    "# Some improvement\n",
    "# N (n samples) = 3,000\n",
    "# precision@1 = 0.096\n",
    "# recall@1 = 0.042"
   ]
  },
  {
   "cell_type": "code",
   "execution_count": 37,
   "id": "adf5e20b",
   "metadata": {},
   "outputs": [
    {
     "name": "stderr",
     "output_type": "stream",
     "text": [
      "Read 0M words\n",
      "Number of words:  8952\n",
      "Number of labels: 735\n",
      "Progress: 100.0% words/sec/thread:   27886 lr:  0.000000 avg.loss:  3.221201 ETA:   0h 0m 0s\n"
     ]
    }
   ],
   "source": [
    "model = fasttext.train_supervised(input='cooking.train', lr=1.0, wordNgrams=2, epoch=25)"
   ]
  },
  {
   "cell_type": "code",
   "execution_count": 38,
   "id": "ad5374bf",
   "metadata": {},
   "outputs": [
    {
     "data": {
      "text/plain": [
       "(3000, 0.607, 0.26250540579501225)"
      ]
     },
     "execution_count": 38,
     "metadata": {},
     "output_type": "execute_result"
    }
   ],
   "source": [
    "model.test('cooking.test')\n",
    "\n",
    "# Some improvement\n",
    "# N (n samples) = 3,000\n",
    "# precision@1 = 0.607\n",
    "# recall@1 = 0.263"
   ]
  },
  {
   "cell_type": "markdown",
   "id": "7b8ae535",
   "metadata": {},
   "source": [
    "## Synonyms via word representations"
   ]
  },
  {
   "cell_type": "code",
   "execution_count": 11,
   "id": "58e98e3f",
   "metadata": {},
   "outputs": [
    {
     "name": "stderr",
     "output_type": "stream",
     "text": [
      "Read 0M words\n",
      "Number of words:  3066\n",
      "Number of labels: 0\n",
      "Progress: 100.0% words/sec/thread:   61376 lr:  0.000000 avg.loss:  2.428927 ETA:   0h 0m 0s 14.2% words/sec/thread:   66956 lr:  0.042894 avg.loss:  2.910815 ETA:   0h 0m 3s\n"
     ]
    }
   ],
   "source": [
    "model = fasttext.train_unsupervised(input='/workspace/search_with_machine_learning_course/data/wiki_sample.txt',\n",
    "                                    model='skipgram', maxn=0, minCount=20)"
   ]
  },
  {
   "cell_type": "code",
   "execution_count": 12,
   "id": "a2fcd913",
   "metadata": {},
   "outputs": [
    {
     "data": {
      "text/plain": [
       "[(0.7584359049797058, 'crown'),\n",
       " (0.7537130117416382, 'presidential'),\n",
       " (0.7474841475486755, 'finance'),\n",
       " (0.7364110350608826, 'foundation'),\n",
       " (0.7332940101623535, 'commerce'),\n",
       " (0.7316431999206543, 'cabinet'),\n",
       " (0.7286686897277832, 'agency'),\n",
       " (0.7266026735305786, 'office'),\n",
       " (0.7207195162773132, 'foreign'),\n",
       " (0.713577926158905, 'politicians')]"
      ]
     },
     "execution_count": 12,
     "metadata": {},
     "output_type": "execute_result"
    }
   ],
   "source": [
    "model.get_nearest_neighbors('politics')"
   ]
  },
  {
   "cell_type": "code",
   "execution_count": 13,
   "id": "2349e613",
   "metadata": {},
   "outputs": [
    {
     "data": {
      "text/plain": [
       "[(0.9231120944023132, 'applications'),\n",
       " (0.914638340473175, 'computers'),\n",
       " (0.9082654118537903, 'implementation'),\n",
       " (0.9012420177459717, 'input'),\n",
       " (0.8922620415687561, 'component'),\n",
       " (0.8842714428901672, 'visual'),\n",
       " (0.8797218799591064, 'microsoft'),\n",
       " (0.8760251402854919, 'tools'),\n",
       " (0.8733764886856079, 'devices'),\n",
       " (0.8730340003967285, 'file')]"
      ]
     },
     "execution_count": 13,
     "metadata": {},
     "output_type": "execute_result"
    }
   ],
   "source": [
    "model.get_nearest_neighbors('linux')"
   ]
  },
  {
   "cell_type": "code",
   "execution_count": null,
   "id": "3c0fa33a",
   "metadata": {},
   "outputs": [],
   "source": []
  }
 ],
 "metadata": {
  "kernelspec": {
   "display_name": "Python 3 (ipykernel)",
   "language": "python",
   "name": "python3"
  },
  "language_info": {
   "codemirror_mode": {
    "name": "ipython",
    "version": 3
   },
   "file_extension": ".py",
   "mimetype": "text/x-python",
   "name": "python",
   "nbconvert_exporter": "python",
   "pygments_lexer": "ipython3",
   "version": "3.9.7"
  }
 },
 "nbformat": 4,
 "nbformat_minor": 5
}
