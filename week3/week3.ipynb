{
 "cells": [
  {
   "cell_type": "code",
   "execution_count": 369,
   "id": "31ec84a7",
   "metadata": {},
   "outputs": [],
   "source": [
    "import os\n",
    "import argparse\n",
    "import xml.etree.ElementTree as ET\n",
    "import pandas as pd\n",
    "import numpy as np\n",
    "import csv\n",
    "import fasttext\n",
    "\n",
    "from logger import logger"
   ]
  },
  {
   "cell_type": "code",
   "execution_count": 9,
   "id": "731ad6ac",
   "metadata": {},
   "outputs": [],
   "source": [
    "# Useful if you want to perform stemming.\n",
    "import nltk\n",
    "stemmer = nltk.stem.PorterStemmer()\n",
    "\n",
    "categories_file_name = r'/workspace/datasets/product_data/categories/categories_0001_abcat0010000_to_pcmcat99300050000.xml'\n",
    "queries_file_name = r'/workspace/datasets/train.csv'\n",
    "output_file_name = r'/workspace/datasets/fasttext/labeled_queries.txt'"
   ]
  },
  {
   "cell_type": "markdown",
   "id": "21979584",
   "metadata": {},
   "source": [
    "## Level 1, Task 1: Prune the category taxonomy"
   ]
  },
  {
   "cell_type": "code",
   "execution_count": 1,
   "id": "095702c0",
   "metadata": {},
   "outputs": [],
   "source": [
    "!python create_labeled_queries.py"
   ]
  },
  {
   "cell_type": "code",
   "execution_count": 4,
   "id": "1e1233cd",
   "metadata": {},
   "outputs": [
    {
     "name": "stdout",
     "output_type": "stream",
     "text": [
      " 1854998  5396970 67889572 /workspace/datasets/fasttext/labeled_queries.txt\r\n"
     ]
    }
   ],
   "source": [
    "# Number of words\n",
    "!wc /workspace/datasets/fasttext/labeled_queries.txt"
   ]
  },
  {
   "cell_type": "code",
   "execution_count": 5,
   "id": "713b38c9",
   "metadata": {},
   "outputs": [
    {
     "name": "stdout",
     "output_type": "stream",
     "text": [
      "   1486    1486   37488\r\n"
     ]
    }
   ],
   "source": [
    "# Number of distinct labels\n",
    "!cut -d' ' -f1 /workspace/datasets/fasttext/labeled_queries.txt | sort | uniq | wc"
   ]
  },
  {
   "cell_type": "markdown",
   "id": "4641d68c",
   "metadata": {},
   "source": [
    "### Read queries"
   ]
  },
  {
   "cell_type": "code",
   "execution_count": 328,
   "id": "7d627ba8",
   "metadata": {},
   "outputs": [],
   "source": [
    "# The root category, named Best Buy with id cat00000, doesn't have a parent.\n",
    "root_category_id = 'cat00000'\n",
    "\n",
    "tree = ET.parse(categories_file_name)\n",
    "root = tree.getroot()\n",
    "\n",
    "# Parse the category XML file to map each category id to its parent category id in a dataframe.\n",
    "categories = []\n",
    "parents = []\n",
    "for child in root:\n",
    "    id = child.find('id').text\n",
    "    cat_path = child.find('path')\n",
    "    cat_path_ids = [cat.find('id').text for cat in cat_path]\n",
    "    leaf_id = cat_path_ids[-1]\n",
    "    if leaf_id != root_category_id:\n",
    "        categories.append(leaf_id)\n",
    "        parents.append(cat_path_ids[-2])\n",
    "parents_df = pd.DataFrame(list(zip(categories, parents)), columns =['category', 'parent'])\n",
    "\n",
    "# Read the training data into pandas, only keeping queries with non-root categories in our category tree.\n",
    "queries_df = pd.read_csv(queries_file_name)[['category', 'query']]\n",
    "queries_df = queries_df[queries_df['category'].isin(categories)]"
   ]
  },
  {
   "cell_type": "code",
   "execution_count": 329,
   "id": "6b053692",
   "metadata": {},
   "outputs": [
    {
     "data": {
      "text/html": [
       "<div>\n",
       "<style scoped>\n",
       "    .dataframe tbody tr th:only-of-type {\n",
       "        vertical-align: middle;\n",
       "    }\n",
       "\n",
       "    .dataframe tbody tr th {\n",
       "        vertical-align: top;\n",
       "    }\n",
       "\n",
       "    .dataframe thead th {\n",
       "        text-align: right;\n",
       "    }\n",
       "</style>\n",
       "<table border=\"1\" class=\"dataframe\">\n",
       "  <thead>\n",
       "    <tr style=\"text-align: right;\">\n",
       "      <th></th>\n",
       "      <th>category</th>\n",
       "      <th>query</th>\n",
       "    </tr>\n",
       "  </thead>\n",
       "  <tbody>\n",
       "    <tr>\n",
       "      <th>1855395</th>\n",
       "      <td>pcmcat144700050004</td>\n",
       "      <td>Beats By Dr. Dre- Monster Pro Over-the-Ear Hea...</td>\n",
       "    </tr>\n",
       "  </tbody>\n",
       "</table>\n",
       "</div>"
      ],
      "text/plain": [
       "                   category                                              query\n",
       "1855395  pcmcat144700050004  Beats By Dr. Dre- Monster Pro Over-the-Ear Hea..."
      ]
     },
     "execution_count": 329,
     "metadata": {},
     "output_type": "execute_result"
    }
   ],
   "source": [
    "queries_df[queries_df['query'] == 'Beats By Dr. Dre- Monster Pro Over-the-Ear Headphones -']"
   ]
  },
  {
   "cell_type": "code",
   "execution_count": 330,
   "id": "0fc2a55f",
   "metadata": {},
   "outputs": [
    {
     "data": {
      "text/plain": [
       "'Beats By Dr. Dre- Monster Pro Over-the-Ear Headphones -'"
      ]
     },
     "execution_count": 330,
     "metadata": {},
     "output_type": "execute_result"
    }
   ],
   "source": [
    "queries_df['query'].loc[1855395]"
   ]
  },
  {
   "cell_type": "code",
   "execution_count": 331,
   "id": "d9767f3d",
   "metadata": {
    "scrolled": true
   },
   "outputs": [],
   "source": [
    "# Convert queries to lower case, replace non-alphanumeric chars with a space and replace consecutive spaces with a single space\n",
    "queries_df['query'] = queries_df['query'].str.lower().str.replace('[^a-z0-9]+', ' ', regex=True).str.replace(' +', ' ', regex=True)\n",
    "\n",
    "# Use the nltk stemmer to stem all query tokens\n",
    "queries_df['query'] = queries_df['query'].apply(lambda x: ' '.join([stemmer.stem(word) for word in x.split()]))"
   ]
  },
  {
   "cell_type": "code",
   "execution_count": 332,
   "id": "e102523e",
   "metadata": {},
   "outputs": [
    {
     "data": {
      "text/plain": [
       "'beat by dr dre monster pro over the ear headphon'"
      ]
     },
     "execution_count": 332,
     "metadata": {},
     "output_type": "execute_result"
    }
   ],
   "source": [
    "queries_df['query'].loc[1855395]"
   ]
  },
  {
   "cell_type": "code",
   "execution_count": 91,
   "id": "2f97bfe4",
   "metadata": {},
   "outputs": [],
   "source": [
    "min_queries = 5"
   ]
  },
  {
   "cell_type": "code",
   "execution_count": 335,
   "id": "178fcb3f",
   "metadata": {},
   "outputs": [],
   "source": [
    "query_count = queries_df.groupby('category').agg(query_count=('query', 'count')).reset_index()\n",
    "assert query_count.loc[query_count['category'] == 'abcat0701001', 'query_count'].sum() == 13830"
   ]
  },
  {
   "cell_type": "code",
   "execution_count": 340,
   "id": "3ed7a750",
   "metadata": {},
   "outputs": [],
   "source": [
    "min_queries = 10\n",
    "\n",
    "while True:\n",
    "    # Count the number of rows per query\n",
    "    query_count = queries_df.groupby('category').agg(query_count=('query', 'count')).reset_index()\n",
    "    \n",
    "    # Merge in query counts and parent category. Substitute parent category with root category id if missing\n",
    "    queries_df = queries_df.merge(query_count, on='category', how='left').merge(parents_df, on='category', how='left')\n",
    "    queries_df.loc[queries_df['parent'].isnull(), 'parent'] = root_category_id\n",
    "    \n",
    "    # If category count less than min_queries, update category with parent\n",
    "    queries_df.loc[queries_df['query_count'] < min_queries, 'category'] = queries_df['parent']\n",
    "    \n",
    "    # Keep only necessary queries\n",
    "    queries_df = queries_df[['category', 'query']]\n",
    "    \n",
    "    # If no query counts are below min queries, end loop\n",
    "    if (query_count['query_count'] < min_queries).sum() == 0:\n",
    "        break"
   ]
  },
  {
   "cell_type": "markdown",
   "id": "71d7afea",
   "metadata": {},
   "source": [
    "### Create labeled queries again with new code"
   ]
  },
  {
   "cell_type": "code",
   "execution_count": 401,
   "id": "df1c53b8",
   "metadata": {},
   "outputs": [
    {
     "name": "stdout",
     "output_type": "stream",
     "text": [
      "2023-03-18 19:54:04,402 - Number of queries: 1,854,998\n",
      "2023-03-18 19:55:22,289 - Queries normalized\n",
      "2023-03-18 19:55:29,619 - Categories rolled up\n"
     ]
    }
   ],
   "source": [
    "!python create_labeled_queries.py --min_queries 1000"
   ]
  },
  {
   "cell_type": "code",
   "execution_count": 402,
   "id": "e5f0c8cf",
   "metadata": {},
   "outputs": [
    {
     "name": "stdout",
     "output_type": "stream",
     "text": [
      " 1850373  5497256 66082328 /workspace/datasets/fasttext/labeled_queries.txt\r\n"
     ]
    }
   ],
   "source": [
    "# Number of words\n",
    "!wc /workspace/datasets/fasttext/labeled_queries.txt"
   ]
  },
  {
   "cell_type": "code",
   "execution_count": 403,
   "id": "114f6429",
   "metadata": {},
   "outputs": [
    {
     "name": "stdout",
     "output_type": "stream",
     "text": [
      "    387     387    9422\r\n"
     ]
    }
   ],
   "source": [
    "# Number of distinct labels (387)\n",
    "!cut -d' ' -f1 /workspace/datasets/fasttext/labeled_queries.txt | sort | uniq | wc"
   ]
  },
  {
   "cell_type": "markdown",
   "id": "a4a58570",
   "metadata": {},
   "source": [
    "## Level 1, Task 2: Train a query classifier"
   ]
  },
  {
   "cell_type": "code",
   "execution_count": 404,
   "id": "a5691246",
   "metadata": {},
   "outputs": [
    {
     "name": "stdout",
     "output_type": "stream",
     "text": [
      "__label__abcat0101001 television panason 50 pulgada\r\n",
      "__label__abcat0101001 sharp\r\n",
      "__label__pcmcat193100050014 nook\r\n",
      "__label__abcat0101001 rca\r\n",
      "__label__abcat0101005 rca\r\n",
      "__label__pcmcat143200050016 flat screen tv\r\n",
      "__label__pcmcat247400050001 macbook\r\n",
      "__label__pcmcat171900050028 blue tooth headphon\r\n",
      "__label__abcat0107004 tv antenna\r\n",
      "__label__pcmcat186100050006 memori card\r\n"
     ]
    }
   ],
   "source": [
    "!head /workspace/datasets/fasttext/labeled_queries.txt"
   ]
  },
  {
   "cell_type": "code",
   "execution_count": 387,
   "id": "3b85fd8f",
   "metadata": {},
   "outputs": [],
   "source": [
    "# Shuffle data (works fine in terminal)\n",
    "# !shuf /workspace/datasets/fasttext/labeled_queries.txt --random-source=<(seq 1999999) > /workspace/datasets/fasttext/shuffled_queries.txt"
   ]
  },
  {
   "cell_type": "code",
   "execution_count": 405,
   "id": "36d7b77e",
   "metadata": {},
   "outputs": [
    {
     "name": "stdout",
     "output_type": "stream",
     "text": [
      "__label__cat02724 battlestar galactica\r\n",
      "__label__abcat0715001 xbox 360 power cord\r\n",
      "__label__pcmcat223000050008 pioneer\r\n",
      "__label__cat09000 kodak\r\n",
      "__label__pcmcat144700050004 skull candi earbud\r\n",
      "__label__pcmcat218000050001 ipad 2 keyboard portfolio\r\n",
      "__label__abcat0106004 sanu\r\n",
      "__label__abcat0107004 antenna\r\n",
      "__label__abcat0503002 digit frame\r\n",
      "__label__abcat0911006 electrolux vacuum\r\n"
     ]
    }
   ],
   "source": [
    "!head /workspace/datasets/fasttext/shuffled_queries.txt"
   ]
  },
  {
   "cell_type": "code",
   "execution_count": 406,
   "id": "86991bde",
   "metadata": {},
   "outputs": [],
   "source": [
    "# Create training and testing splits\n",
    "!head -50000 /workspace/datasets/fasttext/shuffled_queries.txt > /workspace/datasets/fasttext/queries_train.txt\n",
    "!tail -10000 /workspace/datasets/fasttext/shuffled_queries.txt > /workspace/datasets/fasttext/queries_test.txt"
   ]
  },
  {
   "cell_type": "code",
   "execution_count": 407,
   "id": "d38e9e9d",
   "metadata": {},
   "outputs": [
    {
     "name": "stdout",
     "output_type": "stream",
     "text": [
      "__label__cat02724 battlestar galactica\r\n",
      "__label__abcat0715001 xbox 360 power cord\r\n",
      "__label__pcmcat223000050008 pioneer\r\n",
      "__label__cat09000 kodak\r\n",
      "__label__pcmcat144700050004 skull candi earbud\r\n"
     ]
    }
   ],
   "source": [
    "!head -5 /workspace/datasets/fasttext/queries_train.txt"
   ]
  },
  {
   "cell_type": "code",
   "execution_count": 408,
   "id": "d9bb1ea4",
   "metadata": {},
   "outputs": [
    {
     "name": "stderr",
     "output_type": "stream",
     "text": [
      "Read 0M words\n",
      "Number of words:  7542\n",
      "Number of labels: 387\n",
      "Progress: 100.0% words/sec/thread:    7417 lr:  0.000000 avg.loss:  4.112877 ETA:   0h 0m 0s avg.loss:  4.112877 ETA:   0h 0m 0s\n"
     ]
    }
   ],
   "source": [
    "query_classifier = fasttext.train_supervised(input='/workspace/datasets/fasttext/queries_train.txt')"
   ]
  },
  {
   "cell_type": "code",
   "execution_count": 409,
   "id": "9188a2d1",
   "metadata": {},
   "outputs": [
    {
     "name": "stderr",
     "output_type": "stream",
     "text": [
      "2023-03-18 19:56:02,131 - Evaluation on 10,000 samples - precision@1: 0.4797, recall@1: 0.4797\n",
      "2023-03-18 19:56:02,426 - Evaluation on 10,000 samples - precision@3: 0.2155, recall@3: 0.6466\n",
      "2023-03-18 19:56:02,725 - Evaluation on 10,000 samples - precision@5: 0.1416, recall@5: 0.7080\n"
     ]
    }
   ],
   "source": [
    "for k in [1, 3, 5]:\n",
    "    n, prec, rec = query_classifier.test(path='/workspace/datasets/fasttext/queries_test.txt', k=k)\n",
    "    logger.info(f'Evaluation on {n:,} samples - precision@{k}: {prec:.4f}, recall@{k}: {rec:.4f}')"
   ]
  },
  {
   "cell_type": "code",
   "execution_count": 410,
   "id": "bf366ca3",
   "metadata": {},
   "outputs": [
    {
     "name": "stderr",
     "output_type": "stream",
     "text": [
      "Read 0M words\n",
      "Number of words:  7542\n",
      "Number of labels: 387\n",
      "Progress: 100.0% words/sec/thread:   17506 lr:  0.000000 avg.loss:  2.249974 ETA:   0h 0m 0s% words/sec/thread:   17620 lr:  0.130218 avg.loss:  2.611910 ETA:   0h 0m 4s\n"
     ]
    }
   ],
   "source": [
    "query_classifier = fasttext.train_supervised(input='/workspace/datasets/fasttext/queries_train.txt', \n",
    "                                             lr=0.5, wordNgrams=2, epoch=25)"
   ]
  },
  {
   "cell_type": "code",
   "execution_count": 411,
   "id": "9286d284",
   "metadata": {},
   "outputs": [
    {
     "name": "stderr",
     "output_type": "stream",
     "text": [
      "2023-03-18 19:56:22,490 - Evaluation on 10,000 samples - precision@1: 0.5253, recall@1: 0.5253\n",
      "2023-03-18 19:56:22,782 - Evaluation on 10,000 samples - precision@3: 0.2382, recall@3: 0.7146\n",
      "2023-03-18 19:56:23,079 - Evaluation on 10,000 samples - precision@5: 0.1559, recall@5: 0.7794\n"
     ]
    }
   ],
   "source": [
    "for k in [1, 3, 5]:\n",
    "    n, prec, rec = query_classifier.test(path='/workspace/datasets/fasttext/queries_test.txt', k=k)\n",
    "    logger.info(f'Evaluation on {n:,} samples - precision@{k}: {prec:.4f}, recall@{k}: {rec:.4f}')"
   ]
  },
  {
   "cell_type": "markdown",
   "id": "fa5766bd",
   "metadata": {},
   "source": [
    "### Create labeled queries again with 10k min queries"
   ]
  },
  {
   "cell_type": "code",
   "execution_count": 395,
   "id": "30087309",
   "metadata": {},
   "outputs": [
    {
     "name": "stdout",
     "output_type": "stream",
     "text": [
      "2023-03-18 19:50:59,359 - Number of queries: 1,854,998\n",
      "2023-03-18 19:52:17,020 - Queries normalized\n",
      "2023-03-18 19:52:24,417 - Categories rolled up\n"
     ]
    }
   ],
   "source": [
    "!python create_labeled_queries.py --min_queries 10000"
   ]
  },
  {
   "cell_type": "code",
   "execution_count": 396,
   "id": "50c9ed69",
   "metadata": {},
   "outputs": [
    {
     "name": "stdout",
     "output_type": "stream",
     "text": [
      " 1781690  5298199 61947635 /workspace/datasets/fasttext/labeled_queries.txt\r\n"
     ]
    }
   ],
   "source": [
    "# Number of words\n",
    "!wc /workspace/datasets/fasttext/labeled_queries.txt"
   ]
  },
  {
   "cell_type": "code",
   "execution_count": 397,
   "id": "5b11a00a",
   "metadata": {},
   "outputs": [
    {
     "name": "stdout",
     "output_type": "stream",
     "text": [
      "     69      69    1614\r\n"
     ]
    }
   ],
   "source": [
    "# Number of distinct labels (387)\n",
    "!cut -d' ' -f1 /workspace/datasets/fasttext/labeled_queries.txt | sort | uniq | wc"
   ]
  },
  {
   "cell_type": "code",
   "execution_count": null,
   "id": "5a262d72",
   "metadata": {},
   "outputs": [],
   "source": [
    "# !shuf /workspace/datasets/fasttext/labeled_queries.txt --random-source=<(seq 1999999) > /workspace/datasets/fasttext/shuffled_queries.txt"
   ]
  },
  {
   "cell_type": "code",
   "execution_count": 398,
   "id": "8e88a36c",
   "metadata": {},
   "outputs": [],
   "source": [
    "# Create training and testing splits\n",
    "!head -50000 /workspace/datasets/fasttext/shuffled_queries.txt > /workspace/datasets/fasttext/queries_train.txt\n",
    "!tail -10000 /workspace/datasets/fasttext/shuffled_queries.txt > /workspace/datasets/fasttext/queries_test.txt"
   ]
  },
  {
   "cell_type": "code",
   "execution_count": 399,
   "id": "2cae9eea",
   "metadata": {},
   "outputs": [
    {
     "name": "stderr",
     "output_type": "stream",
     "text": [
      "Read 0M words\n",
      "Number of words:  7497\n",
      "Number of labels: 69\n",
      "Progress: 100.0% words/sec/thread:   62552 lr:  0.000000 avg.loss:  1.616237 ETA:   0h 0m 0s\n"
     ]
    }
   ],
   "source": [
    "query_classifier = fasttext.train_supervised(input='/workspace/datasets/fasttext/queries_train.txt', \n",
    "                                             lr=0.5, wordNgrams=2, epoch=25)"
   ]
  },
  {
   "cell_type": "code",
   "execution_count": 400,
   "id": "bc163db9",
   "metadata": {},
   "outputs": [
    {
     "name": "stderr",
     "output_type": "stream",
     "text": [
      "2023-03-18 19:53:49,807 - Evaluation on 10,000 samples - precision@1: 0.5893, recall@1: 0.5893\n",
      "2023-03-18 19:53:49,873 - Evaluation on 10,000 samples - precision@3: 0.2624, recall@3: 0.7873\n",
      "2023-03-18 19:53:49,941 - Evaluation on 10,000 samples - precision@5: 0.1686, recall@5: 0.8432\n"
     ]
    }
   ],
   "source": [
    "for k in [1, 3, 5]:\n",
    "    n, prec, rec = query_classifier.test(path='/workspace/datasets/fasttext/queries_test.txt', k=k)\n",
    "    logger.info(f'Evaluation on {n:,} samples - precision@{k}: {prec:.4f}, recall@{k}: {rec:.4f}')"
   ]
  },
  {
   "cell_type": "markdown",
   "id": "8d6fb4f7",
   "metadata": {},
   "source": [
    "## Level 2, Task 1: Add the query classifier to query processing"
   ]
  },
  {
   "cell_type": "code",
   "execution_count": null,
   "id": "300cab88",
   "metadata": {},
   "outputs": [],
   "source": []
  }
 ],
 "metadata": {
  "kernelspec": {
   "display_name": "Python 3 (ipykernel)",
   "language": "python",
   "name": "python3"
  },
  "language_info": {
   "codemirror_mode": {
    "name": "ipython",
    "version": 3
   },
   "file_extension": ".py",
   "mimetype": "text/x-python",
   "name": "python",
   "nbconvert_exporter": "python",
   "pygments_lexer": "ipython3",
   "version": "3.9.7"
  }
 },
 "nbformat": 4,
 "nbformat_minor": 5
}
