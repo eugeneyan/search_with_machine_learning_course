{
 "cells": [
  {
   "cell_type": "code",
   "execution_count": 1,
   "id": "dd649315",
   "metadata": {},
   "outputs": [],
   "source": [
    "%load_ext autoreload\n",
    "%autoreload 2"
   ]
  },
  {
   "cell_type": "code",
   "execution_count": 91,
   "id": "31ec84a7",
   "metadata": {},
   "outputs": [],
   "source": [
    "import os\n",
    "import argparse\n",
    "import xml.etree.ElementTree as ET\n",
    "import pandas as pd\n",
    "import numpy as np\n",
    "import csv\n",
    "import fasttext\n",
    "from opensearchpy import OpenSearch\n",
    "from getpass import getpass\n",
    "from itertools import zip_longest\n",
    "\n",
    "#from logger import logger"
   ]
  },
  {
   "cell_type": "code",
   "execution_count": 2,
   "id": "731ad6ac",
   "metadata": {},
   "outputs": [],
   "source": [
    "# Useful if you want to perform stemming.\n",
    "import nltk\n",
    "stemmer = nltk.stem.PorterStemmer()\n",
    "\n",
    "categories_file_name = r'/workspace/datasets/product_data/categories/categories_0001_abcat0010000_to_pcmcat99300050000.xml'\n",
    "queries_file_name = r'/workspace/datasets/train.csv'\n",
    "output_file_name = r'/workspace/datasets/fasttext/labeled_queries.txt'"
   ]
  },
  {
   "cell_type": "markdown",
   "id": "21979584",
   "metadata": {},
   "source": [
    "## Level 1, Task 1: Prune the category taxonomy"
   ]
  },
  {
   "cell_type": "code",
   "execution_count": 1,
   "id": "095702c0",
   "metadata": {},
   "outputs": [],
   "source": [
    "!python create_labeled_queries.py"
   ]
  },
  {
   "cell_type": "code",
   "execution_count": 4,
   "id": "1e1233cd",
   "metadata": {},
   "outputs": [
    {
     "name": "stdout",
     "output_type": "stream",
     "text": [
      " 1854998  5396970 67889572 /workspace/datasets/fasttext/labeled_queries.txt\r\n"
     ]
    }
   ],
   "source": [
    "# Number of words\n",
    "!wc /workspace/datasets/fasttext/labeled_queries.txt"
   ]
  },
  {
   "cell_type": "code",
   "execution_count": 5,
   "id": "713b38c9",
   "metadata": {},
   "outputs": [
    {
     "name": "stdout",
     "output_type": "stream",
     "text": [
      "   1486    1486   37488\r\n"
     ]
    }
   ],
   "source": [
    "# Number of distinct labels\n",
    "!cut -d' ' -f1 /workspace/datasets/fasttext/labeled_queries.txt | sort | uniq | wc"
   ]
  },
  {
   "cell_type": "markdown",
   "id": "4641d68c",
   "metadata": {},
   "source": [
    "### Read queries"
   ]
  },
  {
   "cell_type": "code",
   "execution_count": 328,
   "id": "7d627ba8",
   "metadata": {},
   "outputs": [],
   "source": [
    "# The root category, named Best Buy with id cat00000, doesn't have a parent.\n",
    "root_category_id = 'cat00000'\n",
    "\n",
    "tree = ET.parse(categories_file_name)\n",
    "root = tree.getroot()\n",
    "\n",
    "# Parse the category XML file to map each category id to its parent category id in a dataframe.\n",
    "categories = []\n",
    "parents = []\n",
    "for child in root:\n",
    "    id = child.find('id').text\n",
    "    cat_path = child.find('path')\n",
    "    cat_path_ids = [cat.find('id').text for cat in cat_path]\n",
    "    leaf_id = cat_path_ids[-1]\n",
    "    if leaf_id != root_category_id:\n",
    "        categories.append(leaf_id)\n",
    "        parents.append(cat_path_ids[-2])\n",
    "parents_df = pd.DataFrame(list(zip(categories, parents)), columns =['category', 'parent'])\n",
    "\n",
    "# Read the training data into pandas, only keeping queries with non-root categories in our category tree.\n",
    "queries_df = pd.read_csv(queries_file_name)[['category', 'query']]\n",
    "queries_df = queries_df[queries_df['category'].isin(categories)]"
   ]
  },
  {
   "cell_type": "code",
   "execution_count": 329,
   "id": "6b053692",
   "metadata": {},
   "outputs": [
    {
     "data": {
      "text/html": [
       "<div>\n",
       "<style scoped>\n",
       "    .dataframe tbody tr th:only-of-type {\n",
       "        vertical-align: middle;\n",
       "    }\n",
       "\n",
       "    .dataframe tbody tr th {\n",
       "        vertical-align: top;\n",
       "    }\n",
       "\n",
       "    .dataframe thead th {\n",
       "        text-align: right;\n",
       "    }\n",
       "</style>\n",
       "<table border=\"1\" class=\"dataframe\">\n",
       "  <thead>\n",
       "    <tr style=\"text-align: right;\">\n",
       "      <th></th>\n",
       "      <th>category</th>\n",
       "      <th>query</th>\n",
       "    </tr>\n",
       "  </thead>\n",
       "  <tbody>\n",
       "    <tr>\n",
       "      <th>1855395</th>\n",
       "      <td>pcmcat144700050004</td>\n",
       "      <td>Beats By Dr. Dre- Monster Pro Over-the-Ear Hea...</td>\n",
       "    </tr>\n",
       "  </tbody>\n",
       "</table>\n",
       "</div>"
      ],
      "text/plain": [
       "                   category                                              query\n",
       "1855395  pcmcat144700050004  Beats By Dr. Dre- Monster Pro Over-the-Ear Hea..."
      ]
     },
     "execution_count": 329,
     "metadata": {},
     "output_type": "execute_result"
    }
   ],
   "source": [
    "queries_df[queries_df['query'] == 'Beats By Dr. Dre- Monster Pro Over-the-Ear Headphones -']"
   ]
  },
  {
   "cell_type": "code",
   "execution_count": 330,
   "id": "0fc2a55f",
   "metadata": {},
   "outputs": [
    {
     "data": {
      "text/plain": [
       "'Beats By Dr. Dre- Monster Pro Over-the-Ear Headphones -'"
      ]
     },
     "execution_count": 330,
     "metadata": {},
     "output_type": "execute_result"
    }
   ],
   "source": [
    "queries_df['query'].loc[1855395]"
   ]
  },
  {
   "cell_type": "code",
   "execution_count": 331,
   "id": "d9767f3d",
   "metadata": {
    "scrolled": true
   },
   "outputs": [],
   "source": [
    "# Convert queries to lower case, replace non-alphanumeric chars with a space and replace consecutive spaces with a single space\n",
    "queries_df['query'] = queries_df['query'].str.lower().str.replace('[^a-z0-9]+', ' ', regex=True).str.replace(' +', ' ', regex=True)\n",
    "\n",
    "# Use the nltk stemmer to stem all query tokens\n",
    "queries_df['query'] = queries_df['query'].apply(lambda x: ' '.join([stemmer.stem(word) for word in x.split()]))"
   ]
  },
  {
   "cell_type": "code",
   "execution_count": 332,
   "id": "e102523e",
   "metadata": {},
   "outputs": [
    {
     "data": {
      "text/plain": [
       "'beat by dr dre monster pro over the ear headphon'"
      ]
     },
     "execution_count": 332,
     "metadata": {},
     "output_type": "execute_result"
    }
   ],
   "source": [
    "queries_df['query'].loc[1855395]"
   ]
  },
  {
   "cell_type": "code",
   "execution_count": 91,
   "id": "2f97bfe4",
   "metadata": {},
   "outputs": [],
   "source": [
    "min_queries = 5"
   ]
  },
  {
   "cell_type": "code",
   "execution_count": 335,
   "id": "178fcb3f",
   "metadata": {},
   "outputs": [],
   "source": [
    "query_count = queries_df.groupby('category').agg(query_count=('query', 'count')).reset_index()\n",
    "assert query_count.loc[query_count['category'] == 'abcat0701001', 'query_count'].sum() == 13830"
   ]
  },
  {
   "cell_type": "code",
   "execution_count": 340,
   "id": "3ed7a750",
   "metadata": {},
   "outputs": [],
   "source": [
    "min_queries = 10\n",
    "\n",
    "while True:\n",
    "    # Count the number of rows per query\n",
    "    query_count = queries_df.groupby('category').agg(query_count=('query', 'count')).reset_index()\n",
    "    \n",
    "    # Merge in query counts and parent category. Substitute parent category with root category id if missing\n",
    "    queries_df = queries_df.merge(query_count, on='category', how='left').merge(parents_df, on='category', how='left')\n",
    "    queries_df.loc[queries_df['parent'].isnull(), 'parent'] = root_category_id\n",
    "    \n",
    "    # If category count less than min_queries, update category with parent\n",
    "    queries_df.loc[queries_df['query_count'] < min_queries, 'category'] = queries_df['parent']\n",
    "    \n",
    "    # Keep only necessary queries\n",
    "    queries_df = queries_df[['category', 'query']]\n",
    "    \n",
    "    # If no query counts are below min queries, end loop\n",
    "    if (query_count['query_count'] < min_queries).sum() == 0:\n",
    "        break"
   ]
  },
  {
   "cell_type": "markdown",
   "id": "71d7afea",
   "metadata": {},
   "source": [
    "### Create labeled queries again with new code"
   ]
  },
  {
   "cell_type": "code",
   "execution_count": 401,
   "id": "df1c53b8",
   "metadata": {},
   "outputs": [
    {
     "name": "stdout",
     "output_type": "stream",
     "text": [
      "2023-03-18 19:54:04,402 - Number of queries: 1,854,998\n",
      "2023-03-18 19:55:22,289 - Queries normalized\n",
      "2023-03-18 19:55:29,619 - Categories rolled up\n"
     ]
    }
   ],
   "source": [
    "!python create_labeled_queries.py --min_queries 1000"
   ]
  },
  {
   "cell_type": "code",
   "execution_count": 402,
   "id": "e5f0c8cf",
   "metadata": {},
   "outputs": [
    {
     "name": "stdout",
     "output_type": "stream",
     "text": [
      " 1850373  5497256 66082328 /workspace/datasets/fasttext/labeled_queries.txt\r\n"
     ]
    }
   ],
   "source": [
    "# Number of words\n",
    "!wc /workspace/datasets/fasttext/labeled_queries.txt"
   ]
  },
  {
   "cell_type": "code",
   "execution_count": 403,
   "id": "114f6429",
   "metadata": {},
   "outputs": [
    {
     "name": "stdout",
     "output_type": "stream",
     "text": [
      "    387     387    9422\r\n"
     ]
    }
   ],
   "source": [
    "# Number of distinct labels (387)\n",
    "!cut -d' ' -f1 /workspace/datasets/fasttext/labeled_queries.txt | sort | uniq | wc"
   ]
  },
  {
   "cell_type": "markdown",
   "id": "a4a58570",
   "metadata": {},
   "source": [
    "## Level 1, Task 2: Train a query classifier"
   ]
  },
  {
   "cell_type": "code",
   "execution_count": 404,
   "id": "a5691246",
   "metadata": {},
   "outputs": [
    {
     "name": "stdout",
     "output_type": "stream",
     "text": [
      "__label__abcat0101001 television panason 50 pulgada\r\n",
      "__label__abcat0101001 sharp\r\n",
      "__label__pcmcat193100050014 nook\r\n",
      "__label__abcat0101001 rca\r\n",
      "__label__abcat0101005 rca\r\n",
      "__label__pcmcat143200050016 flat screen tv\r\n",
      "__label__pcmcat247400050001 macbook\r\n",
      "__label__pcmcat171900050028 blue tooth headphon\r\n",
      "__label__abcat0107004 tv antenna\r\n",
      "__label__pcmcat186100050006 memori card\r\n"
     ]
    }
   ],
   "source": [
    "!head /workspace/datasets/fasttext/labeled_queries.txt"
   ]
  },
  {
   "cell_type": "code",
   "execution_count": 387,
   "id": "3b85fd8f",
   "metadata": {},
   "outputs": [],
   "source": [
    "# Shuffle data (works fine in terminal)\n",
    "# !shuf /workspace/datasets/fasttext/labeled_queries.txt --random-source=<(seq 1999999) > /workspace/datasets/fasttext/shuffled_queries.txt"
   ]
  },
  {
   "cell_type": "code",
   "execution_count": 405,
   "id": "36d7b77e",
   "metadata": {},
   "outputs": [
    {
     "name": "stdout",
     "output_type": "stream",
     "text": [
      "__label__cat02724 battlestar galactica\r\n",
      "__label__abcat0715001 xbox 360 power cord\r\n",
      "__label__pcmcat223000050008 pioneer\r\n",
      "__label__cat09000 kodak\r\n",
      "__label__pcmcat144700050004 skull candi earbud\r\n",
      "__label__pcmcat218000050001 ipad 2 keyboard portfolio\r\n",
      "__label__abcat0106004 sanu\r\n",
      "__label__abcat0107004 antenna\r\n",
      "__label__abcat0503002 digit frame\r\n",
      "__label__abcat0911006 electrolux vacuum\r\n"
     ]
    }
   ],
   "source": [
    "!head /workspace/datasets/fasttext/shuffled_queries.txt"
   ]
  },
  {
   "cell_type": "code",
   "execution_count": 406,
   "id": "86991bde",
   "metadata": {},
   "outputs": [],
   "source": [
    "# Create training and testing splits\n",
    "!head -50000 /workspace/datasets/fasttext/shuffled_queries.txt > /workspace/datasets/fasttext/queries_train.txt\n",
    "!tail -10000 /workspace/datasets/fasttext/shuffled_queries.txt > /workspace/datasets/fasttext/queries_test.txt"
   ]
  },
  {
   "cell_type": "code",
   "execution_count": 407,
   "id": "d38e9e9d",
   "metadata": {},
   "outputs": [
    {
     "name": "stdout",
     "output_type": "stream",
     "text": [
      "__label__cat02724 battlestar galactica\r\n",
      "__label__abcat0715001 xbox 360 power cord\r\n",
      "__label__pcmcat223000050008 pioneer\r\n",
      "__label__cat09000 kodak\r\n",
      "__label__pcmcat144700050004 skull candi earbud\r\n"
     ]
    }
   ],
   "source": [
    "!head -5 /workspace/datasets/fasttext/queries_train.txt"
   ]
  },
  {
   "cell_type": "code",
   "execution_count": 3,
   "id": "d9bb1ea4",
   "metadata": {},
   "outputs": [
    {
     "name": "stderr",
     "output_type": "stream",
     "text": [
      "Read 0M words\n",
      "Number of words:  7542\n",
      "Number of labels: 387\n",
      "Progress: 100.0% words/sec/thread:    7264 lr:  0.000000 avg.loss:  4.181074 ETA:   0h 0m 0s\n"
     ]
    }
   ],
   "source": [
    "query_classifier = fasttext.train_supervised(input='/workspace/datasets/fasttext/queries_train.txt')"
   ]
  },
  {
   "cell_type": "code",
   "execution_count": 4,
   "id": "9188a2d1",
   "metadata": {},
   "outputs": [
    {
     "name": "stderr",
     "output_type": "stream",
     "text": [
      "2023-03-18 22:16:34,503 - Evaluation on 10,000 samples - precision@1: 0.4806, recall@1: 0.4806\n",
      "2023-03-18 22:16:34,807 - Evaluation on 10,000 samples - precision@3: 0.2163, recall@3: 0.6489\n",
      "2023-03-18 22:16:35,142 - Evaluation on 10,000 samples - precision@5: 0.1414, recall@5: 0.7072\n"
     ]
    }
   ],
   "source": [
    "for k in [1, 3, 5]:\n",
    "    n, prec, rec = query_classifier.test(path='/workspace/datasets/fasttext/queries_test.txt', k=k)\n",
    "    logger.info(f'Evaluation on {n:,} samples - precision@{k}: {prec:.4f}, recall@{k}: {rec:.4f}')"
   ]
  },
  {
   "cell_type": "code",
   "execution_count": 5,
   "id": "bf366ca3",
   "metadata": {},
   "outputs": [
    {
     "name": "stderr",
     "output_type": "stream",
     "text": [
      "Read 0M words\n",
      "Number of words:  7542\n",
      "Number of labels: 387\n",
      "Progress: 100.0% words/sec/thread:   16086 lr:  0.000000 avg.loss:  2.231277 ETA:   0h 0m 0s 94.4% words/sec/thread:   16127 lr:  0.028110 avg.loss:  2.301684 ETA:   0h 0m 1s\n"
     ]
    }
   ],
   "source": [
    "query_classifier = fasttext.train_supervised(input='/workspace/datasets/fasttext/queries_train.txt', \n",
    "                                             lr=0.5, wordNgrams=2, epoch=25)"
   ]
  },
  {
   "cell_type": "code",
   "execution_count": 6,
   "id": "9286d284",
   "metadata": {},
   "outputs": [
    {
     "name": "stderr",
     "output_type": "stream",
     "text": [
      "2023-03-18 22:16:56,703 - Evaluation on 10,000 samples - precision@1: 0.5274, recall@1: 0.5274\n",
      "2023-03-18 22:16:57,009 - Evaluation on 10,000 samples - precision@3: 0.2380, recall@3: 0.7139\n",
      "2023-03-18 22:16:57,326 - Evaluation on 10,000 samples - precision@5: 0.1557, recall@5: 0.7786\n"
     ]
    }
   ],
   "source": [
    "for k in [1, 3, 5]:\n",
    "    n, prec, rec = query_classifier.test(path='/workspace/datasets/fasttext/queries_test.txt', k=k)\n",
    "    logger.info(f'Evaluation on {n:,} samples - precision@{k}: {prec:.4f}, recall@{k}: {rec:.4f}')"
   ]
  },
  {
   "cell_type": "code",
   "execution_count": 8,
   "id": "bab124b8",
   "metadata": {},
   "outputs": [],
   "source": [
    "query_classifier.save_model('/workspace/models/query_classifier.bin')"
   ]
  },
  {
   "cell_type": "markdown",
   "id": "fa5766bd",
   "metadata": {},
   "source": [
    "### Create labeled queries again with 10k min queries"
   ]
  },
  {
   "cell_type": "code",
   "execution_count": 395,
   "id": "30087309",
   "metadata": {},
   "outputs": [
    {
     "name": "stdout",
     "output_type": "stream",
     "text": [
      "2023-03-18 19:50:59,359 - Number of queries: 1,854,998\n",
      "2023-03-18 19:52:17,020 - Queries normalized\n",
      "2023-03-18 19:52:24,417 - Categories rolled up\n"
     ]
    }
   ],
   "source": [
    "!python create_labeled_queries.py --min_queries 10000"
   ]
  },
  {
   "cell_type": "code",
   "execution_count": 396,
   "id": "50c9ed69",
   "metadata": {},
   "outputs": [
    {
     "name": "stdout",
     "output_type": "stream",
     "text": [
      " 1781690  5298199 61947635 /workspace/datasets/fasttext/labeled_queries.txt\r\n"
     ]
    }
   ],
   "source": [
    "# Number of words\n",
    "!wc /workspace/datasets/fasttext/labeled_queries.txt"
   ]
  },
  {
   "cell_type": "code",
   "execution_count": 397,
   "id": "5b11a00a",
   "metadata": {},
   "outputs": [
    {
     "name": "stdout",
     "output_type": "stream",
     "text": [
      "     69      69    1614\r\n"
     ]
    }
   ],
   "source": [
    "# Number of distinct labels (387)\n",
    "!cut -d' ' -f1 /workspace/datasets/fasttext/labeled_queries.txt | sort | uniq | wc"
   ]
  },
  {
   "cell_type": "code",
   "execution_count": null,
   "id": "5a262d72",
   "metadata": {},
   "outputs": [],
   "source": [
    "# !shuf /workspace/datasets/fasttext/labeled_queries.txt --random-source=<(seq 1999999) > /workspace/datasets/fasttext/shuffled_queries.txt"
   ]
  },
  {
   "cell_type": "code",
   "execution_count": 398,
   "id": "8e88a36c",
   "metadata": {},
   "outputs": [],
   "source": [
    "# Create training and testing splits\n",
    "!head -50000 /workspace/datasets/fasttext/shuffled_queries.txt > /workspace/datasets/fasttext/queries_train.txt\n",
    "!tail -10000 /workspace/datasets/fasttext/shuffled_queries.txt > /workspace/datasets/fasttext/queries_test.txt"
   ]
  },
  {
   "cell_type": "code",
   "execution_count": 399,
   "id": "2cae9eea",
   "metadata": {},
   "outputs": [
    {
     "name": "stderr",
     "output_type": "stream",
     "text": [
      "Read 0M words\n",
      "Number of words:  7497\n",
      "Number of labels: 69\n",
      "Progress: 100.0% words/sec/thread:   62552 lr:  0.000000 avg.loss:  1.616237 ETA:   0h 0m 0s\n"
     ]
    }
   ],
   "source": [
    "query_classifier = fasttext.train_supervised(input='/workspace/datasets/fasttext/queries_train.txt', \n",
    "                                             lr=0.5, wordNgrams=2, epoch=25)"
   ]
  },
  {
   "cell_type": "code",
   "execution_count": 400,
   "id": "bc163db9",
   "metadata": {},
   "outputs": [
    {
     "name": "stderr",
     "output_type": "stream",
     "text": [
      "2023-03-18 19:53:49,807 - Evaluation on 10,000 samples - precision@1: 0.5893, recall@1: 0.5893\n",
      "2023-03-18 19:53:49,873 - Evaluation on 10,000 samples - precision@3: 0.2624, recall@3: 0.7873\n",
      "2023-03-18 19:53:49,941 - Evaluation on 10,000 samples - precision@5: 0.1686, recall@5: 0.8432\n"
     ]
    }
   ],
   "source": [
    "for k in [1, 3, 5]:\n",
    "    n, prec, rec = query_classifier.test(path='/workspace/datasets/fasttext/queries_test.txt', k=k)\n",
    "    logger.info(f'Evaluation on {n:,} samples - precision@{k}: {prec:.4f}, recall@{k}: {rec:.4f}')"
   ]
  },
  {
   "cell_type": "markdown",
   "id": "8d6fb4f7",
   "metadata": {},
   "source": [
    "## Level 2, Task 1: Add the query classifier to query processing"
   ]
  },
  {
   "cell_type": "code",
   "execution_count": 41,
   "id": "90e7686a",
   "metadata": {},
   "outputs": [],
   "source": [
    "prob_threshold = 0.5"
   ]
  },
  {
   "cell_type": "code",
   "execution_count": 9,
   "id": "300cab88",
   "metadata": {},
   "outputs": [
    {
     "name": "stderr",
     "output_type": "stream",
     "text": [
      "Warning : `load_model` does not return WordVectorModel or SupervisedModel any more, but a `FastText` object which is very similar.\n"
     ]
    }
   ],
   "source": [
    "query_classifier = fasttext.load_model('/workspace/models/query_classifier.bin')"
   ]
  },
  {
   "cell_type": "code",
   "execution_count": 39,
   "id": "c057456e",
   "metadata": {},
   "outputs": [],
   "source": [
    "categories, scores = query_classifier.predict('lollipop', k=5)"
   ]
  },
  {
   "cell_type": "code",
   "execution_count": 60,
   "id": "a2466ae2",
   "metadata": {},
   "outputs": [
    {
     "name": "stderr",
     "output_type": "stream",
     "text": [
      "2023-03-18 23:38:04,272 - Category: __label__cat02015, Score: 0.3939267098903656\n",
      "2023-03-18 23:38:04,273 - Category: __label__cat02009, Score: 0.09578841924667358\n",
      "2023-03-18 23:38:04,273 - Category: __label__cat09000, Score: 0.04979415610432625\n"
     ]
    }
   ],
   "source": [
    "cum_prob = 0\n",
    "category_list = []\n",
    "\n",
    "for category, score in zip(categories, scores):\n",
    "    logger.info(f'Category: {category}, Score: {score}')\n",
    "    \n",
    "    category_list.append(category.replace('__label__', ''))\n",
    "    cum_prob += score\n",
    "    \n",
    "    if cum_prob > prob_threshold:\n",
    "        break"
   ]
  },
  {
   "cell_type": "code",
   "execution_count": 61,
   "id": "d4bc5c86",
   "metadata": {},
   "outputs": [
    {
     "data": {
      "text/plain": [
       "['cat02015', 'cat02009', 'cat09000']"
      ]
     },
     "execution_count": 61,
     "metadata": {},
     "output_type": "execute_result"
    }
   ],
   "source": [
    "category_list"
   ]
  },
  {
   "cell_type": "code",
   "execution_count": 85,
   "id": "25800f48",
   "metadata": {},
   "outputs": [
    {
     "name": "stdout",
     "output_type": "stream",
     "text": [
      "Warning : `load_model` does not return WordVectorModel or SupervisedModel any more, but a `FastText` object which is very similar.\n",
      "INFO:Querying via synonyms\n",
      "{\n",
      "  \"took\": 170,\n",
      "  \"timed_out\": false,\n",
      "  \"_shards\": {\n",
      "    \"total\": 1,\n",
      "    \"successful\": 1,\n",
      "    \"skipped\": 0,\n",
      "    \"failed\": 0\n",
      "  },\n",
      "  \"hits\": {\n",
      "    \"total\": {\n",
      "      \"value\": 10000,\n",
      "      \"relation\": \"gte\"\n",
      "    },\n",
      "    \"max_score\": 881.81964,\n",
      "    \"hits\": [\n",
      "      {\n",
      "        \"_index\": \"bbuy_products\",\n",
      "        \"_id\": \"2613542\",\n",
      "        \"_score\": 881.81964,\n",
      "        \"_source\": {\n",
      "          \"categoryPathIds\": [\n",
      "            \"cat00000\",\n",
      "            \"abcat0700000\",\n",
      "            \"abcat0701000\",\n",
      "            \"abcat0701002\"\n",
      "          ],\n",
      "          \"name\": [\n",
      "            \"Assassin's Creed: Revelations - Xbox 360\"\n",
      "          ],\n",
      "          \"shortDescription\": [\n",
      "            \"Prepare for the final chapter of this award-winning trilogy\"\n",
      "          ]\n",
      "        }\n",
      "      },\n",
      "      {\n",
      "        \"_index\": \"bbuy_products\",\n",
      "        \"_id\": \"9854804\",\n",
      "        \"_score\": 675.6224,\n",
      "        \"_source\": {\n",
      "          \"categoryPathIds\": [\n",
      "            \"cat00000\",\n",
      "            \"abcat0700000\",\n",
      "            \"abcat0701000\",\n",
      "            \"abcat0701002\"\n",
      "          ],\n",
      "          \"name\": [\n",
      "            \"Gears of War 3 - Xbox 360\"\n",
      "          ],\n",
      "          \"shortDescription\": [\n",
      "            \"Fight for the survival of the human race\"\n",
      "          ]\n",
      "        }\n",
      "      },\n",
      "      {\n",
      "        \"_index\": \"bbuy_products\",\n",
      "        \"_id\": \"2375195\",\n",
      "        \"_score\": 669.5628,\n",
      "        \"_source\": {\n",
      "          \"categoryPathIds\": [\n",
      "            \"cat00000\",\n",
      "            \"abcat0700000\",\n",
      "            \"abcat0701000\",\n",
      "            \"abcat0701002\"\n",
      "          ],\n",
      "          \"name\": [\n",
      "            \"Madden NFL 12 - Xbox 360\"\n",
      "          ],\n",
      "          \"shortDescription\": [\n",
      "            \"Live the action of Sunday every day of the week\"\n",
      "          ]\n",
      "        }\n",
      "      },\n",
      "      {\n",
      "        \"_index\": \"bbuy_products\",\n",
      "        \"_id\": \"4833708\",\n",
      "        \"_score\": 607.81335,\n",
      "        \"_source\": {\n",
      "          \"categoryPathIds\": [\n",
      "            \"cat00000\",\n",
      "            \"abcat0700000\",\n",
      "            \"abcat0701000\",\n",
      "            \"abcat0701002\"\n",
      "          ],\n",
      "          \"name\": [\n",
      "            \"NCAA Football 13 - Xbox 360\"\n",
      "          ],\n",
      "          \"shortDescription\": [\n",
      "            \"Get ready to experience Saturdays like never before\"\n",
      "          ]\n",
      "        }\n",
      "      },\n",
      "      {\n",
      "        \"_index\": \"bbuy_products\",\n",
      "        \"_id\": \"7726507\",\n",
      "        \"_score\": 602.9422,\n",
      "        \"_source\": {\n",
      "          \"categoryPathIds\": [\n",
      "            \"cat00000\",\n",
      "            \"abcat0700000\",\n",
      "            \"abcat0711000\",\n",
      "            \"abcat0711001\"\n",
      "          ],\n",
      "          \"name\": [\n",
      "            \"The Godfather: The Game (Game Guide) - Xbox, PSP, PlayStation 2, Windows, Xbox 360\"\n",
      "          ],\n",
      "          \"shortDescription\": [\n",
      "            \"I present you with this game guide on the day of your daughter's wedding\"\n",
      "          ]\n",
      "        }\n",
      "      },\n",
      "      {\n",
      "        \"_index\": \"bbuy_products\",\n",
      "        \"_id\": \"2802508\",\n",
      "        \"_score\": 590.9613,\n",
      "        \"_source\": {\n",
      "          \"categoryPathIds\": [\n",
      "            \"cat00000\",\n",
      "            \"abcat0700000\",\n",
      "            \"abcat0701000\",\n",
      "            \"abcat0701002\"\n",
      "          ],\n",
      "          \"name\": [\n",
      "            \"Just Dance 3 - Xbox 360\"\n",
      "          ],\n",
      "          \"shortDescription\": [\n",
      "            \"Show off your best moves\"\n",
      "          ]\n",
      "        }\n",
      "      },\n",
      "      {\n",
      "        \"_index\": \"bbuy_products\",\n",
      "        \"_id\": \"1162184\",\n",
      "        \"_score\": 579.1297,\n",
      "        \"_source\": {\n",
      "          \"categoryPathIds\": [\n",
      "            \"cat00000\",\n",
      "            \"abcat0700000\",\n",
      "            \"abcat0701000\",\n",
      "            \"abcat0701001\"\n",
      "          ],\n",
      "          \"name\": [\n",
      "            \"Microsoft - Xbox 360 4GB Console - Black\"\n",
      "          ],\n",
      "          \"shortDescription\": [\n",
      "            \"Expand your gaming universe 360\\u00b0\"\n",
      "          ]\n",
      "        }\n",
      "      },\n",
      "      {\n",
      "        \"_index\": \"bbuy_products\",\n",
      "        \"_id\": \"8267644\",\n",
      "        \"_score\": 572.1526,\n",
      "        \"_source\": {\n",
      "          \"categoryPathIds\": [\n",
      "            \"cat00000\",\n",
      "            \"abcat0700000\",\n",
      "            \"abcat0701000\",\n",
      "            \"abcat0715001\",\n",
      "            \"abcat0715002\"\n",
      "          ],\n",
      "          \"name\": [\n",
      "            \"Microsoft - Xbox 360 Wireless Controller - Black\"\n",
      "          ],\n",
      "          \"shortDescription\": [\n",
      "            \"Free yourself from troublesome wires\"\n",
      "          ]\n",
      "        }\n",
      "      },\n",
      "      {\n",
      "        \"_index\": \"bbuy_products\",\n",
      "        \"_id\": \"1272605\",\n",
      "        \"_score\": 561.70306,\n",
      "        \"_source\": {\n",
      "          \"categoryPathIds\": [\n",
      "            \"cat00000\",\n",
      "            \"abcat0700000\",\n",
      "            \"abcat0701000\",\n",
      "            \"abcat0701012\",\n",
      "            \"pcmcat208000050001\"\n",
      "          ],\n",
      "          \"name\": [\n",
      "            \"Microsoft - Xbox LIVE 1600 Points Card\"\n",
      "          ],\n",
      "          \"shortDescription\": [\n",
      "            \"Expand your entertainment horizons in the Xbox LIVE Marketplace\"\n",
      "          ]\n",
      "        }\n",
      "      },\n",
      "      {\n",
      "        \"_index\": \"bbuy_products\",\n",
      "        \"_id\": \"7457566\",\n",
      "        \"_score\": 486.9166,\n",
      "        \"_source\": {\n",
      "          \"categoryPathIds\": [\n",
      "            \"cat00000\",\n",
      "            \"abcat0700000\",\n",
      "            \"abcat0715000\",\n",
      "            \"pcmcat230800050019\"\n",
      "          ],\n",
      "          \"name\": [\n",
      "            \"Microsoft - Headset for Xbox 360\"\n",
      "          ],\n",
      "          \"shortDescription\": [\n",
      "            \"Communicate, collaborate and command with this sleek headset\"\n",
      "          ]\n",
      "        }\n",
      "      }\n",
      "    ]\n",
      "  }\n",
      "}\n"
     ]
    }
   ],
   "source": [
    "!python ../utilities/query.py --query xbox --synonyms"
   ]
  },
  {
   "cell_type": "code",
   "execution_count": 84,
   "id": "b73cc634",
   "metadata": {},
   "outputs": [
    {
     "name": "stderr",
     "output_type": "stream",
     "text": [
      "Warning : `load_model` does not return WordVectorModel or SupervisedModel any more, but a `FastText` object which is very similar.\n"
     ]
    },
    {
     "name": "stdout",
     "output_type": "stream",
     "text": [
      "Warning : `load_model` does not return WordVectorModel or SupervisedModel any more, but a `FastText` object which is very similar.\n",
      "INFO:Classification result: ('__label__abcat0701001',), [0.54385275]\n",
      "INFO:Category: __label__abcat0701001, Score: 0.5438527464866638\n",
      "INFO:Category list: ['abcat0701001'], Cumulative probability: 0.5438527464866638\n",
      "{\n",
      "  \"took\": 10,\n",
      "  \"timed_out\": false,\n",
      "  \"_shards\": {\n",
      "    \"total\": 1,\n",
      "    \"successful\": 1,\n",
      "    \"skipped\": 0,\n",
      "    \"failed\": 0\n",
      "  },\n",
      "  \"hits\": {\n",
      "    \"total\": {\n",
      "      \"value\": 69,\n",
      "      \"relation\": \"eq\"\n",
      "    },\n",
      "    \"max_score\": 568.3101,\n",
      "    \"hits\": [\n",
      "      {\n",
      "        \"_index\": \"bbuy_products\",\n",
      "        \"_id\": \"1162184\",\n",
      "        \"_score\": 568.3101,\n",
      "        \"_source\": {\n",
      "          \"categoryPathIds\": [\n",
      "            \"cat00000\",\n",
      "            \"abcat0700000\",\n",
      "            \"abcat0701000\",\n",
      "            \"abcat0701001\"\n",
      "          ],\n",
      "          \"name\": [\n",
      "            \"Microsoft - Xbox 360 4GB Console - Black\"\n",
      "          ],\n",
      "          \"shortDescription\": [\n",
      "            \"Expand your gaming universe 360\\u00b0\"\n",
      "          ]\n",
      "        }\n",
      "      },\n",
      "      {\n",
      "        \"_index\": \"bbuy_products\",\n",
      "        \"_id\": \"1162439\",\n",
      "        \"_score\": 406.99283,\n",
      "        \"_source\": {\n",
      "          \"categoryPathIds\": [\n",
      "            \"cat00000\",\n",
      "            \"abcat0700000\",\n",
      "            \"abcat0701000\",\n",
      "            \"abcat0701001\"\n",
      "          ],\n",
      "          \"name\": [\n",
      "            \"Microsoft - Xbox 360 4GB Console with Kinect\"\n",
      "          ],\n",
      "          \"shortDescription\": [\n",
      "            \"Drop the remote and use the ultimate controller \\u2014 you\"\n",
      "          ]\n",
      "        }\n",
      "      },\n",
      "      {\n",
      "        \"_index\": \"bbuy_products\",\n",
      "        \"_id\": \"1069212\",\n",
      "        \"_score\": 393.16846,\n",
      "        \"_source\": {\n",
      "          \"categoryPathIds\": [\n",
      "            \"cat00000\",\n",
      "            \"abcat0700000\",\n",
      "            \"abcat0701000\",\n",
      "            \"abcat0701001\"\n",
      "          ],\n",
      "          \"name\": [\n",
      "            \"Microsoft - Xbox 360 250GB Console\"\n",
      "          ],\n",
      "          \"shortDescription\": [\n",
      "            \"Enjoy next-gen gaming with a sleeker design, Wi-Fi and a 250GB hard drive\"\n",
      "          ]\n",
      "        }\n",
      "      },\n",
      "      {\n",
      "        \"_index\": \"bbuy_products\",\n",
      "        \"_id\": \"7457744\",\n",
      "        \"_score\": 215.88959,\n",
      "        \"_source\": {\n",
      "          \"categoryPathIds\": [\n",
      "            \"cat00000\",\n",
      "            \"abcat0700000\",\n",
      "            \"abcat0701000\",\n",
      "            \"abcat0701001\"\n",
      "          ],\n",
      "          \"name\": [\n",
      "            \"Microsoft - Xbox 360 Core System\"\n",
      "          ],\n",
      "          \"shortDescription\": [\n",
      "            \"Enter a new frontier of thrills and excitement\"\n",
      "          ]\n",
      "        }\n",
      "      },\n",
      "      {\n",
      "        \"_index\": \"bbuy_products\",\n",
      "        \"_id\": \"1219686\",\n",
      "        \"_score\": 186.25745,\n",
      "        \"_source\": {\n",
      "          \"categoryPathIds\": [\n",
      "            \"cat00000\",\n",
      "            \"abcat0700000\",\n",
      "            \"abcat0701000\",\n",
      "            \"abcat0701001\"\n",
      "          ],\n",
      "          \"name\": [\n",
      "            \"Microsoft - Xbox 360 250GB Kinect Bundle\"\n",
      "          ],\n",
      "          \"shortDescription\": [\n",
      "            \"Enjoy next-gen gaming with full-motion sensing, Wi-Fi and a 250GB hard drive\"\n",
      "          ]\n",
      "        }\n",
      "      },\n",
      "      {\n",
      "        \"_index\": \"bbuy_products\",\n",
      "        \"_id\": \"5616691\",\n",
      "        \"_score\": 0.5926775,\n",
      "        \"_source\": {\n",
      "          \"categoryPathIds\": [\n",
      "            \"cat00000\",\n",
      "            \"abcat0700000\",\n",
      "            \"abcat0701000\",\n",
      "            \"abcat0701001\"\n",
      "          ],\n",
      "          \"name\": [\n",
      "            \"Microsoft - Xbox 360 250GB Forza Motorsport 4 Bundle\"\n",
      "          ],\n",
      "          \"shortDescription\": [\n",
      "            \"Are you ready to go back to the track with Xbox 360 S entertainment bundle?\"\n",
      "          ]\n",
      "        }\n",
      "      },\n",
      "      {\n",
      "        \"_index\": \"bbuy_products\",\n",
      "        \"_id\": \"8192993\",\n",
      "        \"_score\": 0.039730567,\n",
      "        \"_source\": {\n",
      "          \"categoryPathIds\": [\n",
      "            \"cat00000\",\n",
      "            \"abcat0700000\",\n",
      "            \"abcat0701000\",\n",
      "            \"abcat0701001\"\n",
      "          ],\n",
      "          \"name\": [\n",
      "            \"Microsoft - Xbox 360 Pro / Madden NFL 07 Bundle\"\n",
      "          ],\n",
      "          \"shortDescription\": [\n",
      "            \"Get the Xbox 360 Pro console and the hit game Madden 07 in one incredible bundle\"\n",
      "          ]\n",
      "        }\n",
      "      },\n",
      "      {\n",
      "        \"_index\": \"bbuy_products\",\n",
      "        \"_id\": \"999975700050003\",\n",
      "        \"_score\": 0.038168143,\n",
      "        \"_source\": {\n",
      "          \"categoryPathIds\": [\n",
      "            \"cat00000\",\n",
      "            \"abcat0700000\",\n",
      "            \"abcat0701000\",\n",
      "            \"abcat0701001\"\n",
      "          ],\n",
      "          \"name\": [\n",
      "            \"Xbox 360 - Xbox Live Bundle\"\n",
      "          ],\n",
      "          \"shortDescription\": []\n",
      "        }\n",
      "      },\n",
      "      {\n",
      "        \"_index\": \"bbuy_products\",\n",
      "        \"_id\": \"999977000050002\",\n",
      "        \"_score\": 0.038168143,\n",
      "        \"_source\": {\n",
      "          \"categoryPathIds\": [\n",
      "            \"cat00000\",\n",
      "            \"abcat0700000\",\n",
      "            \"abcat0701000\",\n",
      "            \"abcat0701001\"\n",
      "          ],\n",
      "          \"name\": [\n",
      "            \"Xbox 360 - Xbox Live Bundle\"\n",
      "          ],\n",
      "          \"shortDescription\": []\n",
      "        }\n",
      "      },\n",
      "      {\n",
      "        \"_index\": \"bbuy_products\",\n",
      "        \"_id\": \"7457637\",\n",
      "        \"_score\": 0.031738307,\n",
      "        \"_source\": {\n",
      "          \"categoryPathIds\": [\n",
      "            \"cat00000\",\n",
      "            \"abcat0700000\",\n",
      "            \"abcat0701000\",\n",
      "            \"abcat0701001\"\n",
      "          ],\n",
      "          \"name\": [\n",
      "            \"Microsoft - The Xbox 360\"\n",
      "          ],\n",
      "          \"shortDescription\": [\n",
      "            \"Prepare for an astounding gaming and entertainment experience\"\n",
      "          ]\n",
      "        }\n",
      "      }\n",
      "    ]\n",
      "  }\n",
      "}\n"
     ]
    }
   ],
   "source": [
    "!python ../utilities/query.py --query xbox --query_filter"
   ]
  },
  {
   "cell_type": "markdown",
   "id": "d1854c56",
   "metadata": {},
   "source": [
    "### Check filter impact"
   ]
  },
  {
   "cell_type": "code",
   "execution_count": 3,
   "id": "47d7fd96",
   "metadata": {},
   "outputs": [],
   "source": [
    "import sys\n",
    "sys.path.append('../utilities/')"
   ]
  },
  {
   "cell_type": "code",
   "execution_count": 15,
   "id": "4d65aba6",
   "metadata": {},
   "outputs": [],
   "source": [
    "from IPython.display import HTML"
   ]
  },
  {
   "cell_type": "code",
   "execution_count": 4,
   "id": "7df7badf",
   "metadata": {},
   "outputs": [
    {
     "name": "stderr",
     "output_type": "stream",
     "text": [
      "Warning : `load_model` does not return WordVectorModel or SupervisedModel any more, but a `FastText` object which is very similar.\n"
     ]
    }
   ],
   "source": [
    "from query import search, logger"
   ]
  },
  {
   "cell_type": "code",
   "execution_count": 5,
   "id": "c9f91948",
   "metadata": {},
   "outputs": [
    {
     "name": "stdout",
     "output_type": "stream",
     "text": [
      "········\n"
     ]
    }
   ],
   "source": [
    "host = 'localhost'\n",
    "port = 9200\n",
    "password = getpass()\n",
    "auth = ('admin', 'admin')\n",
    "\n",
    "opensearch = OpenSearch(\n",
    "    hosts=[{'host': host, 'port': port}],\n",
    "    http_compress=True,  # enables gzip compression for request bodies\n",
    "    http_auth=auth,\n",
    "    # client_cert = client_cert_path,\n",
    "    # client_key = client_key_path,\n",
    "    use_ssl=True,\n",
    "    verify_certs=False,  # set to true if you have certs\n",
    "    ssl_assert_hostname=False,\n",
    "    ssl_show_warn=False,\n",
    ")\n",
    "\n",
    "index = 'bbuy_products'"
   ]
  },
  {
   "cell_type": "code",
   "execution_count": 72,
   "id": "b8bdc992",
   "metadata": {},
   "outputs": [],
   "source": [
    "def html_hit(name, filtered_name, image_url, filtered_image_url):\n",
    "    return f'''\n",
    "        <div style=\"display: flex;\">\n",
    "          <!-- Left column -->\n",
    "          <div style=\"flex: 1; margin-right: 20px;\">\n",
    "            <div>\n",
    "              <img src=\"{image_url}\" alt=\"{name}\" style=\"max-width: 50%; max-height: 200px\">\n",
    "            </div>\n",
    "            <p>{name}</p>\n",
    "          </div>\n",
    "          <!-- Right column -->\n",
    "          <div style=\"flex: 1; margin-left: 20px;\">\n",
    "            <div>\n",
    "              <img src=\"{filtered_image_url}\" alt=\"{filtered_name}\" style=\"max-width: 50%; max-height: 200px\">\n",
    "            </div>\n",
    "            <p>{filtered_name}</p>\n",
    "          </div>\n",
    "        </div>\n",
    "    '''"
   ]
  },
  {
   "cell_type": "code",
   "execution_count": 73,
   "id": "dd9b8a16",
   "metadata": {
    "scrolled": false
   },
   "outputs": [
    {
     "name": "stderr",
     "output_type": "stream",
     "text": [
      "2023-03-19 00:31:31,096 - Classification result: ('__label__abcat0701001', '__label__abcat0701003', '__label__abcat0715007', '__label__pcmcat232900050029', '__label__abcat0507000'), [0.54385275 0.0694699  0.04747236 0.04197487 0.04113299]\n",
      "2023-03-19 00:31:31,097 - Category: __label__abcat0701001, Score: 0.5438527464866638\n",
      "2023-03-19 00:31:31,098 - Category list: ['abcat0701001'], Cumulative probability: 0.5438527464866638\n",
      "2023-03-19 00:31:31,113 - Left: Results without filter, Right: Results with query classification filter\n"
     ]
    },
    {
     "data": {
      "text/html": [
       "\n",
       "        <div style=\"display: flex;\">\n",
       "          <!-- Left column -->\n",
       "          <div style=\"flex: 1; margin-right: 20px;\">\n",
       "            <div>\n",
       "              <img src=\"http://images.bestbuy.com/BestBuy_US/images/products/2613/2613542.jpg\" alt=\"Assassin's Creed: Revelations - Xbox 360\" style=\"max-width: 50%; max-height: 200px\">\n",
       "            </div>\n",
       "            <p>Assassin's Creed: Revelations - Xbox 360</p>\n",
       "          </div>\n",
       "          <!-- Right column -->\n",
       "          <div style=\"flex: 1; margin-left: 20px;\">\n",
       "            <div>\n",
       "              <img src=\"http://images.bestbuy.com/BestBuy_US/images/products/1162/1162184_sc.jpg\" alt=\"Microsoft - Xbox 360 4GB Console - Black\" style=\"max-width: 50%; max-height: 200px\">\n",
       "            </div>\n",
       "            <p>Microsoft - Xbox 360 4GB Console - Black</p>\n",
       "          </div>\n",
       "        </div>\n",
       "    \n",
       "        <div style=\"display: flex;\">\n",
       "          <!-- Left column -->\n",
       "          <div style=\"flex: 1; margin-right: 20px;\">\n",
       "            <div>\n",
       "              <img src=\"http://images.bestbuy.com/BestBuy_US/images/products/9854/9854804.jpg\" alt=\"Gears of War 3 - Xbox 360\" style=\"max-width: 50%; max-height: 200px\">\n",
       "            </div>\n",
       "            <p>Gears of War 3 - Xbox 360</p>\n",
       "          </div>\n",
       "          <!-- Right column -->\n",
       "          <div style=\"flex: 1; margin-left: 20px;\">\n",
       "            <div>\n",
       "              <img src=\"http://images.bestbuy.com/BestBuy_US/images/products/1162/1162439_sc.jpg\" alt=\"Microsoft - Xbox 360 4GB Console with Kinect\" style=\"max-width: 50%; max-height: 200px\">\n",
       "            </div>\n",
       "            <p>Microsoft - Xbox 360 4GB Console with Kinect</p>\n",
       "          </div>\n",
       "        </div>\n",
       "    \n",
       "        <div style=\"display: flex;\">\n",
       "          <!-- Left column -->\n",
       "          <div style=\"flex: 1; margin-right: 20px;\">\n",
       "            <div>\n",
       "              <img src=\"http://images.bestbuy.com/BestBuy_US/images/products/2375/2375195.jpg\" alt=\"Madden NFL 12 - Xbox 360\" style=\"max-width: 50%; max-height: 200px\">\n",
       "            </div>\n",
       "            <p>Madden NFL 12 - Xbox 360</p>\n",
       "          </div>\n",
       "          <!-- Right column -->\n",
       "          <div style=\"flex: 1; margin-left: 20px;\">\n",
       "            <div>\n",
       "              <img src=\"http://images.bestbuy.com/BestBuy_US/images/products/1069/1069212_rc.jpg\" alt=\"Microsoft - Xbox 360 250GB Console\" style=\"max-width: 50%; max-height: 200px\">\n",
       "            </div>\n",
       "            <p>Microsoft - Xbox 360 250GB Console</p>\n",
       "          </div>\n",
       "        </div>\n",
       "    \n",
       "        <div style=\"display: flex;\">\n",
       "          <!-- Left column -->\n",
       "          <div style=\"flex: 1; margin-right: 20px;\">\n",
       "            <div>\n",
       "              <img src=\"http://images.bestbuy.com/BestBuy_US/images/products/4833/4833708.jpg\" alt=\"NCAA Football 13 - Xbox 360\" style=\"max-width: 50%; max-height: 200px\">\n",
       "            </div>\n",
       "            <p>NCAA Football 13 - Xbox 360</p>\n",
       "          </div>\n",
       "          <!-- Right column -->\n",
       "          <div style=\"flex: 1; margin-left: 20px;\">\n",
       "            <div>\n",
       "              <img src=\"http://images.bestbuy.com/BestBuy_US/images/products/7457/7457744_rc.jpg\" alt=\"Microsoft - Xbox 360 Core System\" style=\"max-width: 50%; max-height: 200px\">\n",
       "            </div>\n",
       "            <p>Microsoft - Xbox 360 Core System</p>\n",
       "          </div>\n",
       "        </div>\n",
       "    \n",
       "        <div style=\"display: flex;\">\n",
       "          <!-- Left column -->\n",
       "          <div style=\"flex: 1; margin-right: 20px;\">\n",
       "            <div>\n",
       "              <img src=\"http://images.bestbuy.com/BestBuy_US/images/products/7726/7726507.jpg\" alt=\"The Godfather: The Game (Game Guide) - Xbox, PSP, PlayStation 2, Windows, Xbox 360\" style=\"max-width: 50%; max-height: 200px\">\n",
       "            </div>\n",
       "            <p>The Godfather: The Game (Game Guide) - Xbox, PSP, PlayStation 2, Windows, Xbox 360</p>\n",
       "          </div>\n",
       "          <!-- Right column -->\n",
       "          <div style=\"flex: 1; margin-left: 20px;\">\n",
       "            <div>\n",
       "              <img src=\"http://images.bestbuy.com/BestBuy_US/images/products/1219/1219686_sc.jpg\" alt=\"Microsoft - Xbox 360 250GB Kinect Bundle\" style=\"max-width: 50%; max-height: 200px\">\n",
       "            </div>\n",
       "            <p>Microsoft - Xbox 360 250GB Kinect Bundle</p>\n",
       "          </div>\n",
       "        </div>\n",
       "    \n",
       "        <div style=\"display: flex;\">\n",
       "          <!-- Left column -->\n",
       "          <div style=\"flex: 1; margin-right: 20px;\">\n",
       "            <div>\n",
       "              <img src=\"http://images.bestbuy.com/BestBuy_US/images/products/2802/2802508.jpg\" alt=\"Just Dance 3 - Xbox 360\" style=\"max-width: 50%; max-height: 200px\">\n",
       "            </div>\n",
       "            <p>Just Dance 3 - Xbox 360</p>\n",
       "          </div>\n",
       "          <!-- Right column -->\n",
       "          <div style=\"flex: 1; margin-left: 20px;\">\n",
       "            <div>\n",
       "              <img src=\"http://images.bestbuy.com/BestBuy_US/images/products/5616/5616691_sc.jpg\" alt=\"Microsoft - Xbox 360 250GB Forza Motorsport 4 Bundle\" style=\"max-width: 50%; max-height: 200px\">\n",
       "            </div>\n",
       "            <p>Microsoft - Xbox 360 250GB Forza Motorsport 4 Bundle</p>\n",
       "          </div>\n",
       "        </div>\n",
       "    \n",
       "        <div style=\"display: flex;\">\n",
       "          <!-- Left column -->\n",
       "          <div style=\"flex: 1; margin-right: 20px;\">\n",
       "            <div>\n",
       "              <img src=\"http://images.bestbuy.com/BestBuy_US/images/products/1162/1162184_sc.jpg\" alt=\"Microsoft - Xbox 360 4GB Console - Black\" style=\"max-width: 50%; max-height: 200px\">\n",
       "            </div>\n",
       "            <p>Microsoft - Xbox 360 4GB Console - Black</p>\n",
       "          </div>\n",
       "          <!-- Right column -->\n",
       "          <div style=\"flex: 1; margin-left: 20px;\">\n",
       "            <div>\n",
       "              <img src=\"http://images.bestbuy.com/BestBuy_US/images/products/9999/8192993.jpg\" alt=\"Microsoft - Xbox 360 Pro / Madden NFL 07 Bundle\" style=\"max-width: 50%; max-height: 200px\">\n",
       "            </div>\n",
       "            <p>Microsoft - Xbox 360 Pro / Madden NFL 07 Bundle</p>\n",
       "          </div>\n",
       "        </div>\n",
       "    \n",
       "        <div style=\"display: flex;\">\n",
       "          <!-- Left column -->\n",
       "          <div style=\"flex: 1; margin-right: 20px;\">\n",
       "            <div>\n",
       "              <img src=\"http://images.bestbuy.com/BestBuy_US/images/products/8267/8267644_sc.jpg\" alt=\"Microsoft - Xbox 360 Wireless Controller - Black\" style=\"max-width: 50%; max-height: 200px\">\n",
       "            </div>\n",
       "            <p>Microsoft - Xbox 360 Wireless Controller - Black</p>\n",
       "          </div>\n",
       "          <!-- Right column -->\n",
       "          <div style=\"flex: 1; margin-left: 20px;\">\n",
       "            <div>\n",
       "              <img src=\"http://images.bestbuy.com/BestBuy_US/images/products/9999/pcmprd75600050003_sb.jpg\" alt=\"Xbox 360 - Xbox Live Bundle\" style=\"max-width: 50%; max-height: 200px\">\n",
       "            </div>\n",
       "            <p>Xbox 360 - Xbox Live Bundle</p>\n",
       "          </div>\n",
       "        </div>\n",
       "    \n",
       "        <div style=\"display: flex;\">\n",
       "          <!-- Left column -->\n",
       "          <div style=\"flex: 1; margin-right: 20px;\">\n",
       "            <div>\n",
       "              <img src=\"http://images.bestbuy.com/BestBuy_US/images/products/1272/1272605_sc.jpg\" alt=\"Microsoft - Xbox LIVE 1600 Points Card\" style=\"max-width: 50%; max-height: 200px\">\n",
       "            </div>\n",
       "            <p>Microsoft - Xbox LIVE 1600 Points Card</p>\n",
       "          </div>\n",
       "          <!-- Right column -->\n",
       "          <div style=\"flex: 1; margin-left: 20px;\">\n",
       "            <div>\n",
       "              <img src=\"http://images.bestbuy.com/BestBuy_US/images/products/9999/pcmprd76900050002_sb.jpg\" alt=\"Xbox 360 - Xbox Live Bundle\" style=\"max-width: 50%; max-height: 200px\">\n",
       "            </div>\n",
       "            <p>Xbox 360 - Xbox Live Bundle</p>\n",
       "          </div>\n",
       "        </div>\n",
       "    \n",
       "        <div style=\"display: flex;\">\n",
       "          <!-- Left column -->\n",
       "          <div style=\"flex: 1; margin-right: 20px;\">\n",
       "            <div>\n",
       "              <img src=\"http://images.bestbuy.com/BestBuy_US/images/products/7457/7457566_sc.jpg\" alt=\"Microsoft - Headset for Xbox 360\" style=\"max-width: 50%; max-height: 200px\">\n",
       "            </div>\n",
       "            <p>Microsoft - Headset for Xbox 360</p>\n",
       "          </div>\n",
       "          <!-- Right column -->\n",
       "          <div style=\"flex: 1; margin-left: 20px;\">\n",
       "            <div>\n",
       "              <img src=\"http://images.bestbuy.com/BestBuy_US/images/products/7457/7457637_rc.jpg\" alt=\"Microsoft - The Xbox 360\" style=\"max-width: 50%; max-height: 200px\">\n",
       "            </div>\n",
       "            <p>Microsoft - The Xbox 360</p>\n",
       "          </div>\n",
       "        </div>\n",
       "    "
      ],
      "text/plain": [
       "<IPython.core.display.HTML object>"
      ]
     },
     "execution_count": 73,
     "metadata": {},
     "output_type": "execute_result"
    }
   ],
   "source": [
    "query = 'xbox'\n",
    "\n",
    "result = search(client=opensearch, index=index, user_query=query, query_filter=False)\n",
    "result_with_filter = search(client=opensearch, index=index, user_query=query, query_filter=True)\n",
    "\n",
    "html = ''\n",
    "for hit, filtered_hit in zip(result['hits']['hits'], result_with_filter['hits']['hits']):\n",
    "    name, filtered_name = hit['_source']['name'][0], filtered_hit['_source']['name'][0]\n",
    "    image_url, filtered_image_url = hit['_source']['image'][0], filtered_hit['_source']['image'][0]\n",
    "    logger.debug(f'Name: {name}, Filtered name: {filtered_name}')\n",
    "    logger.debug(f'Image URL: {image_url}, Filter image URL: {filtered_image_url}')\n",
    "    html += html_hit(name, filtered_name, image_url, filtered_image_url) \n",
    "\n",
    "logger.info('Left: Results without filter, Right: Results with query classification filter')\n",
    "HTML(html)"
   ]
  },
  {
   "cell_type": "code",
   "execution_count": 75,
   "id": "49cc7d2d",
   "metadata": {
    "scrolled": false
   },
   "outputs": [
    {
     "name": "stderr",
     "output_type": "stream",
     "text": [
      "2023-03-19 00:31:32,535 - Classification result: ('__label__pcmcat209400050001', '__label__abcat0404004', '__label__pcmcat162100050040', '__label__pcmcat159300050002', '__label__abcat0208011'), [0.24659158 0.13511917 0.07489123 0.05283668 0.05140621]\n",
      "2023-03-19 00:31:32,536 - Category: __label__pcmcat209400050001, Score: 0.24659158289432526\n",
      "2023-03-19 00:31:32,536 - Category: __label__abcat0404004, Score: 0.13511916995048523\n",
      "2023-03-19 00:31:32,537 - Category: __label__pcmcat162100050040, Score: 0.07489123195409775\n",
      "2023-03-19 00:31:32,538 - Category: __label__pcmcat159300050002, Score: 0.05283668264746666\n",
      "2023-03-19 00:31:32,539 - Category list: ['pcmcat209400050001', 'abcat0404004', 'pcmcat162100050040', 'pcmcat159300050002'], Cumulative probability: 0.5094386674463749\n",
      "2023-03-19 00:31:32,553 - Left: Results without filter, Right: Results with query classification filter\n"
     ]
    },
    {
     "data": {
      "text/html": [
       "\n",
       "        <div style=\"display: flex;\">\n",
       "          <!-- Left column -->\n",
       "          <div style=\"flex: 1; margin-right: 20px;\">\n",
       "            <div>\n",
       "              <img src=\"http://images.bestbuy.com/BestBuy_US/images/products/5568/5568676_sc.jpg\" alt=\"AT&T GoPhone - Samsung A157 No-Contract Mobile Phone - Black\" style=\"max-width: 50%; max-height: 200px\">\n",
       "            </div>\n",
       "            <p>AT&T GoPhone - Samsung A157 No-Contract Mobile Phone - Black</p>\n",
       "          </div>\n",
       "          <!-- Right column -->\n",
       "          <div style=\"flex: 1; margin-left: 20px;\">\n",
       "            <div>\n",
       "              <img src=\"http://images.bestbuy.com/BestBuy_US/images/products/3487/3487648_sc.jpg\" alt=\"Apple® - iPhone® 4S with 16GB Memory Mobile Phone - White (AT&T)\" style=\"max-width: 50%; max-height: 200px\">\n",
       "            </div>\n",
       "            <p>Apple® - iPhone® 4S with 16GB Memory Mobile Phone - White (AT&T)</p>\n",
       "          </div>\n",
       "        </div>\n",
       "    \n",
       "        <div style=\"display: flex;\">\n",
       "          <!-- Left column -->\n",
       "          <div style=\"flex: 1; margin-right: 20px;\">\n",
       "            <div>\n",
       "              <img src=\"http://images.bestbuy.com/BestBuy_US/images/products/4039/4039955_rc.jpg\" alt=\"ZAGG - InvisibleSHIELD HD for Apple® iPhone® 4 and 4S\" style=\"max-width: 50%; max-height: 200px\">\n",
       "            </div>\n",
       "            <p>ZAGG - InvisibleSHIELD HD for Apple® iPhone® 4 and 4S</p>\n",
       "          </div>\n",
       "          <!-- Right column -->\n",
       "          <div style=\"flex: 1; margin-left: 20px;\">\n",
       "            <div>\n",
       "              <img src=\"http://images.bestbuy.com/BestBuy_US/images/products/5036/5036558_sc.jpg\" alt=\"LG - Lucid 4G Mobile Phone - Black (Verizon Wireless)\" style=\"max-width: 50%; max-height: 200px\">\n",
       "            </div>\n",
       "            <p>LG - Lucid 4G Mobile Phone - Black (Verizon Wireless)</p>\n",
       "          </div>\n",
       "        </div>\n",
       "    \n",
       "        <div style=\"display: flex;\">\n",
       "          <!-- Left column -->\n",
       "          <div style=\"flex: 1; margin-right: 20px;\">\n",
       "            <div>\n",
       "              <img src=\"http://images.bestbuy.com/BestBuy_US/images/products/3133/3133099_sc.jpg\" alt=\"LifeProof - Case for Apple® iPhone® 4 and 4S - Black\" style=\"max-width: 50%; max-height: 200px\">\n",
       "            </div>\n",
       "            <p>LifeProof - Case for Apple® iPhone® 4 and 4S - Black</p>\n",
       "          </div>\n",
       "          <!-- Right column -->\n",
       "          <div style=\"flex: 1; margin-left: 20px;\">\n",
       "            <div>\n",
       "              <img src=\"http://images.bestbuy.com/BestBuy_US/images/products/3815/3815157_sc.jpg\" alt=\"Apple® - iPhone 4 with 8GB Memory - White (AT&T)\" style=\"max-width: 50%; max-height: 200px\">\n",
       "            </div>\n",
       "            <p>Apple® - iPhone 4 with 8GB Memory - White (AT&T)</p>\n",
       "          </div>\n",
       "        </div>\n",
       "    \n",
       "        <div style=\"display: flex;\">\n",
       "          <!-- Left column -->\n",
       "          <div style=\"flex: 1; margin-right: 20px;\">\n",
       "            <div>\n",
       "              <img src=\"http://images.bestbuy.com/BestBuy_US/images/products/3529/3529135_sc.jpg\" alt=\"AT&T GoPhone - GoPhone U2800A No-Contract Mobile Phone - Black\" style=\"max-width: 50%; max-height: 200px\">\n",
       "            </div>\n",
       "            <p>AT&T GoPhone - GoPhone U2800A No-Contract Mobile Phone - Black</p>\n",
       "          </div>\n",
       "          <!-- Right column -->\n",
       "          <div style=\"flex: 1; margin-left: 20px;\">\n",
       "            <div>\n",
       "              <img src=\"http://images.bestbuy.com/BestBuy_US/images/products/3487/3487784_sc.jpg\" alt=\"Apple® - iPhone® 4S with 16GB Memory Mobile Phone - Black (AT&T)\" style=\"max-width: 50%; max-height: 200px\">\n",
       "            </div>\n",
       "            <p>Apple® - iPhone® 4S with 16GB Memory Mobile Phone - Black (AT&T)</p>\n",
       "          </div>\n",
       "        </div>\n",
       "    \n",
       "        <div style=\"display: flex;\">\n",
       "          <!-- Left column -->\n",
       "          <div style=\"flex: 1; margin-right: 20px;\">\n",
       "            <div>\n",
       "              <img src=\"http://images.bestbuy.com/BestBuy_US/images/products/2847/2847097_sc.jpg\" alt=\"AT&T GoPhone - Pantech P7040P No-Contract Mobile Phone - Black\" style=\"max-width: 50%; max-height: 200px\">\n",
       "            </div>\n",
       "            <p>AT&T GoPhone - Pantech P7040P No-Contract Mobile Phone - Black</p>\n",
       "          </div>\n",
       "          <!-- Right column -->\n",
       "          <div style=\"flex: 1; margin-left: 20px;\">\n",
       "            <div>\n",
       "              <img src=\"http://images.bestbuy.com/BestBuy_US/images/products/5717/5717486_sc.jpg\" alt=\"Samsung - Galaxy S III 4G Mobile Phone - Marble White (Sprint)\" style=\"max-width: 50%; max-height: 200px\">\n",
       "            </div>\n",
       "            <p>Samsung - Galaxy S III 4G Mobile Phone - Marble White (Sprint)</p>\n",
       "          </div>\n",
       "        </div>\n",
       "    \n",
       "        <div style=\"display: flex;\">\n",
       "          <!-- Left column -->\n",
       "          <div style=\"flex: 1; margin-right: 20px;\">\n",
       "            <div>\n",
       "              <img src=\"http://images.bestbuy.com/BestBuy_US/images/products/4088/4088947_rc.jpg\" alt=\"MagicJack - PLUS USB Phone Jack\" style=\"max-width: 50%; max-height: 200px\">\n",
       "            </div>\n",
       "            <p>MagicJack - PLUS USB Phone Jack</p>\n",
       "          </div>\n",
       "          <!-- Right column -->\n",
       "          <div style=\"flex: 1; margin-left: 20px;\">\n",
       "            <div>\n",
       "              <img src=\"http://images.bestbuy.com/BestBuy_US/images/products/5012/5012415_sc.jpg\" alt=\"LG - Viper 4G Mobile Phone - Black (Sprint)\" style=\"max-width: 50%; max-height: 200px\">\n",
       "            </div>\n",
       "            <p>LG - Viper 4G Mobile Phone - Black (Sprint)</p>\n",
       "          </div>\n",
       "        </div>\n",
       "    \n",
       "        <div style=\"display: flex;\">\n",
       "          <!-- Left column -->\n",
       "          <div style=\"flex: 1; margin-right: 20px;\">\n",
       "            <div>\n",
       "              <img src=\"http://images.bestbuy.com/BestBuy_US/images/products/1230/1230537_rc.jpg\" alt=\"ZAGG - InvisibleSHIELD for Apple® iPhone® 4 - Clear\" style=\"max-width: 50%; max-height: 200px\">\n",
       "            </div>\n",
       "            <p>ZAGG - InvisibleSHIELD for Apple® iPhone® 4 - Clear</p>\n",
       "          </div>\n",
       "          <!-- Right column -->\n",
       "          <div style=\"flex: 1; margin-left: 20px;\">\n",
       "            <div>\n",
       "              <img src=\"http://images.bestbuy.com/BestBuy_US/images/products/3815/3815272_sc.jpg\" alt=\"Apple® - iPhone 4 with 8GB Memory - White (Verizon Wireless)\" style=\"max-width: 50%; max-height: 200px\">\n",
       "            </div>\n",
       "            <p>Apple® - iPhone 4 with 8GB Memory - White (Verizon Wireless)</p>\n",
       "          </div>\n",
       "        </div>\n",
       "    \n",
       "        <div style=\"display: flex;\">\n",
       "          <!-- Left column -->\n",
       "          <div style=\"flex: 1; margin-right: 20px;\">\n",
       "            <div>\n",
       "              <img src=\"http://images.bestbuy.com/BestBuy_US/images/products/3487/3487648_sc.jpg\" alt=\"Apple® - iPhone® 4S with 16GB Memory Mobile Phone - White (AT&T)\" style=\"max-width: 50%; max-height: 200px\">\n",
       "            </div>\n",
       "            <p>Apple® - iPhone® 4S with 16GB Memory Mobile Phone - White (AT&T)</p>\n",
       "          </div>\n",
       "          <!-- Right column -->\n",
       "          <div style=\"flex: 1; margin-left: 20px;\">\n",
       "            <div>\n",
       "              <img src=\"http://images.bestbuy.com/BestBuy_US/images/products/4769/4769894_sc.jpg\" alt=\"Samsung - Brightside Mobile Phone - Black (Verizon Wireless)\" style=\"max-width: 50%; max-height: 200px\">\n",
       "            </div>\n",
       "            <p>Samsung - Brightside Mobile Phone - Black (Verizon Wireless)</p>\n",
       "          </div>\n",
       "        </div>\n",
       "    \n",
       "        <div style=\"display: flex;\">\n",
       "          <!-- Left column -->\n",
       "          <div style=\"flex: 1; margin-right: 20px;\">\n",
       "            <div>\n",
       "              <img src=\"http://images.bestbuy.com/BestBuy_US/images/products/3133/3133123_sc.jpg\" alt=\"LifeProof - Case for Apple® iPhone® 4 and 4S - White\" style=\"max-width: 50%; max-height: 200px\">\n",
       "            </div>\n",
       "            <p>LifeProof - Case for Apple® iPhone® 4 and 4S - White</p>\n",
       "          </div>\n",
       "          <!-- Right column -->\n",
       "          <div style=\"flex: 1; margin-left: 20px;\">\n",
       "            <div>\n",
       "              <img src=\"http://images.bestbuy.com/BestBuy_US/images/products/4674/4674169_sc.jpg\" alt=\"Samsung - Galaxy S II Epic 4G Touch Mobile Phone - White (Sprint)\" style=\"max-width: 50%; max-height: 200px\">\n",
       "            </div>\n",
       "            <p>Samsung - Galaxy S II Epic 4G Touch Mobile Phone - White (Sprint)</p>\n",
       "          </div>\n",
       "        </div>\n",
       "    \n",
       "        <div style=\"display: flex;\">\n",
       "          <!-- Left column -->\n",
       "          <div style=\"flex: 1; margin-right: 20px;\">\n",
       "            <div>\n",
       "              <img src=\"http://images.bestbuy.com/BestBuy_US/images/products/8361/8361079_sc.jpg\" alt=\"AT&T GoPhone - $25 Prepaid Wireless Airtime Card\" style=\"max-width: 50%; max-height: 200px\">\n",
       "            </div>\n",
       "            <p>AT&T GoPhone - $25 Prepaid Wireless Airtime Card</p>\n",
       "          </div>\n",
       "          <!-- Right column -->\n",
       "          <div style=\"flex: 1; margin-left: 20px;\">\n",
       "            <div>\n",
       "              <img src=\"http://images.bestbuy.com/BestBuy_US/images/products/5717/5717371_sc.jpg\" alt=\"Samsung - Galaxy S III 4G Mobile Phone - Pebble Blue (Sprint)\" style=\"max-width: 50%; max-height: 200px\">\n",
       "            </div>\n",
       "            <p>Samsung - Galaxy S III 4G Mobile Phone - Pebble Blue (Sprint)</p>\n",
       "          </div>\n",
       "        </div>\n",
       "    "
      ],
      "text/plain": [
       "<IPython.core.display.HTML object>"
      ]
     },
     "execution_count": 75,
     "metadata": {},
     "output_type": "execute_result"
    }
   ],
   "source": [
    "query = 'phone'\n",
    "\n",
    "result = search(client=opensearch, index=index, user_query=query, query_filter=False)\n",
    "result_with_filter = search(client=opensearch, index=index, user_query=query, query_filter=True)\n",
    "\n",
    "html = ''\n",
    "for hit, filtered_hit in zip(result['hits']['hits'], result_with_filter['hits']['hits']):\n",
    "    name, filtered_name = hit['_source']['name'][0], filtered_hit['_source']['name'][0]\n",
    "    image_url, filtered_image_url = hit['_source']['image'][0], filtered_hit['_source']['image'][0]\n",
    "    logger.debug(f'Name: {name}, Filtered name: {filtered_name}')\n",
    "    logger.debug(f'Image URL: {image_url}, Filter image URL: {filtered_image_url}')\n",
    "    html += html_hit(name, filtered_name, image_url, filtered_image_url) \n",
    "\n",
    "logger.info('Left: Results without filter, Right: Results with query classification filter')\n",
    "HTML(html)"
   ]
  },
  {
   "cell_type": "code",
   "execution_count": 101,
   "id": "91a946ce",
   "metadata": {},
   "outputs": [
    {
     "name": "stderr",
     "output_type": "stream",
     "text": [
      "2023-03-19 00:46:48,727 - Classification result: ('__label__cat02009', '__label__cat02015', '__label__cat09000', '__label__cat02661', '__label__cat02685'), [0.64068973 0.06253754 0.02229895 0.01158105 0.0099335 ]\n",
      "2023-03-19 00:46:48,728 - Category: __label__cat02009, Score: 0.6406897306442261\n",
      "2023-03-19 00:46:48,729 - Category list: ['cat02009'], Cumulative probability: 0.6406897306442261\n",
      "2023-03-19 00:46:48,737 - Left: Results without filter, Right: Results with query classification filter\n"
     ]
    },
    {
     "data": {
      "text/html": [
       "\n",
       "        <div style=\"display: flex;\">\n",
       "          <!-- Left column -->\n",
       "          <div style=\"flex: 1; margin-right: 20px;\">\n",
       "            <div>\n",
       "              <img src=\"http://images.bestbuy.com/BestBuy_US/images/products/9529/9529548.jpg\" alt=\"My Dress-Up - Nintendo DS\" style=\"max-width: 50%; max-height: 200px\">\n",
       "            </div>\n",
       "            <p>My Dress-Up - Nintendo DS</p>\n",
       "          </div>\n",
       "          <!-- Right column -->\n",
       "          <div style=\"flex: 1; margin-left: 20px;\">\n",
       "            <div>\n",
       "              <img src=\"No Result\" alt=\"No Result\" style=\"max-width: 50%; max-height: 200px\">\n",
       "            </div>\n",
       "            <p>No Result</p>\n",
       "          </div>\n",
       "        </div>\n",
       "    \n",
       "        <div style=\"display: flex;\">\n",
       "          <!-- Left column -->\n",
       "          <div style=\"flex: 1; margin-right: 20px;\">\n",
       "            <div>\n",
       "              <img src=\"http://images.bestbuy.com/BestBuy_US/images/products/5422/5422321_sc.jpg\" alt=\"Schoolio - 7\" Rhinestone Stainless-Steel Scissors\" style=\"max-width: 50%; max-height: 200px\">\n",
       "            </div>\n",
       "            <p>Schoolio - 7\" Rhinestone Stainless-Steel Scissors</p>\n",
       "          </div>\n",
       "          <!-- Right column -->\n",
       "          <div style=\"flex: 1; margin-left: 20px;\">\n",
       "            <div>\n",
       "              <img src=\"No Result\" alt=\"No Result\" style=\"max-width: 50%; max-height: 200px\">\n",
       "            </div>\n",
       "            <p>No Result</p>\n",
       "          </div>\n",
       "        </div>\n",
       "    \n",
       "        <div style=\"display: flex;\">\n",
       "          <!-- Left column -->\n",
       "          <div style=\"flex: 1; margin-right: 20px;\">\n",
       "            <div>\n",
       "              <img src=\"http://images.bestbuy.com/BestBuy_US/images/products/4999/4999856_sc.jpg\" alt=\"Bravo Sports - Disney Princess Dressed for the Soirée Skateboard\" style=\"max-width: 50%; max-height: 200px\">\n",
       "            </div>\n",
       "            <p>Bravo Sports - Disney Princess Dressed for the Soirée Skateboard</p>\n",
       "          </div>\n",
       "          <!-- Right column -->\n",
       "          <div style=\"flex: 1; margin-left: 20px;\">\n",
       "            <div>\n",
       "              <img src=\"No Result\" alt=\"No Result\" style=\"max-width: 50%; max-height: 200px\">\n",
       "            </div>\n",
       "            <p>No Result</p>\n",
       "          </div>\n",
       "        </div>\n",
       "    \n",
       "        <div style=\"display: flex;\">\n",
       "          <!-- Left column -->\n",
       "          <div style=\"flex: 1; margin-right: 20px;\">\n",
       "            <div>\n",
       "              <img src=\"http://images.bestbuy.com/BestBuy_US/images/products/1671/1671357_sc.jpg\" alt=\"Monster - West Coast Customs 24-Oz. High-Performance Shine On Tire Dressing Spray\" style=\"max-width: 50%; max-height: 200px\">\n",
       "            </div>\n",
       "            <p>Monster - West Coast Customs 24-Oz. High-Performance Shine On Tire Dressing Spray</p>\n",
       "          </div>\n",
       "          <!-- Right column -->\n",
       "          <div style=\"flex: 1; margin-left: 20px;\">\n",
       "            <div>\n",
       "              <img src=\"No Result\" alt=\"No Result\" style=\"max-width: 50%; max-height: 200px\">\n",
       "            </div>\n",
       "            <p>No Result</p>\n",
       "          </div>\n",
       "        </div>\n",
       "    \n",
       "        <div style=\"display: flex;\">\n",
       "          <!-- Left column -->\n",
       "          <div style=\"flex: 1; margin-right: 20px;\">\n",
       "            <div>\n",
       "              <img src=\"http://images.bestbuy.com/BestBuy_US/images/products/4811/4811402.jpg\" alt=\"The Sims 3: Showtime Expansion Pack Katy Perry Collector's Edition - Mac/Windows\" style=\"max-width: 50%; max-height: 200px\">\n",
       "            </div>\n",
       "            <p>The Sims 3: Showtime Expansion Pack Katy Perry Collector's Edition - Mac/Windows</p>\n",
       "          </div>\n",
       "          <!-- Right column -->\n",
       "          <div style=\"flex: 1; margin-left: 20px;\">\n",
       "            <div>\n",
       "              <img src=\"No Result\" alt=\"No Result\" style=\"max-width: 50%; max-height: 200px\">\n",
       "            </div>\n",
       "            <p>No Result</p>\n",
       "          </div>\n",
       "        </div>\n",
       "    \n",
       "        <div style=\"display: flex;\">\n",
       "          <!-- Left column -->\n",
       "          <div style=\"flex: 1; margin-right: 20px;\">\n",
       "            <div>\n",
       "              <img src=\"http://images.bestbuy.com/BestBuy_US/images/products/8354/8354489_sc.jpg\" alt=\"Geek Squad - Home Theater Setup\" style=\"max-width: 50%; max-height: 200px\">\n",
       "            </div>\n",
       "            <p>Geek Squad - Home Theater Setup</p>\n",
       "          </div>\n",
       "          <!-- Right column -->\n",
       "          <div style=\"flex: 1; margin-left: 20px;\">\n",
       "            <div>\n",
       "              <img src=\"No Result\" alt=\"No Result\" style=\"max-width: 50%; max-height: 200px\">\n",
       "            </div>\n",
       "            <p>No Result</p>\n",
       "          </div>\n",
       "        </div>\n",
       "    \n",
       "        <div style=\"display: flex;\">\n",
       "          <!-- Left column -->\n",
       "          <div style=\"flex: 1; margin-right: 20px;\">\n",
       "            <div>\n",
       "              <img src=\"http://images.bestbuy.com/BestBuy_US/images/products/8910/8910351_sc.jpg\" alt=\"Headline Entertainment - Guitar Hero Shred Head Adult T-Shirt (Medium)\" style=\"max-width: 50%; max-height: 200px\">\n",
       "            </div>\n",
       "            <p>Headline Entertainment - Guitar Hero Shred Head Adult T-Shirt (Medium)</p>\n",
       "          </div>\n",
       "          <!-- Right column -->\n",
       "          <div style=\"flex: 1; margin-left: 20px;\">\n",
       "            <div>\n",
       "              <img src=\"No Result\" alt=\"No Result\" style=\"max-width: 50%; max-height: 200px\">\n",
       "            </div>\n",
       "            <p>No Result</p>\n",
       "          </div>\n",
       "        </div>\n",
       "    \n",
       "        <div style=\"display: flex;\">\n",
       "          <!-- Left column -->\n",
       "          <div style=\"flex: 1; margin-right: 20px;\">\n",
       "            <div>\n",
       "              <img src=\"http://images.bestbuy.com/BestBuy_US/images/products/8920/8920493_sc.jpg\" alt=\"- - Stardoll Shopping Card ($10)\" style=\"max-width: 50%; max-height: 200px\">\n",
       "            </div>\n",
       "            <p>- - Stardoll Shopping Card ($10)</p>\n",
       "          </div>\n",
       "          <!-- Right column -->\n",
       "          <div style=\"flex: 1; margin-left: 20px;\">\n",
       "            <div>\n",
       "              <img src=\"No Result\" alt=\"No Result\" style=\"max-width: 50%; max-height: 200px\">\n",
       "            </div>\n",
       "            <p>No Result</p>\n",
       "          </div>\n",
       "        </div>\n",
       "    \n",
       "        <div style=\"display: flex;\">\n",
       "          <!-- Left column -->\n",
       "          <div style=\"flex: 1; margin-right: 20px;\">\n",
       "            <div>\n",
       "              <img src=\"http://images.bestbuy.com/BestBuy_US/images/products/9104/9104881_sc.jpg\" alt=\"C-Life Group Ltd. - Rock Band Puffed Logo Design Men's T-Shirt (Small)\" style=\"max-width: 50%; max-height: 200px\">\n",
       "            </div>\n",
       "            <p>C-Life Group Ltd. - Rock Band Puffed Logo Design Men's T-Shirt (Small)</p>\n",
       "          </div>\n",
       "          <!-- Right column -->\n",
       "          <div style=\"flex: 1; margin-left: 20px;\">\n",
       "            <div>\n",
       "              <img src=\"No Result\" alt=\"No Result\" style=\"max-width: 50%; max-height: 200px\">\n",
       "            </div>\n",
       "            <p>No Result</p>\n",
       "          </div>\n",
       "        </div>\n",
       "    \n",
       "        <div style=\"display: flex;\">\n",
       "          <!-- Left column -->\n",
       "          <div style=\"flex: 1; margin-right: 20px;\">\n",
       "            <div>\n",
       "              <img src=\"http://images.bestbuy.com/BestBuy_US/images/products/9104/9104907_sc.jpg\" alt=\"C-Life Group Ltd. - Rock Band Puffed Logo Design Men's T-Shirt (Medium)\" style=\"max-width: 50%; max-height: 200px\">\n",
       "            </div>\n",
       "            <p>C-Life Group Ltd. - Rock Band Puffed Logo Design Men's T-Shirt (Medium)</p>\n",
       "          </div>\n",
       "          <!-- Right column -->\n",
       "          <div style=\"flex: 1; margin-left: 20px;\">\n",
       "            <div>\n",
       "              <img src=\"No Result\" alt=\"No Result\" style=\"max-width: 50%; max-height: 200px\">\n",
       "            </div>\n",
       "            <p>No Result</p>\n",
       "          </div>\n",
       "        </div>\n",
       "    "
      ],
      "text/plain": [
       "<IPython.core.display.HTML object>"
      ]
     },
     "execution_count": 101,
     "metadata": {},
     "output_type": "execute_result"
    }
   ],
   "source": [
    "query = 'dress'\n",
    "name, filtered_name, image_url, filtered_image_url = ['No Result'] * 4\n",
    "\n",
    "result = search(client=opensearch, index=index, user_query=query, query_filter=False)\n",
    "result_with_filter = search(client=opensearch, index=index, user_query=query, query_filter=True)\n",
    "\n",
    "html = ''\n",
    "for hit, filtered_hit in zip_longest(result['hits']['hits'], result_with_filter['hits']['hits']):\n",
    "    if hit is not None:\n",
    "        name, image_url = hit['_source']['name'][0],  hit['_source']['image'][0]\n",
    "    if filtered_hit is not None:\n",
    "        filtered_name, filtered_image_url = filtered_hit['_source']['name'][0], filtered_hit['_source']['image'][0]\n",
    "    logger.debug(f'Name: {name}, Filtered name: {filtered_name}')\n",
    "    logger.debug(f'Image URL: {image_url}, Filter image URL: {filtered_image_url}')\n",
    "    html += html_hit(name, filtered_name, image_url, filtered_image_url) \n",
    "\n",
    "logger.info('Left: Results without filter, Right: Results with query classification filter')\n",
    "HTML(html)"
   ]
  },
  {
   "cell_type": "code",
   "execution_count": 103,
   "id": "9cd5b196",
   "metadata": {},
   "outputs": [
    {
     "name": "stderr",
     "output_type": "stream",
     "text": [
      "2023-03-19 00:47:08,038 - Classification result: ('__label__cat02015', '__label__cat02009', '__label__cat09000', '__label__pcmcat247400050000', '__label__abcat0101001'), [0.38669026 0.09733694 0.05076459 0.03645941 0.02815702]\n",
      "2023-03-19 00:47:08,039 - Category: __label__cat02015, Score: 0.38669025897979736\n",
      "2023-03-19 00:47:08,040 - Category: __label__cat02009, Score: 0.09733694046735764\n",
      "2023-03-19 00:47:08,040 - Category: __label__cat09000, Score: 0.05076458677649498\n",
      "2023-03-19 00:47:08,041 - Category list: ['cat02015', 'cat02009', 'cat09000'], Cumulative probability: 0.53479178622365\n",
      "2023-03-19 00:47:08,049 - Left: Results without filter, Right: Results with query classification filter\n"
     ]
    },
    {
     "data": {
      "text/html": [
       "\n",
       "        <div style=\"display: flex;\">\n",
       "          <!-- Left column -->\n",
       "          <div style=\"flex: 1; margin-right: 20px;\">\n",
       "            <div>\n",
       "              <img src=\"http://images.bestbuy.com/BestBuy_US/images/products/8604/8604913.jpg\" alt=\"SimCity Societies (Game Guide) - Windows\" style=\"max-width: 50%; max-height: 200px\">\n",
       "            </div>\n",
       "            <p>SimCity Societies (Game Guide) - Windows</p>\n",
       "          </div>\n",
       "          <!-- Right column -->\n",
       "          <div style=\"flex: 1; margin-left: 20px;\">\n",
       "            <div>\n",
       "              <img src=\"No Result\" alt=\"No Result\" style=\"max-width: 50%; max-height: 200px\">\n",
       "            </div>\n",
       "            <p>No Result</p>\n",
       "          </div>\n",
       "        </div>\n",
       "    \n",
       "        <div style=\"display: flex;\">\n",
       "          <!-- Left column -->\n",
       "          <div style=\"flex: 1; margin-right: 20px;\">\n",
       "            <div>\n",
       "              <img src=\"http://images.bestbuy.com/BestBuy_US/images/mp/products/1157/1157543_sc.jpg\" alt=\"Sony - DualShock 3 98070 Gaming Pad - Candy Pink\" style=\"max-width: 50%; max-height: 200px\">\n",
       "            </div>\n",
       "            <p>Sony - DualShock 3 98070 Gaming Pad - Candy Pink</p>\n",
       "          </div>\n",
       "          <!-- Right column -->\n",
       "          <div style=\"flex: 1; margin-left: 20px;\">\n",
       "            <div>\n",
       "              <img src=\"No Result\" alt=\"No Result\" style=\"max-width: 50%; max-height: 200px\">\n",
       "            </div>\n",
       "            <p>No Result</p>\n",
       "          </div>\n",
       "        </div>\n",
       "    \n",
       "        <div style=\"display: flex;\">\n",
       "          <!-- Left column -->\n",
       "          <div style=\"flex: 1; margin-right: 20px;\">\n",
       "            <div>\n",
       "              <img src=\"http://images.bestbuy.com/BestBuy_US/images/products/3824/3824067_sc.jpg\" alt=\"Brookstone - CandyMan Motion-Activated Candy Dispenser\" style=\"max-width: 50%; max-height: 200px\">\n",
       "            </div>\n",
       "            <p>Brookstone - CandyMan Motion-Activated Candy Dispenser</p>\n",
       "          </div>\n",
       "          <!-- Right column -->\n",
       "          <div style=\"flex: 1; margin-left: 20px;\">\n",
       "            <div>\n",
       "              <img src=\"No Result\" alt=\"No Result\" style=\"max-width: 50%; max-height: 200px\">\n",
       "            </div>\n",
       "            <p>No Result</p>\n",
       "          </div>\n",
       "        </div>\n",
       "    \n",
       "        <div style=\"display: flex;\">\n",
       "          <!-- Left column -->\n",
       "          <div style=\"flex: 1; margin-right: 20px;\">\n",
       "            <div>\n",
       "              <img src=\"http://images.bestbuy.com/BestBuy_US/images/mp/products/4753/4753214_sc.jpg\" alt=\"Hard Candy - Candy Convertible 11\" Notebook Case - Red\" style=\"max-width: 50%; max-height: 200px\">\n",
       "            </div>\n",
       "            <p>Hard Candy - Candy Convertible 11\" Notebook Case - Red</p>\n",
       "          </div>\n",
       "          <!-- Right column -->\n",
       "          <div style=\"flex: 1; margin-left: 20px;\">\n",
       "            <div>\n",
       "              <img src=\"No Result\" alt=\"No Result\" style=\"max-width: 50%; max-height: 200px\">\n",
       "            </div>\n",
       "            <p>No Result</p>\n",
       "          </div>\n",
       "        </div>\n",
       "    \n",
       "        <div style=\"display: flex;\">\n",
       "          <!-- Left column -->\n",
       "          <div style=\"flex: 1; margin-right: 20px;\">\n",
       "            <div>\n",
       "              <img src=\"http://images.bestbuy.com/BestBuy_US/images/products/9809/9809077_rc.jpg\" alt=\"Nostalgia Electrics - Hard Candy Cotton Candy Maker - Pink\" style=\"max-width: 50%; max-height: 200px\">\n",
       "            </div>\n",
       "            <p>Nostalgia Electrics - Hard Candy Cotton Candy Maker - Pink</p>\n",
       "          </div>\n",
       "          <!-- Right column -->\n",
       "          <div style=\"flex: 1; margin-left: 20px;\">\n",
       "            <div>\n",
       "              <img src=\"No Result\" alt=\"No Result\" style=\"max-width: 50%; max-height: 200px\">\n",
       "            </div>\n",
       "            <p>No Result</p>\n",
       "          </div>\n",
       "        </div>\n",
       "    \n",
       "        <div style=\"display: flex;\">\n",
       "          <!-- Left column -->\n",
       "          <div style=\"flex: 1; margin-right: 20px;\">\n",
       "            <div>\n",
       "              <img src=\"http://images.bestbuy.com/BestBuy_US/images/products/4769/4769118_sc.jpg\" alt=\"Hard Candy Cases - Candy Convertible Laptop Case for 11\" Apple® MacBook® Air - White\" style=\"max-width: 50%; max-height: 200px\">\n",
       "            </div>\n",
       "            <p>Hard Candy Cases - Candy Convertible Laptop Case for 11\" Apple® MacBook® Air - White</p>\n",
       "          </div>\n",
       "          <!-- Right column -->\n",
       "          <div style=\"flex: 1; margin-left: 20px;\">\n",
       "            <div>\n",
       "              <img src=\"No Result\" alt=\"No Result\" style=\"max-width: 50%; max-height: 200px\">\n",
       "            </div>\n",
       "            <p>No Result</p>\n",
       "          </div>\n",
       "        </div>\n",
       "    \n",
       "        <div style=\"display: flex;\">\n",
       "          <!-- Left column -->\n",
       "          <div style=\"flex: 1; margin-right: 20px;\">\n",
       "            <div>\n",
       "              <img src=\"http://images.bestbuy.com/BestBuy_US/images/products/4769/4769127_rc.jpg\" alt=\"Hard Candy Cases - Candy Convertible Laptop Case for 13\" Apple® MacBook® Air - Red\" style=\"max-width: 50%; max-height: 200px\">\n",
       "            </div>\n",
       "            <p>Hard Candy Cases - Candy Convertible Laptop Case for 13\" Apple® MacBook® Air - Red</p>\n",
       "          </div>\n",
       "          <!-- Right column -->\n",
       "          <div style=\"flex: 1; margin-left: 20px;\">\n",
       "            <div>\n",
       "              <img src=\"No Result\" alt=\"No Result\" style=\"max-width: 50%; max-height: 200px\">\n",
       "            </div>\n",
       "            <p>No Result</p>\n",
       "          </div>\n",
       "        </div>\n",
       "    \n",
       "        <div style=\"display: flex;\">\n",
       "          <!-- Left column -->\n",
       "          <div style=\"flex: 1; margin-right: 20px;\">\n",
       "            <div>\n",
       "              <img src=\"http://images.bestbuy.com/BestBuy_US/images/products/4769/4769136_sc.jpg\" alt=\"Hard Candy Cases - Candy Convertible Laptop Case for 11\" Apple® MacBook® Air - Black\" style=\"max-width: 50%; max-height: 200px\">\n",
       "            </div>\n",
       "            <p>Hard Candy Cases - Candy Convertible Laptop Case for 11\" Apple® MacBook® Air - Black</p>\n",
       "          </div>\n",
       "          <!-- Right column -->\n",
       "          <div style=\"flex: 1; margin-left: 20px;\">\n",
       "            <div>\n",
       "              <img src=\"No Result\" alt=\"No Result\" style=\"max-width: 50%; max-height: 200px\">\n",
       "            </div>\n",
       "            <p>No Result</p>\n",
       "          </div>\n",
       "        </div>\n",
       "    \n",
       "        <div style=\"display: flex;\">\n",
       "          <!-- Left column -->\n",
       "          <div style=\"flex: 1; margin-right: 20px;\">\n",
       "            <div>\n",
       "              <img src=\"http://images.bestbuy.com/BestBuy_US/images/products/4769/4769224_sc.jpg\" alt=\"Hard Candy Cases - Candy Convertible Laptop Case for 13\" Apple® MacBook® Air - Black\" style=\"max-width: 50%; max-height: 200px\">\n",
       "            </div>\n",
       "            <p>Hard Candy Cases - Candy Convertible Laptop Case for 13\" Apple® MacBook® Air - Black</p>\n",
       "          </div>\n",
       "          <!-- Right column -->\n",
       "          <div style=\"flex: 1; margin-left: 20px;\">\n",
       "            <div>\n",
       "              <img src=\"No Result\" alt=\"No Result\" style=\"max-width: 50%; max-height: 200px\">\n",
       "            </div>\n",
       "            <p>No Result</p>\n",
       "          </div>\n",
       "        </div>\n",
       "    \n",
       "        <div style=\"display: flex;\">\n",
       "          <!-- Left column -->\n",
       "          <div style=\"flex: 1; margin-right: 20px;\">\n",
       "            <div>\n",
       "              <img src=\"http://images.bestbuy.com/BestBuy_US/images/products/4769/4769251_sc.jpg\" alt=\"Hard Candy Cases - Candy Convertible Laptop Case for 13\" Apple® MacBook® Air - White\" style=\"max-width: 50%; max-height: 200px\">\n",
       "            </div>\n",
       "            <p>Hard Candy Cases - Candy Convertible Laptop Case for 13\" Apple® MacBook® Air - White</p>\n",
       "          </div>\n",
       "          <!-- Right column -->\n",
       "          <div style=\"flex: 1; margin-left: 20px;\">\n",
       "            <div>\n",
       "              <img src=\"No Result\" alt=\"No Result\" style=\"max-width: 50%; max-height: 200px\">\n",
       "            </div>\n",
       "            <p>No Result</p>\n",
       "          </div>\n",
       "        </div>\n",
       "    "
      ],
      "text/plain": [
       "<IPython.core.display.HTML object>"
      ]
     },
     "execution_count": 103,
     "metadata": {},
     "output_type": "execute_result"
    }
   ],
   "source": [
    "query = 'candy'\n",
    "name, filtered_name, image_url, filtered_image_url = ['No Result'] * 4\n",
    "\n",
    "result = search(client=opensearch, index=index, user_query=query, query_filter=False)\n",
    "result_with_filter = search(client=opensearch, index=index, user_query=query, query_filter=True)\n",
    "\n",
    "html = ''\n",
    "for hit, filtered_hit in zip_longest(result['hits']['hits'], result_with_filter['hits']['hits']):\n",
    "    if hit is not None:\n",
    "        name, image_url = hit['_source']['name'][0],  hit['_source']['image'][0]\n",
    "    if filtered_hit is not None:\n",
    "        filtered_name, filtered_image_url = filtered_hit['_source']['name'][0], filtered_hit['_source']['image'][0]\n",
    "    logger.debug(f'Name: {name}, Filtered name: {filtered_name}')\n",
    "    logger.debug(f'Image URL: {image_url}, Filter image URL: {filtered_image_url}')\n",
    "    html += html_hit(name, filtered_name, image_url, filtered_image_url) \n",
    "\n",
    "logger.info('Left: Results without filter, Right: Results with query classification filter')\n",
    "HTML(html)"
   ]
  },
  {
   "cell_type": "code",
   "execution_count": null,
   "id": "d589f2ce",
   "metadata": {},
   "outputs": [],
   "source": []
  }
 ],
 "metadata": {
  "kernelspec": {
   "display_name": "Python 3 (ipykernel)",
   "language": "python",
   "name": "python3"
  },
  "language_info": {
   "codemirror_mode": {
    "name": "ipython",
    "version": 3
   },
   "file_extension": ".py",
   "mimetype": "text/x-python",
   "name": "python",
   "nbconvert_exporter": "python",
   "pygments_lexer": "ipython3",
   "version": "3.9.7"
  }
 },
 "nbformat": 4,
 "nbformat_minor": 5
}
